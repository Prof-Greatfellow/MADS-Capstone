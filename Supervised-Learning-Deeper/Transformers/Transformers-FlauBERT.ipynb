{
 "cells": [
  {
   "cell_type": "markdown",
   "metadata": {},
   "source": [
    "**Google Colab Required. Google Colab Pro Preferred.**"
   ]
  },
  {
   "cell_type": "code",
   "execution_count": 1,
   "metadata": {
    "colab": {
     "base_uri": "https://localhost:8080/"
    },
    "executionInfo": {
     "elapsed": 12268,
     "status": "ok",
     "timestamp": 1627605724647,
     "user": {
      "displayName": "Lin Di",
      "photoUrl": "",
      "userId": "02321472830486637167"
     },
     "user_tz": -480
    },
    "id": "8BV3ODrkkxa2",
    "outputId": "609a927f-4f95-42ae-8f4f-39915d21de15"
   },
   "outputs": [
    {
     "name": "stdout",
     "output_type": "stream",
     "text": [
      "Collecting transformers\n",
      "  Downloading transformers-4.9.1-py3-none-any.whl (2.6 MB)\n",
      "\u001b[K     |████████████████████████████████| 2.6 MB 4.2 MB/s \n",
      "\u001b[?25hRequirement already satisfied: packaging in /usr/local/lib/python3.7/dist-packages (from transformers) (21.0)\n",
      "Requirement already satisfied: requests in /usr/local/lib/python3.7/dist-packages (from transformers) (2.23.0)\n",
      "Requirement already satisfied: importlib-metadata in /usr/local/lib/python3.7/dist-packages (from transformers) (4.6.1)\n",
      "Requirement already satisfied: numpy>=1.17 in /usr/local/lib/python3.7/dist-packages (from transformers) (1.19.5)\n",
      "Collecting huggingface-hub==0.0.12\n",
      "  Downloading huggingface_hub-0.0.12-py3-none-any.whl (37 kB)\n",
      "Collecting pyyaml>=5.1\n",
      "  Downloading PyYAML-5.4.1-cp37-cp37m-manylinux1_x86_64.whl (636 kB)\n",
      "\u001b[K     |████████████████████████████████| 636 kB 56.2 MB/s \n",
      "\u001b[?25hRequirement already satisfied: regex!=2019.12.17 in /usr/local/lib/python3.7/dist-packages (from transformers) (2019.12.20)\n",
      "Collecting tokenizers<0.11,>=0.10.1\n",
      "  Downloading tokenizers-0.10.3-cp37-cp37m-manylinux_2_5_x86_64.manylinux1_x86_64.manylinux_2_12_x86_64.manylinux2010_x86_64.whl (3.3 MB)\n",
      "\u001b[K     |████████████████████████████████| 3.3 MB 65.5 MB/s \n",
      "\u001b[?25hRequirement already satisfied: tqdm>=4.27 in /usr/local/lib/python3.7/dist-packages (from transformers) (4.41.1)\n",
      "Collecting sacremoses\n",
      "  Downloading sacremoses-0.0.45-py3-none-any.whl (895 kB)\n",
      "\u001b[K     |████████████████████████████████| 895 kB 47.7 MB/s \n",
      "\u001b[?25hRequirement already satisfied: filelock in /usr/local/lib/python3.7/dist-packages (from transformers) (3.0.12)\n",
      "Requirement already satisfied: typing-extensions in /usr/local/lib/python3.7/dist-packages (from huggingface-hub==0.0.12->transformers) (3.7.4.3)\n",
      "Requirement already satisfied: pyparsing>=2.0.2 in /usr/local/lib/python3.7/dist-packages (from packaging->transformers) (2.4.7)\n",
      "Requirement already satisfied: zipp>=0.5 in /usr/local/lib/python3.7/dist-packages (from importlib-metadata->transformers) (3.5.0)\n",
      "Requirement already satisfied: urllib3!=1.25.0,!=1.25.1,<1.26,>=1.21.1 in /usr/local/lib/python3.7/dist-packages (from requests->transformers) (1.24.3)\n",
      "Requirement already satisfied: certifi>=2017.4.17 in /usr/local/lib/python3.7/dist-packages (from requests->transformers) (2021.5.30)\n",
      "Requirement already satisfied: chardet<4,>=3.0.2 in /usr/local/lib/python3.7/dist-packages (from requests->transformers) (3.0.4)\n",
      "Requirement already satisfied: idna<3,>=2.5 in /usr/local/lib/python3.7/dist-packages (from requests->transformers) (2.10)\n",
      "Requirement already satisfied: click in /usr/local/lib/python3.7/dist-packages (from sacremoses->transformers) (7.1.2)\n",
      "Requirement already satisfied: joblib in /usr/local/lib/python3.7/dist-packages (from sacremoses->transformers) (1.0.1)\n",
      "Requirement already satisfied: six in /usr/local/lib/python3.7/dist-packages (from sacremoses->transformers) (1.15.0)\n",
      "Installing collected packages: tokenizers, sacremoses, pyyaml, huggingface-hub, transformers\n",
      "  Attempting uninstall: pyyaml\n",
      "    Found existing installation: PyYAML 3.13\n",
      "    Uninstalling PyYAML-3.13:\n",
      "      Successfully uninstalled PyYAML-3.13\n",
      "Successfully installed huggingface-hub-0.0.12 pyyaml-5.4.1 sacremoses-0.0.45 tokenizers-0.10.3 transformers-4.9.1\n",
      "Collecting datasets\n",
      "  Downloading datasets-1.10.2-py3-none-any.whl (542 kB)\n",
      "\u001b[K     |████████████████████████████████| 542 kB 4.2 MB/s \n",
      "\u001b[?25hCollecting fsspec>=2021.05.0\n",
      "  Downloading fsspec-2021.7.0-py3-none-any.whl (118 kB)\n",
      "\u001b[K     |████████████████████████████████| 118 kB 44.2 MB/s \n",
      "\u001b[?25hRequirement already satisfied: packaging in /usr/local/lib/python3.7/dist-packages (from datasets) (21.0)\n",
      "Requirement already satisfied: dill in /usr/local/lib/python3.7/dist-packages (from datasets) (0.3.4)\n",
      "Requirement already satisfied: numpy>=1.17 in /usr/local/lib/python3.7/dist-packages (from datasets) (1.19.5)\n",
      "Requirement already satisfied: pyarrow!=4.0.0,>=1.0.0 in /usr/local/lib/python3.7/dist-packages (from datasets) (3.0.0)\n",
      "Requirement already satisfied: importlib-metadata in /usr/local/lib/python3.7/dist-packages (from datasets) (4.6.1)\n",
      "Requirement already satisfied: multiprocess in /usr/local/lib/python3.7/dist-packages (from datasets) (0.70.12.2)\n",
      "Collecting xxhash\n",
      "  Downloading xxhash-2.0.2-cp37-cp37m-manylinux2010_x86_64.whl (243 kB)\n",
      "\u001b[K     |████████████████████████████████| 243 kB 44.2 MB/s \n",
      "\u001b[?25hCollecting tqdm>=4.42\n",
      "  Downloading tqdm-4.61.2-py2.py3-none-any.whl (76 kB)\n",
      "\u001b[K     |████████████████████████████████| 76 kB 4.5 MB/s \n",
      "\u001b[?25hRequirement already satisfied: pandas in /usr/local/lib/python3.7/dist-packages (from datasets) (1.1.5)\n",
      "Requirement already satisfied: huggingface-hub<0.1.0 in /usr/local/lib/python3.7/dist-packages (from datasets) (0.0.12)\n",
      "Requirement already satisfied: requests>=2.19.0 in /usr/local/lib/python3.7/dist-packages (from datasets) (2.23.0)\n",
      "Requirement already satisfied: filelock in /usr/local/lib/python3.7/dist-packages (from huggingface-hub<0.1.0->datasets) (3.0.12)\n",
      "Requirement already satisfied: typing-extensions in /usr/local/lib/python3.7/dist-packages (from huggingface-hub<0.1.0->datasets) (3.7.4.3)\n",
      "Requirement already satisfied: pyparsing>=2.0.2 in /usr/local/lib/python3.7/dist-packages (from packaging->datasets) (2.4.7)\n",
      "Requirement already satisfied: certifi>=2017.4.17 in /usr/local/lib/python3.7/dist-packages (from requests>=2.19.0->datasets) (2021.5.30)\n",
      "Requirement already satisfied: chardet<4,>=3.0.2 in /usr/local/lib/python3.7/dist-packages (from requests>=2.19.0->datasets) (3.0.4)\n",
      "Requirement already satisfied: urllib3!=1.25.0,!=1.25.1,<1.26,>=1.21.1 in /usr/local/lib/python3.7/dist-packages (from requests>=2.19.0->datasets) (1.24.3)\n",
      "Requirement already satisfied: idna<3,>=2.5 in /usr/local/lib/python3.7/dist-packages (from requests>=2.19.0->datasets) (2.10)\n",
      "Requirement already satisfied: zipp>=0.5 in /usr/local/lib/python3.7/dist-packages (from importlib-metadata->datasets) (3.5.0)\n",
      "Requirement already satisfied: python-dateutil>=2.7.3 in /usr/local/lib/python3.7/dist-packages (from pandas->datasets) (2.8.1)\n",
      "Requirement already satisfied: pytz>=2017.2 in /usr/local/lib/python3.7/dist-packages (from pandas->datasets) (2018.9)\n",
      "Requirement already satisfied: six>=1.5 in /usr/local/lib/python3.7/dist-packages (from python-dateutil>=2.7.3->pandas->datasets) (1.15.0)\n",
      "Installing collected packages: tqdm, xxhash, fsspec, datasets\n",
      "  Attempting uninstall: tqdm\n",
      "    Found existing installation: tqdm 4.41.1\n",
      "    Uninstalling tqdm-4.41.1:\n",
      "      Successfully uninstalled tqdm-4.41.1\n",
      "Successfully installed datasets-1.10.2 fsspec-2021.7.0 tqdm-4.61.2 xxhash-2.0.2\n"
     ]
    }
   ],
   "source": [
    "!pip install transformers\n",
    "!pip install datasets"
   ]
  },
  {
   "cell_type": "code",
   "execution_count": 2,
   "metadata": {
    "colab": {
     "base_uri": "https://localhost:8080/"
    },
    "executionInfo": {
     "elapsed": 20601,
     "status": "ok",
     "timestamp": 1627605754003,
     "user": {
      "displayName": "Lin Di",
      "photoUrl": "",
      "userId": "02321472830486637167"
     },
     "user_tz": -480
    },
    "id": "rUL7CBRAk0Xd",
    "outputId": "0217d615-380b-412c-d911-886d4f7b843b"
   },
   "outputs": [
    {
     "name": "stdout",
     "output_type": "stream",
     "text": [
      "Mounted at /content/gdrive\n"
     ]
    }
   ],
   "source": [
    "from google.colab import drive\n",
    "drive.mount('/content/gdrive')"
   ]
  },
  {
   "cell_type": "code",
   "execution_count": 1,
   "metadata": {
    "executionInfo": {
     "elapsed": 545,
     "status": "ok",
     "timestamp": 1627606153720,
     "user": {
      "displayName": "Lin Di",
      "photoUrl": "",
      "userId": "02321472830486637167"
     },
     "user_tz": -480
    },
    "id": "egzB8750lgP_"
   },
   "outputs": [],
   "source": [
    "root_dir = \"gdrive/MyDrive/Capstone/\"\n",
    "\n",
    "pretrained = \"flaubert/flaubert_base_uncased\"\n",
    "model_checkpoint = pretrained\n",
    "tokenizer_checkpoint = pretrained\n",
    "\n",
    "num_labels = 10\n",
    "batch_size = 8"
   ]
  },
  {
   "cell_type": "code",
   "execution_count": 2,
   "metadata": {
    "executionInfo": {
     "elapsed": 3273,
     "status": "ok",
     "timestamp": 1627606158691,
     "user": {
      "displayName": "Lin Di",
      "photoUrl": "",
      "userId": "02321472830486637167"
     },
     "user_tz": -480
    },
    "id": "h75X6_wMk9b8"
   },
   "outputs": [],
   "source": [
    "from transformers import AutoTokenizer, AutoModelForSequenceClassification, TrainingArguments, Trainer\n",
    "from transformers import AdamW, get_scheduler\n",
    "\n",
    "import torch\n",
    "from torch.utils.data import DataLoader\n",
    "\n",
    "from datasets import load_dataset, load_metric, load_from_disk\n",
    "\n",
    "import pandas as pd\n",
    "import numpy as np\n",
    "from matplotlib import pyplot as plt\n",
    "\n",
    "from sklearn.metrics import accuracy_score, matthews_corrcoef, confusion_matrix, f1_score, precision_score, recall_score, roc_auc_score\n",
    "\n",
    "import pickle\n",
    "from tqdm.auto import tqdm"
   ]
  },
  {
   "cell_type": "code",
   "execution_count": 3,
   "metadata": {
    "colab": {
     "base_uri": "https://localhost:8080/"
    },
    "executionInfo": {
     "elapsed": 466,
     "status": "ok",
     "timestamp": 1627606159154,
     "user": {
      "displayName": "Lin Di",
      "photoUrl": "",
      "userId": "02321472830486637167"
     },
     "user_tz": -480
    },
    "id": "glMocgCVlRJj",
    "outputId": "e3ce4bea-b040-49a5-9912-8295ad79828b"
   },
   "outputs": [
    {
     "name": "stderr",
     "output_type": "stream",
     "text": [
      "Using custom data configuration default-863e501dda6703d2\n",
      "Reusing dataset csv (/root/.cache/huggingface/datasets/csv/default-863e501dda6703d2/0.0.0/9144e0a4e8435090117cea53e6c7537173ef2304525df4a077c435d8ee7828ff)\n"
     ]
    }
   ],
   "source": [
    "dataset = load_dataset('csv', data_files=root_dir + 'df_cleaned.csv', split='train')"
   ]
  },
  {
   "cell_type": "code",
   "execution_count": 4,
   "metadata": {
    "colab": {
     "base_uri": "https://localhost:8080/",
     "height": 119,
     "referenced_widgets": [
      "f3e36e68754d4a0fa35beac6be0b8c5a",
      "265556d8425149a9b34ae5f7d33aaeaa",
      "023d4a36d347433189e74fb5c78a7493",
      "dcedfc5404b54251b8b396cee92b5695",
      "c2850c6165b04637b06b2914b0ce7d46",
      "cc8e065cd20b4928a70d54d9f8b3d86c",
      "d479f9787af24b06b010c8dc4a476b73",
      "05132c160be942629ed1b7fe8d591ace",
      "3b8d9d2f36754104996c001a5e0c7dad",
      "3bd4e295740847fb852ce3eff2fef9b2",
      "4ab4b072663c49e18e95c3bcf1825eaf",
      "b6745d39f0a74bb69ff2787a96ae2524",
      "0ba1870d105c458d96e7297aba5d4634",
      "f6e56813c3cd49e4b5fcb03b446fbbe3",
      "3a53b3f60a154a86bda1c72ae4a54d97",
      "434267017d794d1db96471724be7b7d6",
      "5ba915602089445f8a4506e9b0eb7266",
      "7fd49264278f43bc84e93dab0a6d565b",
      "fd6a88d7538f48199b2129e703e9021e",
      "a415b1d073d64ee1ba80dd198cd55e15",
      "b447a872b33d40aebe1a20eb5ebf7c36",
      "afdc48dcc35c4e6da5db0d2d912ce8be"
     ]
    },
    "executionInfo": {
     "elapsed": 51920,
     "status": "ok",
     "timestamp": 1627606211072,
     "user": {
      "displayName": "Lin Di",
      "photoUrl": "",
      "userId": "02321472830486637167"
     },
     "user_tz": -480
    },
    "id": "9Lu0rnt3lXDh",
    "outputId": "e251dab9-b0f0-409d-c9ca-2e35e00241b6"
   },
   "outputs": [
    {
     "name": "stderr",
     "output_type": "stream",
     "text": [
      "Loading cached split indices for dataset at /root/.cache/huggingface/datasets/csv/default-863e501dda6703d2/0.0.0/9144e0a4e8435090117cea53e6c7537173ef2304525df4a077c435d8ee7828ff/cache-16cc27aa8ace637b.arrow and /root/.cache/huggingface/datasets/csv/default-863e501dda6703d2/0.0.0/9144e0a4e8435090117cea53e6c7537173ef2304525df4a077c435d8ee7828ff/cache-9287c69e8d270862.arrow\n"
     ]
    },
    {
     "data": {
      "application/vnd.jupyter.widget-view+json": {
       "model_id": "f3e36e68754d4a0fa35beac6be0b8c5a",
       "version_major": 2,
       "version_minor": 0
      },
      "text/plain": [
       "  0%|          | 0/69 [00:00<?, ?ba/s]"
      ]
     },
     "metadata": {
      "tags": []
     },
     "output_type": "display_data"
    },
    {
     "data": {
      "application/vnd.jupyter.widget-view+json": {
       "model_id": "b6745d39f0a74bb69ff2787a96ae2524",
       "version_major": 2,
       "version_minor": 0
      },
      "text/plain": [
       "  0%|          | 0/8 [00:00<?, ?ba/s]"
      ]
     },
     "metadata": {
      "tags": []
     },
     "output_type": "display_data"
    }
   ],
   "source": [
    "tokenizer = AutoTokenizer.from_pretrained(tokenizer_checkpoint)\n",
    "\n",
    "def tokenize_function(examples):\n",
    "    return tokenizer(examples[\"tweet_text_cleaned\"], padding=\"max_length\", truncation=True)\n",
    "\n",
    "tokenized_datasets = dataset.train_test_split(test_size=0.1).map(tokenize_function, batched=True)"
   ]
  },
  {
   "cell_type": "code",
   "execution_count": 5,
   "metadata": {
    "executionInfo": {
     "elapsed": 8,
     "status": "ok",
     "timestamp": 1627606211525,
     "user": {
      "displayName": "Lin Di",
      "photoUrl": "",
      "userId": "02321472830486637167"
     },
     "user_tz": -480
    },
    "id": "zrjOKKoPlb8Y"
   },
   "outputs": [],
   "source": [
    "tokenized_datasets = tokenized_datasets.remove_columns(['class_label', \n",
    "                                                        'data_type', \n",
    "                                                        'event',\n",
    "                                                        'event_type',\n",
    "                                                        'file_name',\n",
    "                                                        'hashtags',\n",
    "                                                        'processed_text_length',\n",
    "                                                        #'token_type_ids',\n",
    "                                                        'tweet_id',\n",
    "                                                        'tweet_text',\n",
    "                                                        'tweet_text_cleaned',\n",
    "                                                        'year'])\n",
    "tokenized_datasets = tokenized_datasets.rename_column(\"class_label_id\", \"labels\")\n",
    "tokenized_datasets.set_format(\"torch\")"
   ]
  },
  {
   "cell_type": "code",
   "execution_count": 6,
   "metadata": {
    "executionInfo": {
     "elapsed": 6,
     "status": "ok",
     "timestamp": 1627606211525,
     "user": {
      "displayName": "Lin Di",
      "photoUrl": "",
      "userId": "02321472830486637167"
     },
     "user_tz": -480
    },
    "id": "yyMyoop5pEQr"
   },
   "outputs": [],
   "source": [
    "small_train_dataset = tokenized_datasets[\"train\"].shuffle(seed=42).select(range(1000))\n",
    "small_eval_dataset = tokenized_datasets[\"test\"].shuffle(seed=42).select(range(1000))\n",
    "\n",
    "train_dataloader = DataLoader(small_train_dataset, shuffle=True, batch_size=batch_size)\n",
    "eval_dataloader = DataLoader(small_eval_dataset, batch_size=batch_size)"
   ]
  },
  {
   "cell_type": "code",
   "execution_count": 7,
   "metadata": {
    "colab": {
     "base_uri": "https://localhost:8080/"
    },
    "executionInfo": {
     "elapsed": 6745,
     "status": "ok",
     "timestamp": 1627606218265,
     "user": {
      "displayName": "Lin Di",
      "photoUrl": "",
      "userId": "02321472830486637167"
     },
     "user_tz": -480
    },
    "id": "2ApiGf0ZpIzF",
    "outputId": "de7e7ca3-7567-4279-ac98-c02f4e1fd963"
   },
   "outputs": [
    {
     "name": "stderr",
     "output_type": "stream",
     "text": [
      "Some weights of the model checkpoint at flaubert/flaubert_base_uncased were not used when initializing FlaubertForSequenceClassification: ['pred_layer.proj.bias', 'pred_layer.proj.weight']\n",
      "- This IS expected if you are initializing FlaubertForSequenceClassification from the checkpoint of a model trained on another task or with another architecture (e.g. initializing a BertForSequenceClassification model from a BertForPreTraining model).\n",
      "- This IS NOT expected if you are initializing FlaubertForSequenceClassification from the checkpoint of a model that you expect to be exactly identical (initializing a BertForSequenceClassification model from a BertForSequenceClassification model).\n",
      "Some weights of FlaubertForSequenceClassification were not initialized from the model checkpoint at flaubert/flaubert_base_uncased and are newly initialized: ['transformer.position_ids', 'sequence_summary.summary.bias', 'sequence_summary.summary.weight']\n",
      "You should probably TRAIN this model on a down-stream task to be able to use it for predictions and inference.\n"
     ]
    },
    {
     "data": {
      "text/plain": [
       "FlaubertForSequenceClassification(\n",
       "  (transformer): FlaubertModel(\n",
       "    (position_embeddings): Embedding(512, 768)\n",
       "    (embeddings): Embedding(67542, 768, padding_idx=2)\n",
       "    (layer_norm_emb): LayerNorm((768,), eps=1e-12, elementwise_affine=True)\n",
       "    (attentions): ModuleList(\n",
       "      (0): MultiHeadAttention(\n",
       "        (q_lin): Linear(in_features=768, out_features=768, bias=True)\n",
       "        (k_lin): Linear(in_features=768, out_features=768, bias=True)\n",
       "        (v_lin): Linear(in_features=768, out_features=768, bias=True)\n",
       "        (out_lin): Linear(in_features=768, out_features=768, bias=True)\n",
       "      )\n",
       "      (1): MultiHeadAttention(\n",
       "        (q_lin): Linear(in_features=768, out_features=768, bias=True)\n",
       "        (k_lin): Linear(in_features=768, out_features=768, bias=True)\n",
       "        (v_lin): Linear(in_features=768, out_features=768, bias=True)\n",
       "        (out_lin): Linear(in_features=768, out_features=768, bias=True)\n",
       "      )\n",
       "      (2): MultiHeadAttention(\n",
       "        (q_lin): Linear(in_features=768, out_features=768, bias=True)\n",
       "        (k_lin): Linear(in_features=768, out_features=768, bias=True)\n",
       "        (v_lin): Linear(in_features=768, out_features=768, bias=True)\n",
       "        (out_lin): Linear(in_features=768, out_features=768, bias=True)\n",
       "      )\n",
       "      (3): MultiHeadAttention(\n",
       "        (q_lin): Linear(in_features=768, out_features=768, bias=True)\n",
       "        (k_lin): Linear(in_features=768, out_features=768, bias=True)\n",
       "        (v_lin): Linear(in_features=768, out_features=768, bias=True)\n",
       "        (out_lin): Linear(in_features=768, out_features=768, bias=True)\n",
       "      )\n",
       "      (4): MultiHeadAttention(\n",
       "        (q_lin): Linear(in_features=768, out_features=768, bias=True)\n",
       "        (k_lin): Linear(in_features=768, out_features=768, bias=True)\n",
       "        (v_lin): Linear(in_features=768, out_features=768, bias=True)\n",
       "        (out_lin): Linear(in_features=768, out_features=768, bias=True)\n",
       "      )\n",
       "      (5): MultiHeadAttention(\n",
       "        (q_lin): Linear(in_features=768, out_features=768, bias=True)\n",
       "        (k_lin): Linear(in_features=768, out_features=768, bias=True)\n",
       "        (v_lin): Linear(in_features=768, out_features=768, bias=True)\n",
       "        (out_lin): Linear(in_features=768, out_features=768, bias=True)\n",
       "      )\n",
       "      (6): MultiHeadAttention(\n",
       "        (q_lin): Linear(in_features=768, out_features=768, bias=True)\n",
       "        (k_lin): Linear(in_features=768, out_features=768, bias=True)\n",
       "        (v_lin): Linear(in_features=768, out_features=768, bias=True)\n",
       "        (out_lin): Linear(in_features=768, out_features=768, bias=True)\n",
       "      )\n",
       "      (7): MultiHeadAttention(\n",
       "        (q_lin): Linear(in_features=768, out_features=768, bias=True)\n",
       "        (k_lin): Linear(in_features=768, out_features=768, bias=True)\n",
       "        (v_lin): Linear(in_features=768, out_features=768, bias=True)\n",
       "        (out_lin): Linear(in_features=768, out_features=768, bias=True)\n",
       "      )\n",
       "      (8): MultiHeadAttention(\n",
       "        (q_lin): Linear(in_features=768, out_features=768, bias=True)\n",
       "        (k_lin): Linear(in_features=768, out_features=768, bias=True)\n",
       "        (v_lin): Linear(in_features=768, out_features=768, bias=True)\n",
       "        (out_lin): Linear(in_features=768, out_features=768, bias=True)\n",
       "      )\n",
       "      (9): MultiHeadAttention(\n",
       "        (q_lin): Linear(in_features=768, out_features=768, bias=True)\n",
       "        (k_lin): Linear(in_features=768, out_features=768, bias=True)\n",
       "        (v_lin): Linear(in_features=768, out_features=768, bias=True)\n",
       "        (out_lin): Linear(in_features=768, out_features=768, bias=True)\n",
       "      )\n",
       "      (10): MultiHeadAttention(\n",
       "        (q_lin): Linear(in_features=768, out_features=768, bias=True)\n",
       "        (k_lin): Linear(in_features=768, out_features=768, bias=True)\n",
       "        (v_lin): Linear(in_features=768, out_features=768, bias=True)\n",
       "        (out_lin): Linear(in_features=768, out_features=768, bias=True)\n",
       "      )\n",
       "      (11): MultiHeadAttention(\n",
       "        (q_lin): Linear(in_features=768, out_features=768, bias=True)\n",
       "        (k_lin): Linear(in_features=768, out_features=768, bias=True)\n",
       "        (v_lin): Linear(in_features=768, out_features=768, bias=True)\n",
       "        (out_lin): Linear(in_features=768, out_features=768, bias=True)\n",
       "      )\n",
       "    )\n",
       "    (layer_norm1): ModuleList(\n",
       "      (0): LayerNorm((768,), eps=1e-12, elementwise_affine=True)\n",
       "      (1): LayerNorm((768,), eps=1e-12, elementwise_affine=True)\n",
       "      (2): LayerNorm((768,), eps=1e-12, elementwise_affine=True)\n",
       "      (3): LayerNorm((768,), eps=1e-12, elementwise_affine=True)\n",
       "      (4): LayerNorm((768,), eps=1e-12, elementwise_affine=True)\n",
       "      (5): LayerNorm((768,), eps=1e-12, elementwise_affine=True)\n",
       "      (6): LayerNorm((768,), eps=1e-12, elementwise_affine=True)\n",
       "      (7): LayerNorm((768,), eps=1e-12, elementwise_affine=True)\n",
       "      (8): LayerNorm((768,), eps=1e-12, elementwise_affine=True)\n",
       "      (9): LayerNorm((768,), eps=1e-12, elementwise_affine=True)\n",
       "      (10): LayerNorm((768,), eps=1e-12, elementwise_affine=True)\n",
       "      (11): LayerNorm((768,), eps=1e-12, elementwise_affine=True)\n",
       "    )\n",
       "    (ffns): ModuleList(\n",
       "      (0): TransformerFFN(\n",
       "        (lin1): Linear(in_features=768, out_features=3072, bias=True)\n",
       "        (lin2): Linear(in_features=3072, out_features=768, bias=True)\n",
       "      )\n",
       "      (1): TransformerFFN(\n",
       "        (lin1): Linear(in_features=768, out_features=3072, bias=True)\n",
       "        (lin2): Linear(in_features=3072, out_features=768, bias=True)\n",
       "      )\n",
       "      (2): TransformerFFN(\n",
       "        (lin1): Linear(in_features=768, out_features=3072, bias=True)\n",
       "        (lin2): Linear(in_features=3072, out_features=768, bias=True)\n",
       "      )\n",
       "      (3): TransformerFFN(\n",
       "        (lin1): Linear(in_features=768, out_features=3072, bias=True)\n",
       "        (lin2): Linear(in_features=3072, out_features=768, bias=True)\n",
       "      )\n",
       "      (4): TransformerFFN(\n",
       "        (lin1): Linear(in_features=768, out_features=3072, bias=True)\n",
       "        (lin2): Linear(in_features=3072, out_features=768, bias=True)\n",
       "      )\n",
       "      (5): TransformerFFN(\n",
       "        (lin1): Linear(in_features=768, out_features=3072, bias=True)\n",
       "        (lin2): Linear(in_features=3072, out_features=768, bias=True)\n",
       "      )\n",
       "      (6): TransformerFFN(\n",
       "        (lin1): Linear(in_features=768, out_features=3072, bias=True)\n",
       "        (lin2): Linear(in_features=3072, out_features=768, bias=True)\n",
       "      )\n",
       "      (7): TransformerFFN(\n",
       "        (lin1): Linear(in_features=768, out_features=3072, bias=True)\n",
       "        (lin2): Linear(in_features=3072, out_features=768, bias=True)\n",
       "      )\n",
       "      (8): TransformerFFN(\n",
       "        (lin1): Linear(in_features=768, out_features=3072, bias=True)\n",
       "        (lin2): Linear(in_features=3072, out_features=768, bias=True)\n",
       "      )\n",
       "      (9): TransformerFFN(\n",
       "        (lin1): Linear(in_features=768, out_features=3072, bias=True)\n",
       "        (lin2): Linear(in_features=3072, out_features=768, bias=True)\n",
       "      )\n",
       "      (10): TransformerFFN(\n",
       "        (lin1): Linear(in_features=768, out_features=3072, bias=True)\n",
       "        (lin2): Linear(in_features=3072, out_features=768, bias=True)\n",
       "      )\n",
       "      (11): TransformerFFN(\n",
       "        (lin1): Linear(in_features=768, out_features=3072, bias=True)\n",
       "        (lin2): Linear(in_features=3072, out_features=768, bias=True)\n",
       "      )\n",
       "    )\n",
       "    (layer_norm2): ModuleList(\n",
       "      (0): LayerNorm((768,), eps=1e-12, elementwise_affine=True)\n",
       "      (1): LayerNorm((768,), eps=1e-12, elementwise_affine=True)\n",
       "      (2): LayerNorm((768,), eps=1e-12, elementwise_affine=True)\n",
       "      (3): LayerNorm((768,), eps=1e-12, elementwise_affine=True)\n",
       "      (4): LayerNorm((768,), eps=1e-12, elementwise_affine=True)\n",
       "      (5): LayerNorm((768,), eps=1e-12, elementwise_affine=True)\n",
       "      (6): LayerNorm((768,), eps=1e-12, elementwise_affine=True)\n",
       "      (7): LayerNorm((768,), eps=1e-12, elementwise_affine=True)\n",
       "      (8): LayerNorm((768,), eps=1e-12, elementwise_affine=True)\n",
       "      (9): LayerNorm((768,), eps=1e-12, elementwise_affine=True)\n",
       "      (10): LayerNorm((768,), eps=1e-12, elementwise_affine=True)\n",
       "      (11): LayerNorm((768,), eps=1e-12, elementwise_affine=True)\n",
       "    )\n",
       "  )\n",
       "  (sequence_summary): SequenceSummary(\n",
       "    (summary): Linear(in_features=768, out_features=10, bias=True)\n",
       "    (activation): Identity()\n",
       "    (first_dropout): Dropout(p=0.1, inplace=False)\n",
       "    (last_dropout): Identity()\n",
       "  )\n",
       ")"
      ]
     },
     "execution_count": 7,
     "metadata": {
      "tags": []
     },
     "output_type": "execute_result"
    }
   ],
   "source": [
    "model = AutoModelForSequenceClassification.from_pretrained(model_checkpoint, num_labels=num_labels)\n",
    "device = torch.device(\"cuda\") if torch.cuda.is_available() else torch.device(\"cpu\")\n",
    "model.to(device)"
   ]
  },
  {
   "cell_type": "code",
   "execution_count": 8,
   "metadata": {
    "colab": {
     "base_uri": "https://localhost:8080/"
    },
    "executionInfo": {
     "elapsed": 36,
     "status": "ok",
     "timestamp": 1627606218267,
     "user": {
      "displayName": "Lin Di",
      "photoUrl": "",
      "userId": "02321472830486637167"
     },
     "user_tz": -480
    },
    "id": "eKnxH7GhdS-1",
    "outputId": "1c104666-c4b3-45a1-f0ca-ce4765dd30f4"
   },
   "outputs": [
    {
     "data": {
      "text/plain": [
       "device(type='cuda')"
      ]
     },
     "execution_count": 8,
     "metadata": {
      "tags": []
     },
     "output_type": "execute_result"
    }
   ],
   "source": [
    "device"
   ]
  },
  {
   "cell_type": "code",
   "execution_count": 12,
   "metadata": {
    "executionInfo": {
     "elapsed": 465,
     "status": "ok",
     "timestamp": 1627605894282,
     "user": {
      "displayName": "Lin Di",
      "photoUrl": "",
      "userId": "02321472830486637167"
     },
     "user_tz": -480
    },
    "id": "6FjhVCC7pSF7"
   },
   "outputs": [],
   "source": [
    "optimizer = AdamW(model.parameters(), lr=5e-5)\n",
    "\n",
    "num_epochs = 3\n",
    "num_training_steps = num_epochs * len(train_dataloader)\n",
    "lr_scheduler = get_scheduler(\n",
    "    \"linear\",\n",
    "    optimizer=optimizer,\n",
    "    num_warmup_steps=0,\n",
    "    num_training_steps=num_training_steps\n",
    ")"
   ]
  },
  {
   "cell_type": "code",
   "execution_count": 13,
   "metadata": {
    "colab": {
     "base_uri": "https://localhost:8080/",
     "height": 49,
     "referenced_widgets": [
      "3b35af1be3b04b549c78df855eec8daf",
      "1f606e08d45043a6b31d9078602de029",
      "062f10dcf8d34b4ba446a940adc23d20",
      "23d97fe57cdb44b6b74be6c3d8874506",
      "925a0d4aa8c7431f99737f3eec4102b7",
      "877f80ea9b5a469b9c93d752bde0d621",
      "f5d6f3824c5c4570a168dd236978484a",
      "e0f1aa6f60ec4f69b9314916835d5e8e",
      "530fdd13db8a42c5ba6185d7b7efdb9e",
      "c1414d5712ae4ecea92da58878752fb4",
      "d59b4f99dd244582a95d75bdf82ef0e5"
     ]
    },
    "executionInfo": {
     "elapsed": 162352,
     "status": "ok",
     "timestamp": 1627606058519,
     "user": {
      "displayName": "Lin Di",
      "photoUrl": "",
      "userId": "02321472830486637167"
     },
     "user_tz": -480
    },
    "id": "cdhiCGqWpZMM",
    "outputId": "07939277-fa7f-4cc9-ab41-58c1a3930294"
   },
   "outputs": [
    {
     "data": {
      "application/vnd.jupyter.widget-view+json": {
       "model_id": "3b35af1be3b04b549c78df855eec8daf",
       "version_major": 2,
       "version_minor": 0
      },
      "text/plain": [
       "  0%|          | 0/189 [00:00<?, ?it/s]"
      ]
     },
     "metadata": {
      "tags": []
     },
     "output_type": "display_data"
    }
   ],
   "source": [
    "progress_bar = tqdm(range(num_training_steps))\n",
    "\n",
    "model.train()\n",
    "for epoch in range(num_epochs):\n",
    "    for batch in train_dataloader:\n",
    "        batch = {k: v.to(device) for k, v in batch.items()}\n",
    "        outputs = model(**batch)\n",
    "        loss = outputs.loss\n",
    "        loss.backward()\n",
    "\n",
    "        optimizer.step()\n",
    "        lr_scheduler.step()\n",
    "        optimizer.zero_grad()\n",
    "        progress_bar.update(1)"
   ]
  },
  {
   "cell_type": "code",
   "execution_count": 14,
   "metadata": {
    "colab": {
     "base_uri": "https://localhost:8080/",
     "height": 67,
     "referenced_widgets": [
      "daef1eac770d41409f745dfeccef1113",
      "c498b7cea52d47d28f34bdac471c7dcd",
      "5666f4ca20984167b9f6a0865773fd36",
      "bcc8a9344c7a468095ecf53c72eecb62",
      "b11b9f9c2d0044029578e7c2ec269ad0",
      "8ff9ae4d6a79442f94522c5aaf2ce8ef",
      "d9af8d1961324672914296e0015530b9",
      "6c980e39b75c424ab089db8e2e96d96f",
      "ac62b8010cd649d0a9f2eea6dbf27ef8",
      "7519b0f1bf7743f0b7139792d9b2ebc9",
      "b0b09b7c103946c0a1641504269d2dbd"
     ]
    },
    "executionInfo": {
     "elapsed": 19893,
     "status": "ok",
     "timestamp": 1627606114321,
     "user": {
      "displayName": "Lin Di",
      "photoUrl": "",
      "userId": "02321472830486637167"
     },
     "user_tz": -480
    },
    "id": "kfPBE1tEpbkj",
    "outputId": "e8add32e-4401-4414-b78c-96dc978f132d"
   },
   "outputs": [
    {
     "data": {
      "application/vnd.jupyter.widget-view+json": {
       "model_id": "daef1eac770d41409f745dfeccef1113",
       "version_major": 2,
       "version_minor": 0
      },
      "text/plain": [
       "Downloading:   0%|          | 0.00/1.42k [00:00<?, ?B/s]"
      ]
     },
     "metadata": {
      "tags": []
     },
     "output_type": "display_data"
    },
    {
     "data": {
      "text/plain": [
       "{'accuracy': 0.306}"
      ]
     },
     "execution_count": 14,
     "metadata": {
      "tags": []
     },
     "output_type": "execute_result"
    }
   ],
   "source": [
    "metric= load_metric(\"accuracy\")\n",
    "model.eval()\n",
    "for batch in eval_dataloader:\n",
    "    batch = {k: v.to(device) for k, v in batch.items()}\n",
    "    with torch.no_grad():\n",
    "        outputs = model(**batch)\n",
    "\n",
    "    logits = outputs.logits\n",
    "    predictions = torch.argmax(logits, dim=-1)\n",
    "    metric.add_batch(predictions=predictions, references=batch[\"labels\"])\n",
    "\n",
    "metric.compute()"
   ]
  },
  {
   "cell_type": "code",
   "execution_count": 9,
   "metadata": {
    "executionInfo": {
     "elapsed": 35,
     "status": "ok",
     "timestamp": 1627606218271,
     "user": {
      "displayName": "Lin Di",
      "photoUrl": "",
      "userId": "02321472830486637167"
     },
     "user_tz": -480
    },
    "id": "v3BpjLav1VAa"
   },
   "outputs": [],
   "source": [
    "metric_name = \"accuracy\"\n",
    "\n",
    "args = TrainingArguments(\n",
    "    \"capstone_\"+pretrained.split('/')[-1],\n",
    "    evaluation_strategy = \"epoch\",\n",
    "    learning_rate=2e-5,\n",
    "    per_device_train_batch_size=batch_size,\n",
    "    per_device_eval_batch_size=batch_size,\n",
    "    num_train_epochs=3,\n",
    "    weight_decay=0.01,\n",
    "    metric_for_best_model=metric_name,\n",
    ")"
   ]
  },
  {
   "cell_type": "code",
   "execution_count": 10,
   "metadata": {
    "executionInfo": {
     "elapsed": 1284,
     "status": "ok",
     "timestamp": 1627606219522,
     "user": {
      "displayName": "Lin Di",
      "photoUrl": "",
      "userId": "02321472830486637167"
     },
     "user_tz": -480
    },
    "id": "rmPOuYm43unA"
   },
   "outputs": [],
   "source": [
    "metric= load_metric(\"accuracy\")\n",
    "def compute_metrics(eval_pred):\n",
    "    logits, labels = eval_pred\n",
    "    predictions = np.argmax(logits, axis=1)\n",
    "    return metric.compute(predictions=predictions, references=labels)"
   ]
  },
  {
   "cell_type": "code",
   "execution_count": 11,
   "metadata": {
    "executionInfo": {
     "elapsed": 17,
     "status": "ok",
     "timestamp": 1627606219524,
     "user": {
      "displayName": "Lin Di",
      "photoUrl": "",
      "userId": "02321472830486637167"
     },
     "user_tz": -480
    },
    "id": "EUHq9gD13-QK"
   },
   "outputs": [],
   "source": [
    "trainer = Trainer(\n",
    "    model,\n",
    "    args,\n",
    "    train_dataset=tokenized_datasets[\"train\"],\n",
    "    eval_dataset=tokenized_datasets[\"test\"],\n",
    "    tokenizer=tokenizer,\n",
    "    compute_metrics=compute_metrics\n",
    ")"
   ]
  },
  {
   "cell_type": "code",
   "execution_count": 12,
   "metadata": {
    "colab": {
     "base_uri": "https://localhost:8080/",
     "height": 1000
    },
    "executionInfo": {
     "elapsed": 11408776,
     "status": "ok",
     "timestamp": 1627619081329,
     "user": {
      "displayName": "Lin Di",
      "photoUrl": "",
      "userId": "02321472830486637167"
     },
     "user_tz": -480
    },
    "id": "ujcllY8c4JNK",
    "outputId": "53921087-ed83-4024-c28b-6edc71d79b28"
   },
   "outputs": [
    {
     "name": "stderr",
     "output_type": "stream",
     "text": [
      "***** Running training *****\n",
      "  Num examples = 68834\n",
      "  Num Epochs = 3\n",
      "  Instantaneous batch size per device = 8\n",
      "  Total train batch size (w. parallel, distributed & accumulation) = 8\n",
      "  Gradient Accumulation steps = 1\n",
      "  Total optimization steps = 25815\n"
     ]
    },
    {
     "data": {
      "text/html": [
       "\n",
       "    <div>\n",
       "      \n",
       "      <progress value='3016' max='25815' style='width:300px; height:20px; vertical-align: middle;'></progress>\n",
       "      [ 3016/25815 24:12 < 3:03:06, 2.08 it/s, Epoch 0.35/3]\n",
       "    </div>\n",
       "    <table border=\"1\" class=\"dataframe\">\n",
       "  <thead>\n",
       "    <tr style=\"text-align: left;\">\n",
       "      <th>Epoch</th>\n",
       "      <th>Training Loss</th>\n",
       "      <th>Validation Loss</th>\n",
       "    </tr>\n",
       "  </thead>\n",
       "  <tbody>\n",
       "  </tbody>\n",
       "</table><p>"
      ],
      "text/plain": [
       "<IPython.core.display.HTML object>"
      ]
     },
     "metadata": {
      "tags": []
     },
     "output_type": "display_data"
    },
    {
     "name": "stderr",
     "output_type": "stream",
     "text": [
      "Saving model checkpoint to capstone_flaubert_base_uncased/checkpoint-500\n",
      "Configuration saved in capstone_flaubert_base_uncased/checkpoint-500/config.json\n",
      "Model weights saved in capstone_flaubert_base_uncased/checkpoint-500/pytorch_model.bin\n",
      "tokenizer config file saved in capstone_flaubert_base_uncased/checkpoint-500/tokenizer_config.json\n",
      "Special tokens file saved in capstone_flaubert_base_uncased/checkpoint-500/special_tokens_map.json\n",
      "Saving model checkpoint to capstone_flaubert_base_uncased/checkpoint-1000\n",
      "Configuration saved in capstone_flaubert_base_uncased/checkpoint-1000/config.json\n",
      "Model weights saved in capstone_flaubert_base_uncased/checkpoint-1000/pytorch_model.bin\n",
      "tokenizer config file saved in capstone_flaubert_base_uncased/checkpoint-1000/tokenizer_config.json\n",
      "Special tokens file saved in capstone_flaubert_base_uncased/checkpoint-1000/special_tokens_map.json\n",
      "Saving model checkpoint to capstone_flaubert_base_uncased/checkpoint-1500\n",
      "Configuration saved in capstone_flaubert_base_uncased/checkpoint-1500/config.json\n",
      "Model weights saved in capstone_flaubert_base_uncased/checkpoint-1500/pytorch_model.bin\n",
      "tokenizer config file saved in capstone_flaubert_base_uncased/checkpoint-1500/tokenizer_config.json\n",
      "Special tokens file saved in capstone_flaubert_base_uncased/checkpoint-1500/special_tokens_map.json\n",
      "Saving model checkpoint to capstone_flaubert_base_uncased/checkpoint-2000\n",
      "Configuration saved in capstone_flaubert_base_uncased/checkpoint-2000/config.json\n",
      "Model weights saved in capstone_flaubert_base_uncased/checkpoint-2000/pytorch_model.bin\n",
      "tokenizer config file saved in capstone_flaubert_base_uncased/checkpoint-2000/tokenizer_config.json\n",
      "Special tokens file saved in capstone_flaubert_base_uncased/checkpoint-2000/special_tokens_map.json\n",
      "Saving model checkpoint to capstone_flaubert_base_uncased/checkpoint-2500\n",
      "Configuration saved in capstone_flaubert_base_uncased/checkpoint-2500/config.json\n",
      "Model weights saved in capstone_flaubert_base_uncased/checkpoint-2500/pytorch_model.bin\n",
      "tokenizer config file saved in capstone_flaubert_base_uncased/checkpoint-2500/tokenizer_config.json\n",
      "Special tokens file saved in capstone_flaubert_base_uncased/checkpoint-2500/special_tokens_map.json\n",
      "Saving model checkpoint to capstone_flaubert_base_uncased/checkpoint-3000\n",
      "Configuration saved in capstone_flaubert_base_uncased/checkpoint-3000/config.json\n",
      "Model weights saved in capstone_flaubert_base_uncased/checkpoint-3000/pytorch_model.bin\n",
      "tokenizer config file saved in capstone_flaubert_base_uncased/checkpoint-3000/tokenizer_config.json\n",
      "Special tokens file saved in capstone_flaubert_base_uncased/checkpoint-3000/special_tokens_map.json\n"
     ]
    },
    {
     "data": {
      "text/html": [
       "\n",
       "    <div>\n",
       "      \n",
       "      <progress value='25815' max='25815' style='width:300px; height:20px; vertical-align: middle;'></progress>\n",
       "      [25815/25815 3:34:21, Epoch 3/3]\n",
       "    </div>\n",
       "    <table border=\"1\" class=\"dataframe\">\n",
       "  <thead>\n",
       "    <tr style=\"text-align: left;\">\n",
       "      <th>Epoch</th>\n",
       "      <th>Training Loss</th>\n",
       "      <th>Validation Loss</th>\n",
       "      <th>Accuracy</th>\n",
       "    </tr>\n",
       "  </thead>\n",
       "  <tbody>\n",
       "    <tr>\n",
       "      <td>1</td>\n",
       "      <td>2.063400</td>\n",
       "      <td>2.064893</td>\n",
       "      <td>0.275853</td>\n",
       "    </tr>\n",
       "    <tr>\n",
       "      <td>2</td>\n",
       "      <td>1.320100</td>\n",
       "      <td>1.450414</td>\n",
       "      <td>0.539155</td>\n",
       "    </tr>\n",
       "    <tr>\n",
       "      <td>3</td>\n",
       "      <td>1.061200</td>\n",
       "      <td>1.096720</td>\n",
       "      <td>0.654072</td>\n",
       "    </tr>\n",
       "  </tbody>\n",
       "</table><p>"
      ],
      "text/plain": [
       "<IPython.core.display.HTML object>"
      ]
     },
     "metadata": {
      "tags": []
     },
     "output_type": "display_data"
    },
    {
     "name": "stderr",
     "output_type": "stream",
     "text": [
      "Saving model checkpoint to capstone_flaubert_base_uncased/checkpoint-3500\n",
      "Configuration saved in capstone_flaubert_base_uncased/checkpoint-3500/config.json\n",
      "Model weights saved in capstone_flaubert_base_uncased/checkpoint-3500/pytorch_model.bin\n",
      "tokenizer config file saved in capstone_flaubert_base_uncased/checkpoint-3500/tokenizer_config.json\n",
      "Special tokens file saved in capstone_flaubert_base_uncased/checkpoint-3500/special_tokens_map.json\n",
      "Saving model checkpoint to capstone_flaubert_base_uncased/checkpoint-4000\n",
      "Configuration saved in capstone_flaubert_base_uncased/checkpoint-4000/config.json\n",
      "Model weights saved in capstone_flaubert_base_uncased/checkpoint-4000/pytorch_model.bin\n",
      "tokenizer config file saved in capstone_flaubert_base_uncased/checkpoint-4000/tokenizer_config.json\n",
      "Special tokens file saved in capstone_flaubert_base_uncased/checkpoint-4000/special_tokens_map.json\n",
      "Saving model checkpoint to capstone_flaubert_base_uncased/checkpoint-4500\n",
      "Configuration saved in capstone_flaubert_base_uncased/checkpoint-4500/config.json\n",
      "Model weights saved in capstone_flaubert_base_uncased/checkpoint-4500/pytorch_model.bin\n",
      "tokenizer config file saved in capstone_flaubert_base_uncased/checkpoint-4500/tokenizer_config.json\n",
      "Special tokens file saved in capstone_flaubert_base_uncased/checkpoint-4500/special_tokens_map.json\n",
      "Saving model checkpoint to capstone_flaubert_base_uncased/checkpoint-5000\n",
      "Configuration saved in capstone_flaubert_base_uncased/checkpoint-5000/config.json\n",
      "Model weights saved in capstone_flaubert_base_uncased/checkpoint-5000/pytorch_model.bin\n",
      "tokenizer config file saved in capstone_flaubert_base_uncased/checkpoint-5000/tokenizer_config.json\n",
      "Special tokens file saved in capstone_flaubert_base_uncased/checkpoint-5000/special_tokens_map.json\n",
      "Saving model checkpoint to capstone_flaubert_base_uncased/checkpoint-5500\n",
      "Configuration saved in capstone_flaubert_base_uncased/checkpoint-5500/config.json\n",
      "Model weights saved in capstone_flaubert_base_uncased/checkpoint-5500/pytorch_model.bin\n",
      "tokenizer config file saved in capstone_flaubert_base_uncased/checkpoint-5500/tokenizer_config.json\n",
      "Special tokens file saved in capstone_flaubert_base_uncased/checkpoint-5500/special_tokens_map.json\n",
      "Saving model checkpoint to capstone_flaubert_base_uncased/checkpoint-6000\n",
      "Configuration saved in capstone_flaubert_base_uncased/checkpoint-6000/config.json\n",
      "Model weights saved in capstone_flaubert_base_uncased/checkpoint-6000/pytorch_model.bin\n",
      "tokenizer config file saved in capstone_flaubert_base_uncased/checkpoint-6000/tokenizer_config.json\n",
      "Special tokens file saved in capstone_flaubert_base_uncased/checkpoint-6000/special_tokens_map.json\n",
      "Saving model checkpoint to capstone_flaubert_base_uncased/checkpoint-6500\n",
      "Configuration saved in capstone_flaubert_base_uncased/checkpoint-6500/config.json\n",
      "Model weights saved in capstone_flaubert_base_uncased/checkpoint-6500/pytorch_model.bin\n",
      "tokenizer config file saved in capstone_flaubert_base_uncased/checkpoint-6500/tokenizer_config.json\n",
      "Special tokens file saved in capstone_flaubert_base_uncased/checkpoint-6500/special_tokens_map.json\n",
      "Saving model checkpoint to capstone_flaubert_base_uncased/checkpoint-7000\n",
      "Configuration saved in capstone_flaubert_base_uncased/checkpoint-7000/config.json\n",
      "Model weights saved in capstone_flaubert_base_uncased/checkpoint-7000/pytorch_model.bin\n",
      "tokenizer config file saved in capstone_flaubert_base_uncased/checkpoint-7000/tokenizer_config.json\n",
      "Special tokens file saved in capstone_flaubert_base_uncased/checkpoint-7000/special_tokens_map.json\n",
      "Saving model checkpoint to capstone_flaubert_base_uncased/checkpoint-7500\n",
      "Configuration saved in capstone_flaubert_base_uncased/checkpoint-7500/config.json\n",
      "Model weights saved in capstone_flaubert_base_uncased/checkpoint-7500/pytorch_model.bin\n",
      "tokenizer config file saved in capstone_flaubert_base_uncased/checkpoint-7500/tokenizer_config.json\n",
      "Special tokens file saved in capstone_flaubert_base_uncased/checkpoint-7500/special_tokens_map.json\n",
      "Saving model checkpoint to capstone_flaubert_base_uncased/checkpoint-8000\n",
      "Configuration saved in capstone_flaubert_base_uncased/checkpoint-8000/config.json\n",
      "Model weights saved in capstone_flaubert_base_uncased/checkpoint-8000/pytorch_model.bin\n",
      "tokenizer config file saved in capstone_flaubert_base_uncased/checkpoint-8000/tokenizer_config.json\n",
      "Special tokens file saved in capstone_flaubert_base_uncased/checkpoint-8000/special_tokens_map.json\n",
      "Saving model checkpoint to capstone_flaubert_base_uncased/checkpoint-8500\n",
      "Configuration saved in capstone_flaubert_base_uncased/checkpoint-8500/config.json\n",
      "Model weights saved in capstone_flaubert_base_uncased/checkpoint-8500/pytorch_model.bin\n",
      "tokenizer config file saved in capstone_flaubert_base_uncased/checkpoint-8500/tokenizer_config.json\n",
      "Special tokens file saved in capstone_flaubert_base_uncased/checkpoint-8500/special_tokens_map.json\n",
      "***** Running Evaluation *****\n",
      "  Num examples = 7649\n",
      "  Batch size = 8\n",
      "Saving model checkpoint to capstone_flaubert_base_uncased/checkpoint-9000\n",
      "Configuration saved in capstone_flaubert_base_uncased/checkpoint-9000/config.json\n",
      "Model weights saved in capstone_flaubert_base_uncased/checkpoint-9000/pytorch_model.bin\n",
      "tokenizer config file saved in capstone_flaubert_base_uncased/checkpoint-9000/tokenizer_config.json\n",
      "Special tokens file saved in capstone_flaubert_base_uncased/checkpoint-9000/special_tokens_map.json\n",
      "Saving model checkpoint to capstone_flaubert_base_uncased/checkpoint-9500\n",
      "Configuration saved in capstone_flaubert_base_uncased/checkpoint-9500/config.json\n",
      "Model weights saved in capstone_flaubert_base_uncased/checkpoint-9500/pytorch_model.bin\n",
      "tokenizer config file saved in capstone_flaubert_base_uncased/checkpoint-9500/tokenizer_config.json\n",
      "Special tokens file saved in capstone_flaubert_base_uncased/checkpoint-9500/special_tokens_map.json\n",
      "Saving model checkpoint to capstone_flaubert_base_uncased/checkpoint-10000\n",
      "Configuration saved in capstone_flaubert_base_uncased/checkpoint-10000/config.json\n",
      "Model weights saved in capstone_flaubert_base_uncased/checkpoint-10000/pytorch_model.bin\n",
      "tokenizer config file saved in capstone_flaubert_base_uncased/checkpoint-10000/tokenizer_config.json\n",
      "Special tokens file saved in capstone_flaubert_base_uncased/checkpoint-10000/special_tokens_map.json\n",
      "Saving model checkpoint to capstone_flaubert_base_uncased/checkpoint-10500\n",
      "Configuration saved in capstone_flaubert_base_uncased/checkpoint-10500/config.json\n",
      "Model weights saved in capstone_flaubert_base_uncased/checkpoint-10500/pytorch_model.bin\n",
      "tokenizer config file saved in capstone_flaubert_base_uncased/checkpoint-10500/tokenizer_config.json\n",
      "Special tokens file saved in capstone_flaubert_base_uncased/checkpoint-10500/special_tokens_map.json\n",
      "Saving model checkpoint to capstone_flaubert_base_uncased/checkpoint-11000\n",
      "Configuration saved in capstone_flaubert_base_uncased/checkpoint-11000/config.json\n",
      "Model weights saved in capstone_flaubert_base_uncased/checkpoint-11000/pytorch_model.bin\n",
      "tokenizer config file saved in capstone_flaubert_base_uncased/checkpoint-11000/tokenizer_config.json\n",
      "Special tokens file saved in capstone_flaubert_base_uncased/checkpoint-11000/special_tokens_map.json\n",
      "Saving model checkpoint to capstone_flaubert_base_uncased/checkpoint-11500\n",
      "Configuration saved in capstone_flaubert_base_uncased/checkpoint-11500/config.json\n",
      "Model weights saved in capstone_flaubert_base_uncased/checkpoint-11500/pytorch_model.bin\n",
      "tokenizer config file saved in capstone_flaubert_base_uncased/checkpoint-11500/tokenizer_config.json\n",
      "Special tokens file saved in capstone_flaubert_base_uncased/checkpoint-11500/special_tokens_map.json\n",
      "Saving model checkpoint to capstone_flaubert_base_uncased/checkpoint-12000\n",
      "Configuration saved in capstone_flaubert_base_uncased/checkpoint-12000/config.json\n",
      "Model weights saved in capstone_flaubert_base_uncased/checkpoint-12000/pytorch_model.bin\n",
      "tokenizer config file saved in capstone_flaubert_base_uncased/checkpoint-12000/tokenizer_config.json\n",
      "Special tokens file saved in capstone_flaubert_base_uncased/checkpoint-12000/special_tokens_map.json\n",
      "Saving model checkpoint to capstone_flaubert_base_uncased/checkpoint-12500\n",
      "Configuration saved in capstone_flaubert_base_uncased/checkpoint-12500/config.json\n",
      "Model weights saved in capstone_flaubert_base_uncased/checkpoint-12500/pytorch_model.bin\n",
      "tokenizer config file saved in capstone_flaubert_base_uncased/checkpoint-12500/tokenizer_config.json\n",
      "Special tokens file saved in capstone_flaubert_base_uncased/checkpoint-12500/special_tokens_map.json\n",
      "Saving model checkpoint to capstone_flaubert_base_uncased/checkpoint-13000\n",
      "Configuration saved in capstone_flaubert_base_uncased/checkpoint-13000/config.json\n",
      "Model weights saved in capstone_flaubert_base_uncased/checkpoint-13000/pytorch_model.bin\n",
      "tokenizer config file saved in capstone_flaubert_base_uncased/checkpoint-13000/tokenizer_config.json\n",
      "Special tokens file saved in capstone_flaubert_base_uncased/checkpoint-13000/special_tokens_map.json\n",
      "Saving model checkpoint to capstone_flaubert_base_uncased/checkpoint-13500\n",
      "Configuration saved in capstone_flaubert_base_uncased/checkpoint-13500/config.json\n",
      "Model weights saved in capstone_flaubert_base_uncased/checkpoint-13500/pytorch_model.bin\n",
      "tokenizer config file saved in capstone_flaubert_base_uncased/checkpoint-13500/tokenizer_config.json\n",
      "Special tokens file saved in capstone_flaubert_base_uncased/checkpoint-13500/special_tokens_map.json\n",
      "Saving model checkpoint to capstone_flaubert_base_uncased/checkpoint-14000\n",
      "Configuration saved in capstone_flaubert_base_uncased/checkpoint-14000/config.json\n",
      "Model weights saved in capstone_flaubert_base_uncased/checkpoint-14000/pytorch_model.bin\n",
      "tokenizer config file saved in capstone_flaubert_base_uncased/checkpoint-14000/tokenizer_config.json\n",
      "Special tokens file saved in capstone_flaubert_base_uncased/checkpoint-14000/special_tokens_map.json\n",
      "Saving model checkpoint to capstone_flaubert_base_uncased/checkpoint-14500\n",
      "Configuration saved in capstone_flaubert_base_uncased/checkpoint-14500/config.json\n",
      "Model weights saved in capstone_flaubert_base_uncased/checkpoint-14500/pytorch_model.bin\n",
      "tokenizer config file saved in capstone_flaubert_base_uncased/checkpoint-14500/tokenizer_config.json\n",
      "Special tokens file saved in capstone_flaubert_base_uncased/checkpoint-14500/special_tokens_map.json\n",
      "Saving model checkpoint to capstone_flaubert_base_uncased/checkpoint-15000\n",
      "Configuration saved in capstone_flaubert_base_uncased/checkpoint-15000/config.json\n",
      "Model weights saved in capstone_flaubert_base_uncased/checkpoint-15000/pytorch_model.bin\n",
      "tokenizer config file saved in capstone_flaubert_base_uncased/checkpoint-15000/tokenizer_config.json\n",
      "Special tokens file saved in capstone_flaubert_base_uncased/checkpoint-15000/special_tokens_map.json\n",
      "Saving model checkpoint to capstone_flaubert_base_uncased/checkpoint-15500\n",
      "Configuration saved in capstone_flaubert_base_uncased/checkpoint-15500/config.json\n",
      "Model weights saved in capstone_flaubert_base_uncased/checkpoint-15500/pytorch_model.bin\n",
      "tokenizer config file saved in capstone_flaubert_base_uncased/checkpoint-15500/tokenizer_config.json\n",
      "Special tokens file saved in capstone_flaubert_base_uncased/checkpoint-15500/special_tokens_map.json\n",
      "Saving model checkpoint to capstone_flaubert_base_uncased/checkpoint-16000\n",
      "Configuration saved in capstone_flaubert_base_uncased/checkpoint-16000/config.json\n",
      "Model weights saved in capstone_flaubert_base_uncased/checkpoint-16000/pytorch_model.bin\n",
      "tokenizer config file saved in capstone_flaubert_base_uncased/checkpoint-16000/tokenizer_config.json\n",
      "Special tokens file saved in capstone_flaubert_base_uncased/checkpoint-16000/special_tokens_map.json\n",
      "Saving model checkpoint to capstone_flaubert_base_uncased/checkpoint-16500\n",
      "Configuration saved in capstone_flaubert_base_uncased/checkpoint-16500/config.json\n",
      "Model weights saved in capstone_flaubert_base_uncased/checkpoint-16500/pytorch_model.bin\n",
      "tokenizer config file saved in capstone_flaubert_base_uncased/checkpoint-16500/tokenizer_config.json\n",
      "Special tokens file saved in capstone_flaubert_base_uncased/checkpoint-16500/special_tokens_map.json\n",
      "Saving model checkpoint to capstone_flaubert_base_uncased/checkpoint-17000\n",
      "Configuration saved in capstone_flaubert_base_uncased/checkpoint-17000/config.json\n",
      "Model weights saved in capstone_flaubert_base_uncased/checkpoint-17000/pytorch_model.bin\n",
      "tokenizer config file saved in capstone_flaubert_base_uncased/checkpoint-17000/tokenizer_config.json\n",
      "Special tokens file saved in capstone_flaubert_base_uncased/checkpoint-17000/special_tokens_map.json\n",
      "***** Running Evaluation *****\n",
      "  Num examples = 7649\n",
      "  Batch size = 8\n",
      "Saving model checkpoint to capstone_flaubert_base_uncased/checkpoint-17500\n",
      "Configuration saved in capstone_flaubert_base_uncased/checkpoint-17500/config.json\n",
      "Model weights saved in capstone_flaubert_base_uncased/checkpoint-17500/pytorch_model.bin\n",
      "tokenizer config file saved in capstone_flaubert_base_uncased/checkpoint-17500/tokenizer_config.json\n",
      "Special tokens file saved in capstone_flaubert_base_uncased/checkpoint-17500/special_tokens_map.json\n",
      "Saving model checkpoint to capstone_flaubert_base_uncased/checkpoint-18000\n",
      "Configuration saved in capstone_flaubert_base_uncased/checkpoint-18000/config.json\n",
      "Model weights saved in capstone_flaubert_base_uncased/checkpoint-18000/pytorch_model.bin\n",
      "tokenizer config file saved in capstone_flaubert_base_uncased/checkpoint-18000/tokenizer_config.json\n",
      "Special tokens file saved in capstone_flaubert_base_uncased/checkpoint-18000/special_tokens_map.json\n",
      "Saving model checkpoint to capstone_flaubert_base_uncased/checkpoint-18500\n",
      "Configuration saved in capstone_flaubert_base_uncased/checkpoint-18500/config.json\n",
      "Model weights saved in capstone_flaubert_base_uncased/checkpoint-18500/pytorch_model.bin\n",
      "tokenizer config file saved in capstone_flaubert_base_uncased/checkpoint-18500/tokenizer_config.json\n",
      "Special tokens file saved in capstone_flaubert_base_uncased/checkpoint-18500/special_tokens_map.json\n",
      "Saving model checkpoint to capstone_flaubert_base_uncased/checkpoint-19000\n",
      "Configuration saved in capstone_flaubert_base_uncased/checkpoint-19000/config.json\n",
      "Model weights saved in capstone_flaubert_base_uncased/checkpoint-19000/pytorch_model.bin\n",
      "tokenizer config file saved in capstone_flaubert_base_uncased/checkpoint-19000/tokenizer_config.json\n",
      "Special tokens file saved in capstone_flaubert_base_uncased/checkpoint-19000/special_tokens_map.json\n",
      "Saving model checkpoint to capstone_flaubert_base_uncased/checkpoint-19500\n",
      "Configuration saved in capstone_flaubert_base_uncased/checkpoint-19500/config.json\n",
      "Model weights saved in capstone_flaubert_base_uncased/checkpoint-19500/pytorch_model.bin\n",
      "tokenizer config file saved in capstone_flaubert_base_uncased/checkpoint-19500/tokenizer_config.json\n",
      "Special tokens file saved in capstone_flaubert_base_uncased/checkpoint-19500/special_tokens_map.json\n",
      "Saving model checkpoint to capstone_flaubert_base_uncased/checkpoint-20000\n",
      "Configuration saved in capstone_flaubert_base_uncased/checkpoint-20000/config.json\n",
      "Model weights saved in capstone_flaubert_base_uncased/checkpoint-20000/pytorch_model.bin\n",
      "tokenizer config file saved in capstone_flaubert_base_uncased/checkpoint-20000/tokenizer_config.json\n",
      "Special tokens file saved in capstone_flaubert_base_uncased/checkpoint-20000/special_tokens_map.json\n",
      "Saving model checkpoint to capstone_flaubert_base_uncased/checkpoint-20500\n",
      "Configuration saved in capstone_flaubert_base_uncased/checkpoint-20500/config.json\n",
      "Model weights saved in capstone_flaubert_base_uncased/checkpoint-20500/pytorch_model.bin\n",
      "tokenizer config file saved in capstone_flaubert_base_uncased/checkpoint-20500/tokenizer_config.json\n",
      "Special tokens file saved in capstone_flaubert_base_uncased/checkpoint-20500/special_tokens_map.json\n",
      "Saving model checkpoint to capstone_flaubert_base_uncased/checkpoint-21000\n",
      "Configuration saved in capstone_flaubert_base_uncased/checkpoint-21000/config.json\n",
      "Model weights saved in capstone_flaubert_base_uncased/checkpoint-21000/pytorch_model.bin\n",
      "tokenizer config file saved in capstone_flaubert_base_uncased/checkpoint-21000/tokenizer_config.json\n",
      "Special tokens file saved in capstone_flaubert_base_uncased/checkpoint-21000/special_tokens_map.json\n",
      "Saving model checkpoint to capstone_flaubert_base_uncased/checkpoint-21500\n",
      "Configuration saved in capstone_flaubert_base_uncased/checkpoint-21500/config.json\n",
      "Model weights saved in capstone_flaubert_base_uncased/checkpoint-21500/pytorch_model.bin\n",
      "tokenizer config file saved in capstone_flaubert_base_uncased/checkpoint-21500/tokenizer_config.json\n",
      "Special tokens file saved in capstone_flaubert_base_uncased/checkpoint-21500/special_tokens_map.json\n",
      "Saving model checkpoint to capstone_flaubert_base_uncased/checkpoint-22000\n",
      "Configuration saved in capstone_flaubert_base_uncased/checkpoint-22000/config.json\n",
      "Model weights saved in capstone_flaubert_base_uncased/checkpoint-22000/pytorch_model.bin\n",
      "tokenizer config file saved in capstone_flaubert_base_uncased/checkpoint-22000/tokenizer_config.json\n",
      "Special tokens file saved in capstone_flaubert_base_uncased/checkpoint-22000/special_tokens_map.json\n",
      "Saving model checkpoint to capstone_flaubert_base_uncased/checkpoint-22500\n",
      "Configuration saved in capstone_flaubert_base_uncased/checkpoint-22500/config.json\n",
      "Model weights saved in capstone_flaubert_base_uncased/checkpoint-22500/pytorch_model.bin\n",
      "tokenizer config file saved in capstone_flaubert_base_uncased/checkpoint-22500/tokenizer_config.json\n",
      "Special tokens file saved in capstone_flaubert_base_uncased/checkpoint-22500/special_tokens_map.json\n",
      "Saving model checkpoint to capstone_flaubert_base_uncased/checkpoint-23000\n",
      "Configuration saved in capstone_flaubert_base_uncased/checkpoint-23000/config.json\n",
      "Model weights saved in capstone_flaubert_base_uncased/checkpoint-23000/pytorch_model.bin\n",
      "tokenizer config file saved in capstone_flaubert_base_uncased/checkpoint-23000/tokenizer_config.json\n",
      "Special tokens file saved in capstone_flaubert_base_uncased/checkpoint-23000/special_tokens_map.json\n",
      "Saving model checkpoint to capstone_flaubert_base_uncased/checkpoint-23500\n",
      "Configuration saved in capstone_flaubert_base_uncased/checkpoint-23500/config.json\n",
      "Model weights saved in capstone_flaubert_base_uncased/checkpoint-23500/pytorch_model.bin\n",
      "tokenizer config file saved in capstone_flaubert_base_uncased/checkpoint-23500/tokenizer_config.json\n",
      "Special tokens file saved in capstone_flaubert_base_uncased/checkpoint-23500/special_tokens_map.json\n",
      "Saving model checkpoint to capstone_flaubert_base_uncased/checkpoint-24000\n",
      "Configuration saved in capstone_flaubert_base_uncased/checkpoint-24000/config.json\n",
      "Model weights saved in capstone_flaubert_base_uncased/checkpoint-24000/pytorch_model.bin\n",
      "tokenizer config file saved in capstone_flaubert_base_uncased/checkpoint-24000/tokenizer_config.json\n",
      "Special tokens file saved in capstone_flaubert_base_uncased/checkpoint-24000/special_tokens_map.json\n",
      "Saving model checkpoint to capstone_flaubert_base_uncased/checkpoint-24500\n",
      "Configuration saved in capstone_flaubert_base_uncased/checkpoint-24500/config.json\n",
      "Model weights saved in capstone_flaubert_base_uncased/checkpoint-24500/pytorch_model.bin\n",
      "tokenizer config file saved in capstone_flaubert_base_uncased/checkpoint-24500/tokenizer_config.json\n",
      "Special tokens file saved in capstone_flaubert_base_uncased/checkpoint-24500/special_tokens_map.json\n",
      "Saving model checkpoint to capstone_flaubert_base_uncased/checkpoint-25000\n",
      "Configuration saved in capstone_flaubert_base_uncased/checkpoint-25000/config.json\n",
      "Model weights saved in capstone_flaubert_base_uncased/checkpoint-25000/pytorch_model.bin\n",
      "tokenizer config file saved in capstone_flaubert_base_uncased/checkpoint-25000/tokenizer_config.json\n",
      "Special tokens file saved in capstone_flaubert_base_uncased/checkpoint-25000/special_tokens_map.json\n",
      "Saving model checkpoint to capstone_flaubert_base_uncased/checkpoint-25500\n",
      "Configuration saved in capstone_flaubert_base_uncased/checkpoint-25500/config.json\n",
      "Model weights saved in capstone_flaubert_base_uncased/checkpoint-25500/pytorch_model.bin\n",
      "tokenizer config file saved in capstone_flaubert_base_uncased/checkpoint-25500/tokenizer_config.json\n",
      "Special tokens file saved in capstone_flaubert_base_uncased/checkpoint-25500/special_tokens_map.json\n",
      "***** Running Evaluation *****\n",
      "  Num examples = 7649\n",
      "  Batch size = 8\n",
      "\n",
      "\n",
      "Training completed. Do not forget to share your model on huggingface.co/models =)\n",
      "\n",
      "\n"
     ]
    },
    {
     "data": {
      "text/plain": [
       "TrainOutput(global_step=25815, training_loss=1.6659297171014007, metrics={'train_runtime': 12861.8506, 'train_samples_per_second': 16.055, 'train_steps_per_second': 2.007, 'total_flos': 5.396220552923136e+16, 'train_loss': 1.6659297171014007, 'epoch': 3.0})"
      ]
     },
     "execution_count": 12,
     "metadata": {
      "tags": []
     },
     "output_type": "execute_result"
    }
   ],
   "source": [
    "trainer.train()"
   ]
  },
  {
   "cell_type": "code",
   "execution_count": 13,
   "metadata": {
    "colab": {
     "base_uri": "https://localhost:8080/",
     "height": 193
    },
    "executionInfo": {
     "elapsed": 145830,
     "status": "ok",
     "timestamp": 1627620771223,
     "user": {
      "displayName": "Lin Di",
      "photoUrl": "",
      "userId": "02321472830486637167"
     },
     "user_tz": -480
    },
    "id": "ciI44DKX4Kfq",
    "outputId": "d60bb26e-99b6-4953-a43a-4bcabb8c711d"
   },
   "outputs": [
    {
     "name": "stderr",
     "output_type": "stream",
     "text": [
      "***** Running Evaluation *****\n",
      "  Num examples = 7649\n",
      "  Batch size = 8\n"
     ]
    },
    {
     "data": {
      "text/html": [
       "\n",
       "    <div>\n",
       "      \n",
       "      <progress value='957' max='957' style='width:300px; height:20px; vertical-align: middle;'></progress>\n",
       "      [957/957 02:25]\n",
       "    </div>\n",
       "    "
      ],
      "text/plain": [
       "<IPython.core.display.HTML object>"
      ]
     },
     "metadata": {
      "tags": []
     },
     "output_type": "display_data"
    },
    {
     "data": {
      "text/plain": [
       "{'epoch': 3.0,\n",
       " 'eval_accuracy': 0.6540724277683357,\n",
       " 'eval_loss': 1.09671950340271,\n",
       " 'eval_runtime': 145.5531,\n",
       " 'eval_samples_per_second': 52.551,\n",
       " 'eval_steps_per_second': 6.575}"
      ]
     },
     "execution_count": 13,
     "metadata": {
      "tags": []
     },
     "output_type": "execute_result"
    }
   ],
   "source": [
    "trainer.evaluate()"
   ]
  },
  {
   "cell_type": "code",
   "execution_count": 14,
   "metadata": {
    "colab": {
     "base_uri": "https://localhost:8080/"
    },
    "executionInfo": {
     "elapsed": 2578,
     "status": "ok",
     "timestamp": 1627620829115,
     "user": {
      "displayName": "Lin Di",
      "photoUrl": "",
      "userId": "02321472830486637167"
     },
     "user_tz": -480
    },
    "id": "N5MSIboOCvHx",
    "outputId": "b095dede-eb18-408a-869f-e22df539fe16"
   },
   "outputs": [
    {
     "name": "stderr",
     "output_type": "stream",
     "text": [
      "Configuration saved in gdrive/MyDrive/Capstone/models/flaubert_base_uncased/config.json\n",
      "Model weights saved in gdrive/MyDrive/Capstone/models/flaubert_base_uncased/pytorch_model.bin\n",
      "tokenizer config file saved in gdrive/MyDrive/Capstone/tokenizers/flaubert_base_uncased/tokenizer_config.json\n",
      "Special tokens file saved in gdrive/MyDrive/Capstone/tokenizers/flaubert_base_uncased/special_tokens_map.json\n"
     ]
    },
    {
     "data": {
      "text/plain": [
       "('gdrive/MyDrive/Capstone/tokenizers/flaubert_base_uncased/tokenizer_config.json',\n",
       " 'gdrive/MyDrive/Capstone/tokenizers/flaubert_base_uncased/special_tokens_map.json',\n",
       " 'gdrive/MyDrive/Capstone/tokenizers/flaubert_base_uncased/vocab.json',\n",
       " 'gdrive/MyDrive/Capstone/tokenizers/flaubert_base_uncased/merges.txt',\n",
       " 'gdrive/MyDrive/Capstone/tokenizers/flaubert_base_uncased/added_tokens.json')"
      ]
     },
     "execution_count": 14,
     "metadata": {
      "tags": []
     },
     "output_type": "execute_result"
    }
   ],
   "source": [
    "model.save_pretrained(root_dir + 'models/' + pretrained.split('/')[-1])\n",
    "tokenizer.save_pretrained(root_dir + 'tokenizers/' + pretrained.split('/')[-1])"
   ]
  },
  {
   "cell_type": "code",
   "execution_count": 15,
   "metadata": {
    "executionInfo": {
     "elapsed": 1119,
     "status": "ok",
     "timestamp": 1627620842992,
     "user": {
      "displayName": "Lin Di",
      "photoUrl": "",
      "userId": "02321472830486637167"
     },
     "user_tz": -480
    },
    "id": "ikNBcsQ8OPld"
   },
   "outputs": [],
   "source": [
    "tokenized_datasets.save_to_disk(root_dir + 'assets/datasets/' + pretrained.split('/')[-1])"
   ]
  },
  {
   "cell_type": "markdown",
   "metadata": {
    "id": "vsR2kMxJd7yK"
   },
   "source": [
    "# Results Visualization"
   ]
  },
  {
   "cell_type": "code",
   "execution_count": 16,
   "metadata": {
    "colab": {
     "base_uri": "https://localhost:8080/"
    },
    "executionInfo": {
     "elapsed": 1077,
     "status": "ok",
     "timestamp": 1627620846471,
     "user": {
      "displayName": "Lin Di",
      "photoUrl": "",
      "userId": "02321472830486637167"
     },
     "user_tz": -480
    },
    "id": "QY6cKE1NeE6f",
    "outputId": "1726c726-f1c2-46f0-97c0-77fb34c3a37d"
   },
   "outputs": [
    {
     "name": "stderr",
     "output_type": "stream",
     "text": [
      "Using custom data configuration default-863e501dda6703d2\n",
      "Reusing dataset csv (/root/.cache/huggingface/datasets/csv/default-863e501dda6703d2/0.0.0/9144e0a4e8435090117cea53e6c7537173ef2304525df4a077c435d8ee7828ff)\n"
     ]
    }
   ],
   "source": [
    "dataset = load_dataset('csv', data_files=root_dir + 'df_cleaned.csv', split='train')\n",
    "tokenized_datasets = load_from_disk(root_dir + 'assets/datasets/' + pretrained.split('/')[-1])\n",
    "tokenized_datasets.set_format(\"torch\")"
   ]
  },
  {
   "cell_type": "code",
   "execution_count": 17,
   "metadata": {
    "colab": {
     "base_uri": "https://localhost:8080/"
    },
    "executionInfo": {
     "elapsed": 3468,
     "status": "ok",
     "timestamp": 1627620851670,
     "user": {
      "displayName": "Lin Di",
      "photoUrl": "",
      "userId": "02321472830486637167"
     },
     "user_tz": -480
    },
    "id": "IZOBGLq8fZjL",
    "outputId": "6a5f1d84-dbd9-4951-84d7-9cce8bfbbcfa"
   },
   "outputs": [
    {
     "name": "stderr",
     "output_type": "stream",
     "text": [
      "loading configuration file gdrive/MyDrive/Capstone/models/flaubert_base_uncased/config.json\n",
      "Model config FlaubertConfig {\n",
      "  \"_name_or_path\": \"flaubert/flaubert_base_uncased\",\n",
      "  \"amp\": 1,\n",
      "  \"architectures\": [\n",
      "    \"FlaubertForSequenceClassification\"\n",
      "  ],\n",
      "  \"asm\": false,\n",
      "  \"attention_dropout\": 0.1,\n",
      "  \"bos_index\": 0,\n",
      "  \"bos_token_id\": 0,\n",
      "  \"bptt\": 512,\n",
      "  \"causal\": false,\n",
      "  \"clip_grad_norm\": 5,\n",
      "  \"dropout\": 0.1,\n",
      "  \"emb_dim\": 768,\n",
      "  \"embed_init_std\": 0.02209708691207961,\n",
      "  \"encoder_only\": true,\n",
      "  \"end_n_top\": 5,\n",
      "  \"eos_index\": 1,\n",
      "  \"fp16\": true,\n",
      "  \"gelu_activation\": true,\n",
      "  \"group_by_size\": true,\n",
      "  \"id2label\": {\n",
      "    \"0\": \"LABEL_0\",\n",
      "    \"1\": \"LABEL_1\",\n",
      "    \"2\": \"LABEL_2\",\n",
      "    \"3\": \"LABEL_3\",\n",
      "    \"4\": \"LABEL_4\",\n",
      "    \"5\": \"LABEL_5\",\n",
      "    \"6\": \"LABEL_6\",\n",
      "    \"7\": \"LABEL_7\",\n",
      "    \"8\": \"LABEL_8\",\n",
      "    \"9\": \"LABEL_9\"\n",
      "  },\n",
      "  \"id2lang\": {\n",
      "    \"0\": \"fr\"\n",
      "  },\n",
      "  \"init_std\": 0.02,\n",
      "  \"is_encoder\": true,\n",
      "  \"label2id\": {\n",
      "    \"LABEL_0\": 0,\n",
      "    \"LABEL_1\": 1,\n",
      "    \"LABEL_2\": 2,\n",
      "    \"LABEL_3\": 3,\n",
      "    \"LABEL_4\": 4,\n",
      "    \"LABEL_5\": 5,\n",
      "    \"LABEL_6\": 6,\n",
      "    \"LABEL_7\": 7,\n",
      "    \"LABEL_8\": 8,\n",
      "    \"LABEL_9\": 9\n",
      "  },\n",
      "  \"lang2id\": {\n",
      "    \"fr\": 0\n",
      "  },\n",
      "  \"lang_id\": 0,\n",
      "  \"langs\": [\n",
      "    \"fr\"\n",
      "  ],\n",
      "  \"layer_norm_eps\": 1e-12,\n",
      "  \"layerdrop\": 0.0,\n",
      "  \"lg_sampling_factor\": -1,\n",
      "  \"lgs\": \"fr\",\n",
      "  \"mask_index\": 5,\n",
      "  \"mask_token_id\": 0,\n",
      "  \"max_batch_size\": 0,\n",
      "  \"max_position_embeddings\": 512,\n",
      "  \"max_vocab\": -1,\n",
      "  \"mlm_steps\": [\n",
      "    [\n",
      "      \"fr\",\n",
      "      null\n",
      "    ]\n",
      "  ],\n",
      "  \"model_type\": \"flaubert\",\n",
      "  \"n_heads\": 12,\n",
      "  \"n_langs\": 1,\n",
      "  \"n_layers\": 12,\n",
      "  \"pad_index\": 2,\n",
      "  \"pad_token_id\": 2,\n",
      "  \"pre_norm\": false,\n",
      "  \"problem_type\": \"single_label_classification\",\n",
      "  \"sample_alpha\": 0,\n",
      "  \"share_inout_emb\": true,\n",
      "  \"sinusoidal_embeddings\": false,\n",
      "  \"start_n_top\": 5,\n",
      "  \"summary_activation\": null,\n",
      "  \"summary_first_dropout\": 0.1,\n",
      "  \"summary_proj_to_labels\": true,\n",
      "  \"summary_type\": \"first\",\n",
      "  \"summary_use_proj\": true,\n",
      "  \"tokens_per_batch\": -1,\n",
      "  \"torch_dtype\": \"float32\",\n",
      "  \"transformers_version\": \"4.9.1\",\n",
      "  \"unk_index\": 3,\n",
      "  \"use_lang_emb\": true,\n",
      "  \"vocab_size\": 67542,\n",
      "  \"word_blank\": 0,\n",
      "  \"word_dropout\": 0,\n",
      "  \"word_keep\": 0.1,\n",
      "  \"word_mask\": 0.8,\n",
      "  \"word_mask_keep_rand\": \"0.8,0.1,0.1\",\n",
      "  \"word_pred\": 0.15,\n",
      "  \"word_rand\": 0.1,\n",
      "  \"word_shuffle\": 0\n",
      "}\n",
      "\n",
      "loading weights file gdrive/MyDrive/Capstone/models/flaubert_base_uncased/pytorch_model.bin\n",
      "All model checkpoint weights were used when initializing FlaubertForSequenceClassification.\n",
      "\n",
      "All the weights of FlaubertForSequenceClassification were initialized from the model checkpoint at gdrive/MyDrive/Capstone/models/flaubert_base_uncased.\n",
      "If your task is similar to the task the model of the checkpoint was trained on, you can already use FlaubertForSequenceClassification for predictions without further training.\n"
     ]
    },
    {
     "data": {
      "text/plain": [
       "FlaubertForSequenceClassification(\n",
       "  (transformer): FlaubertModel(\n",
       "    (position_embeddings): Embedding(512, 768)\n",
       "    (embeddings): Embedding(67542, 768, padding_idx=2)\n",
       "    (layer_norm_emb): LayerNorm((768,), eps=1e-12, elementwise_affine=True)\n",
       "    (attentions): ModuleList(\n",
       "      (0): MultiHeadAttention(\n",
       "        (q_lin): Linear(in_features=768, out_features=768, bias=True)\n",
       "        (k_lin): Linear(in_features=768, out_features=768, bias=True)\n",
       "        (v_lin): Linear(in_features=768, out_features=768, bias=True)\n",
       "        (out_lin): Linear(in_features=768, out_features=768, bias=True)\n",
       "      )\n",
       "      (1): MultiHeadAttention(\n",
       "        (q_lin): Linear(in_features=768, out_features=768, bias=True)\n",
       "        (k_lin): Linear(in_features=768, out_features=768, bias=True)\n",
       "        (v_lin): Linear(in_features=768, out_features=768, bias=True)\n",
       "        (out_lin): Linear(in_features=768, out_features=768, bias=True)\n",
       "      )\n",
       "      (2): MultiHeadAttention(\n",
       "        (q_lin): Linear(in_features=768, out_features=768, bias=True)\n",
       "        (k_lin): Linear(in_features=768, out_features=768, bias=True)\n",
       "        (v_lin): Linear(in_features=768, out_features=768, bias=True)\n",
       "        (out_lin): Linear(in_features=768, out_features=768, bias=True)\n",
       "      )\n",
       "      (3): MultiHeadAttention(\n",
       "        (q_lin): Linear(in_features=768, out_features=768, bias=True)\n",
       "        (k_lin): Linear(in_features=768, out_features=768, bias=True)\n",
       "        (v_lin): Linear(in_features=768, out_features=768, bias=True)\n",
       "        (out_lin): Linear(in_features=768, out_features=768, bias=True)\n",
       "      )\n",
       "      (4): MultiHeadAttention(\n",
       "        (q_lin): Linear(in_features=768, out_features=768, bias=True)\n",
       "        (k_lin): Linear(in_features=768, out_features=768, bias=True)\n",
       "        (v_lin): Linear(in_features=768, out_features=768, bias=True)\n",
       "        (out_lin): Linear(in_features=768, out_features=768, bias=True)\n",
       "      )\n",
       "      (5): MultiHeadAttention(\n",
       "        (q_lin): Linear(in_features=768, out_features=768, bias=True)\n",
       "        (k_lin): Linear(in_features=768, out_features=768, bias=True)\n",
       "        (v_lin): Linear(in_features=768, out_features=768, bias=True)\n",
       "        (out_lin): Linear(in_features=768, out_features=768, bias=True)\n",
       "      )\n",
       "      (6): MultiHeadAttention(\n",
       "        (q_lin): Linear(in_features=768, out_features=768, bias=True)\n",
       "        (k_lin): Linear(in_features=768, out_features=768, bias=True)\n",
       "        (v_lin): Linear(in_features=768, out_features=768, bias=True)\n",
       "        (out_lin): Linear(in_features=768, out_features=768, bias=True)\n",
       "      )\n",
       "      (7): MultiHeadAttention(\n",
       "        (q_lin): Linear(in_features=768, out_features=768, bias=True)\n",
       "        (k_lin): Linear(in_features=768, out_features=768, bias=True)\n",
       "        (v_lin): Linear(in_features=768, out_features=768, bias=True)\n",
       "        (out_lin): Linear(in_features=768, out_features=768, bias=True)\n",
       "      )\n",
       "      (8): MultiHeadAttention(\n",
       "        (q_lin): Linear(in_features=768, out_features=768, bias=True)\n",
       "        (k_lin): Linear(in_features=768, out_features=768, bias=True)\n",
       "        (v_lin): Linear(in_features=768, out_features=768, bias=True)\n",
       "        (out_lin): Linear(in_features=768, out_features=768, bias=True)\n",
       "      )\n",
       "      (9): MultiHeadAttention(\n",
       "        (q_lin): Linear(in_features=768, out_features=768, bias=True)\n",
       "        (k_lin): Linear(in_features=768, out_features=768, bias=True)\n",
       "        (v_lin): Linear(in_features=768, out_features=768, bias=True)\n",
       "        (out_lin): Linear(in_features=768, out_features=768, bias=True)\n",
       "      )\n",
       "      (10): MultiHeadAttention(\n",
       "        (q_lin): Linear(in_features=768, out_features=768, bias=True)\n",
       "        (k_lin): Linear(in_features=768, out_features=768, bias=True)\n",
       "        (v_lin): Linear(in_features=768, out_features=768, bias=True)\n",
       "        (out_lin): Linear(in_features=768, out_features=768, bias=True)\n",
       "      )\n",
       "      (11): MultiHeadAttention(\n",
       "        (q_lin): Linear(in_features=768, out_features=768, bias=True)\n",
       "        (k_lin): Linear(in_features=768, out_features=768, bias=True)\n",
       "        (v_lin): Linear(in_features=768, out_features=768, bias=True)\n",
       "        (out_lin): Linear(in_features=768, out_features=768, bias=True)\n",
       "      )\n",
       "    )\n",
       "    (layer_norm1): ModuleList(\n",
       "      (0): LayerNorm((768,), eps=1e-12, elementwise_affine=True)\n",
       "      (1): LayerNorm((768,), eps=1e-12, elementwise_affine=True)\n",
       "      (2): LayerNorm((768,), eps=1e-12, elementwise_affine=True)\n",
       "      (3): LayerNorm((768,), eps=1e-12, elementwise_affine=True)\n",
       "      (4): LayerNorm((768,), eps=1e-12, elementwise_affine=True)\n",
       "      (5): LayerNorm((768,), eps=1e-12, elementwise_affine=True)\n",
       "      (6): LayerNorm((768,), eps=1e-12, elementwise_affine=True)\n",
       "      (7): LayerNorm((768,), eps=1e-12, elementwise_affine=True)\n",
       "      (8): LayerNorm((768,), eps=1e-12, elementwise_affine=True)\n",
       "      (9): LayerNorm((768,), eps=1e-12, elementwise_affine=True)\n",
       "      (10): LayerNorm((768,), eps=1e-12, elementwise_affine=True)\n",
       "      (11): LayerNorm((768,), eps=1e-12, elementwise_affine=True)\n",
       "    )\n",
       "    (ffns): ModuleList(\n",
       "      (0): TransformerFFN(\n",
       "        (lin1): Linear(in_features=768, out_features=3072, bias=True)\n",
       "        (lin2): Linear(in_features=3072, out_features=768, bias=True)\n",
       "      )\n",
       "      (1): TransformerFFN(\n",
       "        (lin1): Linear(in_features=768, out_features=3072, bias=True)\n",
       "        (lin2): Linear(in_features=3072, out_features=768, bias=True)\n",
       "      )\n",
       "      (2): TransformerFFN(\n",
       "        (lin1): Linear(in_features=768, out_features=3072, bias=True)\n",
       "        (lin2): Linear(in_features=3072, out_features=768, bias=True)\n",
       "      )\n",
       "      (3): TransformerFFN(\n",
       "        (lin1): Linear(in_features=768, out_features=3072, bias=True)\n",
       "        (lin2): Linear(in_features=3072, out_features=768, bias=True)\n",
       "      )\n",
       "      (4): TransformerFFN(\n",
       "        (lin1): Linear(in_features=768, out_features=3072, bias=True)\n",
       "        (lin2): Linear(in_features=3072, out_features=768, bias=True)\n",
       "      )\n",
       "      (5): TransformerFFN(\n",
       "        (lin1): Linear(in_features=768, out_features=3072, bias=True)\n",
       "        (lin2): Linear(in_features=3072, out_features=768, bias=True)\n",
       "      )\n",
       "      (6): TransformerFFN(\n",
       "        (lin1): Linear(in_features=768, out_features=3072, bias=True)\n",
       "        (lin2): Linear(in_features=3072, out_features=768, bias=True)\n",
       "      )\n",
       "      (7): TransformerFFN(\n",
       "        (lin1): Linear(in_features=768, out_features=3072, bias=True)\n",
       "        (lin2): Linear(in_features=3072, out_features=768, bias=True)\n",
       "      )\n",
       "      (8): TransformerFFN(\n",
       "        (lin1): Linear(in_features=768, out_features=3072, bias=True)\n",
       "        (lin2): Linear(in_features=3072, out_features=768, bias=True)\n",
       "      )\n",
       "      (9): TransformerFFN(\n",
       "        (lin1): Linear(in_features=768, out_features=3072, bias=True)\n",
       "        (lin2): Linear(in_features=3072, out_features=768, bias=True)\n",
       "      )\n",
       "      (10): TransformerFFN(\n",
       "        (lin1): Linear(in_features=768, out_features=3072, bias=True)\n",
       "        (lin2): Linear(in_features=3072, out_features=768, bias=True)\n",
       "      )\n",
       "      (11): TransformerFFN(\n",
       "        (lin1): Linear(in_features=768, out_features=3072, bias=True)\n",
       "        (lin2): Linear(in_features=3072, out_features=768, bias=True)\n",
       "      )\n",
       "    )\n",
       "    (layer_norm2): ModuleList(\n",
       "      (0): LayerNorm((768,), eps=1e-12, elementwise_affine=True)\n",
       "      (1): LayerNorm((768,), eps=1e-12, elementwise_affine=True)\n",
       "      (2): LayerNorm((768,), eps=1e-12, elementwise_affine=True)\n",
       "      (3): LayerNorm((768,), eps=1e-12, elementwise_affine=True)\n",
       "      (4): LayerNorm((768,), eps=1e-12, elementwise_affine=True)\n",
       "      (5): LayerNorm((768,), eps=1e-12, elementwise_affine=True)\n",
       "      (6): LayerNorm((768,), eps=1e-12, elementwise_affine=True)\n",
       "      (7): LayerNorm((768,), eps=1e-12, elementwise_affine=True)\n",
       "      (8): LayerNorm((768,), eps=1e-12, elementwise_affine=True)\n",
       "      (9): LayerNorm((768,), eps=1e-12, elementwise_affine=True)\n",
       "      (10): LayerNorm((768,), eps=1e-12, elementwise_affine=True)\n",
       "      (11): LayerNorm((768,), eps=1e-12, elementwise_affine=True)\n",
       "    )\n",
       "  )\n",
       "  (sequence_summary): SequenceSummary(\n",
       "    (summary): Linear(in_features=768, out_features=10, bias=True)\n",
       "    (activation): Identity()\n",
       "    (first_dropout): Dropout(p=0.1, inplace=False)\n",
       "    (last_dropout): Identity()\n",
       "  )\n",
       ")"
      ]
     },
     "execution_count": 17,
     "metadata": {
      "tags": []
     },
     "output_type": "execute_result"
    }
   ],
   "source": [
    "model_checkpoint = root_dir + \"models/\" + pretrained.split('/')[-1]\n",
    "tokenizer_checkpoint = root_dir + \"tokenizers/\" + pretrained.split('/')[-1]\n",
    "\n",
    "model = AutoModelForSequenceClassification.from_pretrained(model_checkpoint, num_labels=10)\n",
    "device = torch.device(\"cuda\") if torch.cuda.is_available() else torch.device(\"cpu\")\n",
    "model.to(device)"
   ]
  },
  {
   "cell_type": "code",
   "execution_count": 18,
   "metadata": {
    "colab": {
     "base_uri": "https://localhost:8080/"
    },
    "executionInfo": {
     "elapsed": 452,
     "status": "ok",
     "timestamp": 1627620855305,
     "user": {
      "displayName": "Lin Di",
      "photoUrl": "",
      "userId": "02321472830486637167"
     },
     "user_tz": -480
    },
    "id": "4yDVNPRLiRc5",
    "outputId": "c7560dfe-3e1d-4cb4-dbf5-9ef73f72d651"
   },
   "outputs": [
    {
     "data": {
      "text/plain": [
       "device(type='cuda')"
      ]
     },
     "execution_count": 18,
     "metadata": {
      "tags": []
     },
     "output_type": "execute_result"
    }
   ],
   "source": [
    "device"
   ]
  },
  {
   "cell_type": "code",
   "execution_count": 19,
   "metadata": {
    "colab": {
     "base_uri": "https://localhost:8080/"
    },
    "executionInfo": {
     "elapsed": 143195,
     "status": "ok",
     "timestamp": 1627621000321,
     "user": {
      "displayName": "Lin Di",
      "photoUrl": "",
      "userId": "02321472830486637167"
     },
     "user_tz": -480
    },
    "id": "aURRzMlvQAOr",
    "outputId": "7ba970a7-a4ff-4b96-df1d-4ef495d5a841"
   },
   "outputs": [
    {
     "data": {
      "text/plain": [
       "{'accuracy': 0.6540724277683357}"
      ]
     },
     "execution_count": 19,
     "metadata": {
      "tags": []
     },
     "output_type": "execute_result"
    }
   ],
   "source": [
    "metric = load_metric(\"accuracy\")\n",
    "eval_dataloader = DataLoader(tokenized_datasets[\"test\"], batch_size=batch_size)\n",
    "\n",
    "model.eval()\n",
    "#prob = []\n",
    "y_pred = []\n",
    "total_loss = 0.0\n",
    "for batch in eval_dataloader:\n",
    "    batch = {k: v.to(device) for k, v in batch.items()}\n",
    "    with torch.no_grad():\n",
    "        outputs = model(**batch)\n",
    "\n",
    "    total_loss += outputs.loss.item()\n",
    "    logits = outputs.logits\n",
    "    predictions = torch.argmax(logits, dim=-1)\n",
    "    metric.add_batch(predictions=predictions, references=batch[\"labels\"])\n",
    "    #prob.extend(torch.nn.Softmax(dim=1)(outputs.logits))\n",
    "    y_pred.extend([t.item() for t in predictions])\n",
    "\n",
    "loss = total_loss/tokenized_datasets[\"test\"].shape[0]\n",
    "metric.compute()"
   ]
  },
  {
   "cell_type": "code",
   "execution_count": 22,
   "metadata": {
    "colab": {
     "base_uri": "https://localhost:8080/"
    },
    "executionInfo": {
     "elapsed": 482,
     "status": "ok",
     "timestamp": 1627621031869,
     "user": {
      "displayName": "Lin Di",
      "photoUrl": "",
      "userId": "02321472830486637167"
     },
     "user_tz": -480
    },
    "id": "wTDsVJUCxd8e",
    "outputId": "accbaa52-2117-4ace-98f7-c45bffc1db9f"
   },
   "outputs": [
    {
     "data": {
      "text/plain": [
       "0.1372450463905305"
      ]
     },
     "execution_count": 22,
     "metadata": {
      "tags": []
     },
     "output_type": "execute_result"
    }
   ],
   "source": [
    "loss"
   ]
  },
  {
   "cell_type": "code",
   "execution_count": 20,
   "metadata": {
    "executionInfo": {
     "elapsed": 466,
     "status": "ok",
     "timestamp": 1627621015420,
     "user": {
      "displayName": "Lin Di",
      "photoUrl": "",
      "userId": "02321472830486637167"
     },
     "user_tz": -480
    },
    "id": "1b_4ALSkQsYi"
   },
   "outputs": [],
   "source": [
    "y_true = tokenized_datasets[\"test\"][\"labels\"].numpy().tolist()"
   ]
  },
  {
   "cell_type": "code",
   "execution_count": 21,
   "metadata": {
    "executionInfo": {
     "elapsed": 2,
     "status": "ok",
     "timestamp": 1627621017982,
     "user": {
      "displayName": "Lin Di",
      "photoUrl": "",
      "userId": "02321472830486637167"
     },
     "user_tz": -480
    },
    "id": "lL8_9NzJSO-w"
   },
   "outputs": [],
   "source": [
    "assert len(y_true) == len(y_pred)"
   ]
  },
  {
   "cell_type": "code",
   "execution_count": 23,
   "metadata": {
    "executionInfo": {
     "elapsed": 474,
     "status": "ok",
     "timestamp": 1627621045850,
     "user": {
      "displayName": "Lin Di",
      "photoUrl": "",
      "userId": "02321472830486637167"
     },
     "user_tz": -480
    },
    "id": "DGDrQ1WfILbI"
   },
   "outputs": [],
   "source": [
    "def plot_confusion_matrix(y_true, y_pred, classes, normalize=False, title=None, path='cm', cmap=plt.cm.Reds):\n",
    "    \"\"\"\n",
    "    This function prints and plots the confusion matrix.\n",
    "    Normalization can be applied by setting `normalize=True`.\n",
    "    \"\"\"\n",
    "    if not title:\n",
    "        if normalize:\n",
    "            title = 'Normalized confusion matrix'\n",
    "        else:\n",
    "            title = 'Confusion matrix, without normalization'\n",
    "\n",
    "    # Compute confusion matrix\n",
    "    cm = confusion_matrix(y_true, y_pred)\n",
    "\n",
    "    if normalize:\n",
    "        cm = cm.astype('float') / cm.sum(axis=1)[:, np.newaxis]\n",
    "#     pickle.dump(cm, open(path, 'wb'))\n",
    "\n",
    "    fig, ax = plt.subplots(figsize=(15,15))\n",
    "    im = ax.imshow(cm, interpolation='nearest', cmap=cmap)\n",
    "    ax.figure.colorbar(im, ax=ax)\n",
    "    # We want to show all ticks...\n",
    "    ax.set(xticks=np.arange(cm.shape[1]),\n",
    "           yticks=np.arange(cm.shape[0]),\n",
    "           # ... and label them with the respective list entries\n",
    "           xticklabels=classes, yticklabels=classes,\n",
    "           title=title,\n",
    "           ylabel='True label',\n",
    "           xlabel='Predicted label')\n",
    "\n",
    "    # Rotate the tick labels and set their alignment.\n",
    "    plt.setp(ax.get_xticklabels(), rotation=45, ha=\"right\",\n",
    "             rotation_mode=\"anchor\")\n",
    "\n",
    "    # Loop over data dimensions and create text annotations.\n",
    "    fmt = '.2f' if normalize else 'd'\n",
    "    thresh = cm.max() / 2.\n",
    "    for i in range(cm.shape[0]):\n",
    "        for j in range(cm.shape[1]):\n",
    "            ax.text(j, i, format(cm[i, j], fmt),\n",
    "                    ha=\"center\", va=\"center\",\n",
    "                    color=\"white\" if cm[i, j] > thresh else \"black\")\n",
    "    fig.tight_layout()\n",
    "    return ax"
   ]
  },
  {
   "cell_type": "code",
   "execution_count": 24,
   "metadata": {
    "executionInfo": {
     "elapsed": 469,
     "status": "ok",
     "timestamp": 1627621047929,
     "user": {
      "displayName": "Lin Di",
      "photoUrl": "",
      "userId": "02321472830486637167"
     },
     "user_tz": -480
    },
    "id": "_LkWuLpJILh2"
   },
   "outputs": [],
   "source": [
    "label_name = sorted(pd.Series(dataset['class_label']).unique())"
   ]
  },
  {
   "cell_type": "code",
   "execution_count": 25,
   "metadata": {
    "colab": {
     "base_uri": "https://localhost:8080/",
     "height": 1000
    },
    "executionInfo": {
     "elapsed": 4928,
     "status": "ok",
     "timestamp": 1627621054083,
     "user": {
      "displayName": "Lin Di",
      "photoUrl": "",
      "userId": "02321472830486637167"
     },
     "user_tz": -480
    },
    "id": "EhBSZM9BILlu",
    "outputId": "ec699712-4e72-46a6-c906-2662ea362112"
   },
   "outputs": [
    {
     "name": "stderr",
     "output_type": "stream",
     "text": [
      "/usr/local/lib/python3.7/dist-packages/sklearn/metrics/_classification.py:1272: UndefinedMetricWarning: Precision is ill-defined and being set to 0.0 due to no predicted samples. Use `zero_division` parameter to control this behavior.\n",
      "  _warn_prf(average, modifier, msg_start, len(result))\n"
     ]
    },
    {
     "name": "stdout",
     "output_type": "stream",
     "text": [
      "loss: 0.14\n",
      "accuracy: 0.65\n",
      "matthews coef: 0.59\n",
      "precision score for caution_and_advice: 0.83\n",
      "recall score for caution_and_advice: 0.85\n",
      "f1 score for caution_and_advice: 0.84\n",
      "precision score for displaced_people_and_evacuations: 0.00\n",
      "recall score for displaced_people_and_evacuations: 0.00\n",
      "f1 score for displaced_people_and_evacuations: 0.00\n",
      "precision score for infrastructure_and_utility_damage: 0.82\n",
      "recall score for infrastructure_and_utility_damage: 0.93\n",
      "f1 score for infrastructure_and_utility_damage: 0.87\n",
      "precision score for injured_or_dead_people: 0.73\n",
      "recall score for injured_or_dead_people: 0.79\n",
      "f1 score for injured_or_dead_people: 0.76\n",
      "precision score for missing_or_found_people: 0.41\n",
      "recall score for missing_or_found_people: 0.58\n",
      "f1 score for missing_or_found_people: 0.48\n",
      "precision score for not_humanitarian: 0.70\n",
      "recall score for not_humanitarian: 0.90\n",
      "f1 score for not_humanitarian: 0.79\n",
      "precision score for other_relevant_information: 0.69\n",
      "recall score for other_relevant_information: 0.54\n",
      "f1 score for other_relevant_information: 0.61\n",
      "precision score for requests_or_urgent_needs: 0.00\n",
      "recall score for requests_or_urgent_needs: 0.00\n",
      "f1 score for requests_or_urgent_needs: 0.00\n",
      "precision score for rescue_volunteering_or_donation_effort: 0.00\n",
      "recall score for rescue_volunteering_or_donation_effort: 0.00\n",
      "f1 score for rescue_volunteering_or_donation_effort: 0.00\n",
      "precision score for sympathy_and_support: 0.66\n",
      "recall score for sympathy_and_support: 0.48\n",
      "f1 score for sympathy_and_support: 0.55\n"
     ]
    },
    {
     "data": {
      "image/png": "[encoded data removed]",
      "text/plain": [
       "<Figure size 1080x1080 with 2 Axes>"
      ]
     },
     "metadata": {
      "needs_background": "light",
      "tags": []
     },
     "output_type": "display_data"
    },
    {
     "data": {
      "image/png": "[encoded data removed]",
      "text/plain": [
       "<Figure size 1080x1080 with 2 Axes>"
      ]
     },
     "metadata": {
      "needs_background": "light",
      "tags": []
     },
     "output_type": "display_data"
    }
   ],
   "source": [
    "accuracy = accuracy_score(y_true, y_pred)\n",
    "matthews = matthews_corrcoef(y_true, y_pred)\n",
    "\n",
    "precisions = {}\n",
    "recalls = {}\n",
    "f1s = {}\n",
    "aucrocs = {}\n",
    "\n",
    "for i in range(len(label_name)):\n",
    "    prediction_ = [1 if pred == i else 0 for pred in y_pred]\n",
    "    true_ = [1 if label == i else 0 for label in y_true]\n",
    "    f1s.update({label_name[i]: f1_score(true_, prediction_)})\n",
    "    precisions.update({label_name[i]: precision_score(true_, prediction_)})\n",
    "    recalls.update({label_name[i]: recall_score(true_, prediction_)})\n",
    "    # aucrocs.update({label_name[i]: roc_auc_score(true_, list(t.item() for t in prob[:, i]))})\n",
    "\n",
    "metrics_dict = {'loss': loss, 'accuracy': accuracy, 'matthews coef': matthews, 'precision': precisions,\n",
    "                     'recall': recalls, 'f1': f1s, \n",
    "                # 'aucroc': aucrocs\n",
    "                }\n",
    "\n",
    "pickle.dump(metrics_dict, open(root_dir+'/output/evaluation_metrics/'+pretrained.split('/')[-1], 'wb'))\n",
    "\n",
    "cm = plot_confusion_matrix(y_true, y_pred, label_name, normalize=False,\n",
    "                      path='test_confusion_matrix', title='confusion matrix for test dataset')\n",
    "plt.savefig(root_dir+'/output/confusion_matrix/'+pretrained.split('/')[-1], format='png')\n",
    "cm_norm = plot_confusion_matrix(y_true, y_pred, label_name, normalize=True,\n",
    "                      path='test normalized_confusion_matrix', title='normalized confusion matrix for test dataset')\n",
    "plt.savefig(root_dir+'/output/normalized_confusion_matrix/'+pretrained.split('/')[-1], format='png')\n",
    "\n",
    "print('loss: %.2f' % loss)\n",
    "print('accuracy: %.2f' % accuracy)\n",
    "print('matthews coef: %.2f' % matthews)\n",
    "for i in range(len(label_name)):\n",
    "    print('precision score for %s: %.2f' % (label_name[i], precisions[label_name[i]]))\n",
    "    print('recall score for %s: %.2f' % (label_name[i], recalls[label_name[i]]))\n",
    "    print('f1 score for %s: %.2f' % (label_name[i], f1s[label_name[i]]))\n",
    "    # print('auc roc score for %s: %.2f' % (label_name[i], aucrocs[label_name[i]]))"
   ]
  },
  {
   "cell_type": "code",
   "execution_count": null,
   "metadata": {
    "id": "HdAIUFHAILor"
   },
   "outputs": [],
   "source": [
    "with open(root_dir+'/output/evaluation_metrics/'+pretrained.split('/')[-1], 'rb') as file:\n",
    "    p = pickle.load(file)"
   ]
  },
  {
   "cell_type": "code",
   "execution_count": null,
   "metadata": {
    "id": "0e4gExPjb5qu"
   },
   "outputs": [],
   "source": []
  }
 ],
 "metadata": {
  "accelerator": "GPU",
  "colab": {
   "collapsed_sections": [],
   "machine_shape": "hm",
   "name": "Transformers_FlauBERT.ipynb",
   "provenance": [
    {
     "file_id": "1Iu1IViDsvLWTPH6Rd26vwhxubz_lxxE1",
     "timestamp": 1627598898313
    },
    {
     "file_id": "1WjAGqEwwOS6zkdYK2IZc8udoWicn25Zx",
     "timestamp": 1627565917182
    },
    {
     "file_id": "1XF9F9_DSvPTf2s6NO1wKz9P9-sSE2CyI",
     "timestamp": 1627549915804
    },
    {
     "file_id": "1cPowJe9mhm7lP4d3UKC1SYJ-wEWBrHlV",
     "timestamp": 1627538690876
    }
   ]
  },
  "kernelspec": {
   "display_name": "Python 3",
   "language": "python",
   "name": "python3"
  },
  "language_info": {
   "codemirror_mode": {
    "name": "ipython",
    "version": 3
   },
   "file_extension": ".py",
   "mimetype": "text/x-python",
   "name": "python",
   "nbconvert_exporter": "python",
   "pygments_lexer": "ipython3",
   "version": "3.8.5"
  },
  "widgets": {
   "application/vnd.jupyter.widget-state+json": {
    "023d4a36d347433189e74fb5c78a7493": {
     "model_module": "@jupyter-widgets/controls",
     "model_name": "HTMLModel",
     "state": {
      "_dom_classes": [],
      "_model_module": "@jupyter-widgets/controls",
      "_model_module_version": "1.5.0",
      "_model_name": "HTMLModel",
      "_view_count": null,
      "_view_module": "@jupyter-widgets/controls",
      "_view_module_version": "1.5.0",
      "_view_name": "HTMLView",
      "description": "",
      "description_tooltip": null,
      "layout": "IPY_MODEL_d479f9787af24b06b010c8dc4a476b73",
      "placeholder": "​",
      "style": "IPY_MODEL_cc8e065cd20b4928a70d54d9f8b3d86c",
      "value": "100%"
     }
    },
    "05132c160be942629ed1b7fe8d591ace": {
     "model_module": "@jupyter-widgets/controls",
     "model_name": "ProgressStyleModel",
     "state": {
      "_model_module": "@jupyter-widgets/controls",
      "_model_module_version": "1.5.0",
      "_model_name": "ProgressStyleModel",
      "_view_count": null,
      "_view_module": "@jupyter-widgets/base",
      "_view_module_version": "1.2.0",
      "_view_name": "StyleView",
      "bar_color": null,
      "description_width": ""
     }
    },
    "062f10dcf8d34b4ba446a940adc23d20": {
     "model_module": "@jupyter-widgets/controls",
     "model_name": "HTMLModel",
     "state": {
      "_dom_classes": [],
      "_model_module": "@jupyter-widgets/controls",
      "_model_module_version": "1.5.0",
      "_model_name": "HTMLModel",
      "_view_count": null,
      "_view_module": "@jupyter-widgets/controls",
      "_view_module_version": "1.5.0",
      "_view_name": "HTMLView",
      "description": "",
      "description_tooltip": null,
      "layout": "IPY_MODEL_f5d6f3824c5c4570a168dd236978484a",
      "placeholder": "​",
      "style": "IPY_MODEL_877f80ea9b5a469b9c93d752bde0d621",
      "value": "100%"
     }
    },
    "0ba1870d105c458d96e7297aba5d4634": {
     "model_module": "@jupyter-widgets/base",
     "model_name": "LayoutModel",
     "state": {
      "_model_module": "@jupyter-widgets/base",
      "_model_module_version": "1.2.0",
      "_model_name": "LayoutModel",
      "_view_count": null,
      "_view_module": "@jupyter-widgets/base",
      "_view_module_version": "1.2.0",
      "_view_name": "LayoutView",
      "align_content": null,
      "align_items": null,
      "align_self": null,
      "border": null,
      "bottom": null,
      "display": null,
      "flex": null,
      "flex_flow": null,
      "grid_area": null,
      "grid_auto_columns": null,
      "grid_auto_flow": null,
      "grid_auto_rows": null,
      "grid_column": null,
      "grid_gap": null,
      "grid_row": null,
      "grid_template_areas": null,
      "grid_template_columns": null,
      "grid_template_rows": null,
      "height": null,
      "justify_content": null,
      "justify_items": null,
      "left": null,
      "margin": null,
      "max_height": null,
      "max_width": null,
      "min_height": null,
      "min_width": null,
      "object_fit": null,
      "object_position": null,
      "order": null,
      "overflow": null,
      "overflow_x": null,
      "overflow_y": null,
      "padding": null,
      "right": null,
      "top": null,
      "visibility": null,
      "width": null
     }
    },
    "1f606e08d45043a6b31d9078602de029": {
     "model_module": "@jupyter-widgets/base",
     "model_name": "LayoutModel",
     "state": {
      "_model_module": "@jupyter-widgets/base",
      "_model_module_version": "1.2.0",
      "_model_name": "LayoutModel",
      "_view_count": null,
      "_view_module": "@jupyter-widgets/base",
      "_view_module_version": "1.2.0",
      "_view_name": "LayoutView",
      "align_content": null,
      "align_items": null,
      "align_self": null,
      "border": null,
      "bottom": null,
      "display": null,
      "flex": null,
      "flex_flow": null,
      "grid_area": null,
      "grid_auto_columns": null,
      "grid_auto_flow": null,
      "grid_auto_rows": null,
      "grid_column": null,
      "grid_gap": null,
      "grid_row": null,
      "grid_template_areas": null,
      "grid_template_columns": null,
      "grid_template_rows": null,
      "height": null,
      "justify_content": null,
      "justify_items": null,
      "left": null,
      "margin": null,
      "max_height": null,
      "max_width": null,
      "min_height": null,
      "min_width": null,
      "object_fit": null,
      "object_position": null,
      "order": null,
      "overflow": null,
      "overflow_x": null,
      "overflow_y": null,
      "padding": null,
      "right": null,
      "top": null,
      "visibility": null,
      "width": null
     }
    },
    "23d97fe57cdb44b6b74be6c3d8874506": {
     "model_module": "@jupyter-widgets/controls",
     "model_name": "FloatProgressModel",
     "state": {
      "_dom_classes": [],
      "_model_module": "@jupyter-widgets/controls",
      "_model_module_version": "1.5.0",
      "_model_name": "FloatProgressModel",
      "_view_count": null,
      "_view_module": "@jupyter-widgets/controls",
      "_view_module_version": "1.5.0",
      "_view_name": "ProgressView",
      "bar_style": "",
      "description": "",
      "description_tooltip": null,
      "layout": "IPY_MODEL_530fdd13db8a42c5ba6185d7b7efdb9e",
      "max": 189,
      "min": 0,
      "orientation": "horizontal",
      "style": "IPY_MODEL_e0f1aa6f60ec4f69b9314916835d5e8e",
      "value": 189
     }
    },
    "265556d8425149a9b34ae5f7d33aaeaa": {
     "model_module": "@jupyter-widgets/base",
     "model_name": "LayoutModel",
     "state": {
      "_model_module": "@jupyter-widgets/base",
      "_model_module_version": "1.2.0",
      "_model_name": "LayoutModel",
      "_view_count": null,
      "_view_module": "@jupyter-widgets/base",
      "_view_module_version": "1.2.0",
      "_view_name": "LayoutView",
      "align_content": null,
      "align_items": null,
      "align_self": null,
      "border": null,
      "bottom": null,
      "display": null,
      "flex": null,
      "flex_flow": null,
      "grid_area": null,
      "grid_auto_columns": null,
      "grid_auto_flow": null,
      "grid_auto_rows": null,
      "grid_column": null,
      "grid_gap": null,
      "grid_row": null,
      "grid_template_areas": null,
      "grid_template_columns": null,
      "grid_template_rows": null,
      "height": null,
      "justify_content": null,
      "justify_items": null,
      "left": null,
      "margin": null,
      "max_height": null,
      "max_width": null,
      "min_height": null,
      "min_width": null,
      "object_fit": null,
      "object_position": null,
      "order": null,
      "overflow": null,
      "overflow_x": null,
      "overflow_y": null,
      "padding": null,
      "right": null,
      "top": null,
      "visibility": null,
      "width": null
     }
    },
    "3a53b3f60a154a86bda1c72ae4a54d97": {
     "model_module": "@jupyter-widgets/controls",
     "model_name": "FloatProgressModel",
     "state": {
      "_dom_classes": [],
      "_model_module": "@jupyter-widgets/controls",
      "_model_module_version": "1.5.0",
      "_model_name": "FloatProgressModel",
      "_view_count": null,
      "_view_module": "@jupyter-widgets/controls",
      "_view_module_version": "1.5.0",
      "_view_name": "ProgressView",
      "bar_style": "success",
      "description": "",
      "description_tooltip": null,
      "layout": "IPY_MODEL_a415b1d073d64ee1ba80dd198cd55e15",
      "max": 8,
      "min": 0,
      "orientation": "horizontal",
      "style": "IPY_MODEL_fd6a88d7538f48199b2129e703e9021e",
      "value": 8
     }
    },
    "3b35af1be3b04b549c78df855eec8daf": {
     "model_module": "@jupyter-widgets/controls",
     "model_name": "HBoxModel",
     "state": {
      "_dom_classes": [],
      "_model_module": "@jupyter-widgets/controls",
      "_model_module_version": "1.5.0",
      "_model_name": "HBoxModel",
      "_view_count": null,
      "_view_module": "@jupyter-widgets/controls",
      "_view_module_version": "1.5.0",
      "_view_name": "HBoxView",
      "box_style": "",
      "children": [
       "IPY_MODEL_062f10dcf8d34b4ba446a940adc23d20",
       "IPY_MODEL_23d97fe57cdb44b6b74be6c3d8874506",
       "IPY_MODEL_925a0d4aa8c7431f99737f3eec4102b7"
      ],
      "layout": "IPY_MODEL_1f606e08d45043a6b31d9078602de029"
     }
    },
    "3b8d9d2f36754104996c001a5e0c7dad": {
     "model_module": "@jupyter-widgets/base",
     "model_name": "LayoutModel",
     "state": {
      "_model_module": "@jupyter-widgets/base",
      "_model_module_version": "1.2.0",
      "_model_name": "LayoutModel",
      "_view_count": null,
      "_view_module": "@jupyter-widgets/base",
      "_view_module_version": "1.2.0",
      "_view_name": "LayoutView",
      "align_content": null,
      "align_items": null,
      "align_self": null,
      "border": null,
      "bottom": null,
      "display": null,
      "flex": null,
      "flex_flow": null,
      "grid_area": null,
      "grid_auto_columns": null,
      "grid_auto_flow": null,
      "grid_auto_rows": null,
      "grid_column": null,
      "grid_gap": null,
      "grid_row": null,
      "grid_template_areas": null,
      "grid_template_columns": null,
      "grid_template_rows": null,
      "height": null,
      "justify_content": null,
      "justify_items": null,
      "left": null,
      "margin": null,
      "max_height": null,
      "max_width": null,
      "min_height": null,
      "min_width": null,
      "object_fit": null,
      "object_position": null,
      "order": null,
      "overflow": null,
      "overflow_x": null,
      "overflow_y": null,
      "padding": null,
      "right": null,
      "top": null,
      "visibility": null,
      "width": null
     }
    },
    "3bd4e295740847fb852ce3eff2fef9b2": {
     "model_module": "@jupyter-widgets/controls",
     "model_name": "DescriptionStyleModel",
     "state": {
      "_model_module": "@jupyter-widgets/controls",
      "_model_module_version": "1.5.0",
      "_model_name": "DescriptionStyleModel",
      "_view_count": null,
      "_view_module": "@jupyter-widgets/base",
      "_view_module_version": "1.2.0",
      "_view_name": "StyleView",
      "description_width": ""
     }
    },
    "434267017d794d1db96471724be7b7d6": {
     "model_module": "@jupyter-widgets/controls",
     "model_name": "HTMLModel",
     "state": {
      "_dom_classes": [],
      "_model_module": "@jupyter-widgets/controls",
      "_model_module_version": "1.5.0",
      "_model_name": "HTMLModel",
      "_view_count": null,
      "_view_module": "@jupyter-widgets/controls",
      "_view_module_version": "1.5.0",
      "_view_name": "HTMLView",
      "description": "",
      "description_tooltip": null,
      "layout": "IPY_MODEL_afdc48dcc35c4e6da5db0d2d912ce8be",
      "placeholder": "​",
      "style": "IPY_MODEL_b447a872b33d40aebe1a20eb5ebf7c36",
      "value": " 8/8 [00:03&lt;00:00,  2.20ba/s]"
     }
    },
    "4ab4b072663c49e18e95c3bcf1825eaf": {
     "model_module": "@jupyter-widgets/base",
     "model_name": "LayoutModel",
     "state": {
      "_model_module": "@jupyter-widgets/base",
      "_model_module_version": "1.2.0",
      "_model_name": "LayoutModel",
      "_view_count": null,
      "_view_module": "@jupyter-widgets/base",
      "_view_module_version": "1.2.0",
      "_view_name": "LayoutView",
      "align_content": null,
      "align_items": null,
      "align_self": null,
      "border": null,
      "bottom": null,
      "display": null,
      "flex": null,
      "flex_flow": null,
      "grid_area": null,
      "grid_auto_columns": null,
      "grid_auto_flow": null,
      "grid_auto_rows": null,
      "grid_column": null,
      "grid_gap": null,
      "grid_row": null,
      "grid_template_areas": null,
      "grid_template_columns": null,
      "grid_template_rows": null,
      "height": null,
      "justify_content": null,
      "justify_items": null,
      "left": null,
      "margin": null,
      "max_height": null,
      "max_width": null,
      "min_height": null,
      "min_width": null,
      "object_fit": null,
      "object_position": null,
      "order": null,
      "overflow": null,
      "overflow_x": null,
      "overflow_y": null,
      "padding": null,
      "right": null,
      "top": null,
      "visibility": null,
      "width": null
     }
    },
    "530fdd13db8a42c5ba6185d7b7efdb9e": {
     "model_module": "@jupyter-widgets/base",
     "model_name": "LayoutModel",
     "state": {
      "_model_module": "@jupyter-widgets/base",
      "_model_module_version": "1.2.0",
      "_model_name": "LayoutModel",
      "_view_count": null,
      "_view_module": "@jupyter-widgets/base",
      "_view_module_version": "1.2.0",
      "_view_name": "LayoutView",
      "align_content": null,
      "align_items": null,
      "align_self": null,
      "border": null,
      "bottom": null,
      "display": null,
      "flex": null,
      "flex_flow": null,
      "grid_area": null,
      "grid_auto_columns": null,
      "grid_auto_flow": null,
      "grid_auto_rows": null,
      "grid_column": null,
      "grid_gap": null,
      "grid_row": null,
      "grid_template_areas": null,
      "grid_template_columns": null,
      "grid_template_rows": null,
      "height": null,
      "justify_content": null,
      "justify_items": null,
      "left": null,
      "margin": null,
      "max_height": null,
      "max_width": null,
      "min_height": null,
      "min_width": null,
      "object_fit": null,
      "object_position": null,
      "order": null,
      "overflow": null,
      "overflow_x": null,
      "overflow_y": null,
      "padding": null,
      "right": null,
      "top": null,
      "visibility": null,
      "width": null
     }
    },
    "5666f4ca20984167b9f6a0865773fd36": {
     "model_module": "@jupyter-widgets/controls",
     "model_name": "HTMLModel",
     "state": {
      "_dom_classes": [],
      "_model_module": "@jupyter-widgets/controls",
      "_model_module_version": "1.5.0",
      "_model_name": "HTMLModel",
      "_view_count": null,
      "_view_module": "@jupyter-widgets/controls",
      "_view_module_version": "1.5.0",
      "_view_name": "HTMLView",
      "description": "",
      "description_tooltip": null,
      "layout": "IPY_MODEL_d9af8d1961324672914296e0015530b9",
      "placeholder": "​",
      "style": "IPY_MODEL_8ff9ae4d6a79442f94522c5aaf2ce8ef",
      "value": "Downloading: "
     }
    },
    "5ba915602089445f8a4506e9b0eb7266": {
     "model_module": "@jupyter-widgets/controls",
     "model_name": "DescriptionStyleModel",
     "state": {
      "_model_module": "@jupyter-widgets/controls",
      "_model_module_version": "1.5.0",
      "_model_name": "DescriptionStyleModel",
      "_view_count": null,
      "_view_module": "@jupyter-widgets/base",
      "_view_module_version": "1.2.0",
      "_view_name": "StyleView",
      "description_width": ""
     }
    },
    "6c980e39b75c424ab089db8e2e96d96f": {
     "model_module": "@jupyter-widgets/controls",
     "model_name": "ProgressStyleModel",
     "state": {
      "_model_module": "@jupyter-widgets/controls",
      "_model_module_version": "1.5.0",
      "_model_name": "ProgressStyleModel",
      "_view_count": null,
      "_view_module": "@jupyter-widgets/base",
      "_view_module_version": "1.2.0",
      "_view_name": "StyleView",
      "bar_color": null,
      "description_width": ""
     }
    },
    "7519b0f1bf7743f0b7139792d9b2ebc9": {
     "model_module": "@jupyter-widgets/controls",
     "model_name": "DescriptionStyleModel",
     "state": {
      "_model_module": "@jupyter-widgets/controls",
      "_model_module_version": "1.5.0",
      "_model_name": "DescriptionStyleModel",
      "_view_count": null,
      "_view_module": "@jupyter-widgets/base",
      "_view_module_version": "1.2.0",
      "_view_name": "StyleView",
      "description_width": ""
     }
    },
    "7fd49264278f43bc84e93dab0a6d565b": {
     "model_module": "@jupyter-widgets/base",
     "model_name": "LayoutModel",
     "state": {
      "_model_module": "@jupyter-widgets/base",
      "_model_module_version": "1.2.0",
      "_model_name": "LayoutModel",
      "_view_count": null,
      "_view_module": "@jupyter-widgets/base",
      "_view_module_version": "1.2.0",
      "_view_name": "LayoutView",
      "align_content": null,
      "align_items": null,
      "align_self": null,
      "border": null,
      "bottom": null,
      "display": null,
      "flex": null,
      "flex_flow": null,
      "grid_area": null,
      "grid_auto_columns": null,
      "grid_auto_flow": null,
      "grid_auto_rows": null,
      "grid_column": null,
      "grid_gap": null,
      "grid_row": null,
      "grid_template_areas": null,
      "grid_template_columns": null,
      "grid_template_rows": null,
      "height": null,
      "justify_content": null,
      "justify_items": null,
      "left": null,
      "margin": null,
      "max_height": null,
      "max_width": null,
      "min_height": null,
      "min_width": null,
      "object_fit": null,
      "object_position": null,
      "order": null,
      "overflow": null,
      "overflow_x": null,
      "overflow_y": null,
      "padding": null,
      "right": null,
      "top": null,
      "visibility": null,
      "width": null
     }
    },
    "877f80ea9b5a469b9c93d752bde0d621": {
     "model_module": "@jupyter-widgets/controls",
     "model_name": "DescriptionStyleModel",
     "state": {
      "_model_module": "@jupyter-widgets/controls",
      "_model_module_version": "1.5.0",
      "_model_name": "DescriptionStyleModel",
      "_view_count": null,
      "_view_module": "@jupyter-widgets/base",
      "_view_module_version": "1.2.0",
      "_view_name": "StyleView",
      "description_width": ""
     }
    },
    "8ff9ae4d6a79442f94522c5aaf2ce8ef": {
     "model_module": "@jupyter-widgets/controls",
     "model_name": "DescriptionStyleModel",
     "state": {
      "_model_module": "@jupyter-widgets/controls",
      "_model_module_version": "1.5.0",
      "_model_name": "DescriptionStyleModel",
      "_view_count": null,
      "_view_module": "@jupyter-widgets/base",
      "_view_module_version": "1.2.0",
      "_view_name": "StyleView",
      "description_width": ""
     }
    },
    "925a0d4aa8c7431f99737f3eec4102b7": {
     "model_module": "@jupyter-widgets/controls",
     "model_name": "HTMLModel",
     "state": {
      "_dom_classes": [],
      "_model_module": "@jupyter-widgets/controls",
      "_model_module_version": "1.5.0",
      "_model_name": "HTMLModel",
      "_view_count": null,
      "_view_module": "@jupyter-widgets/controls",
      "_view_module_version": "1.5.0",
      "_view_name": "HTMLView",
      "description": "",
      "description_tooltip": null,
      "layout": "IPY_MODEL_d59b4f99dd244582a95d75bdf82ef0e5",
      "placeholder": "​",
      "style": "IPY_MODEL_c1414d5712ae4ecea92da58878752fb4",
      "value": " 189/189 [02:42&lt;00:00,  1.35it/s]"
     }
    },
    "a415b1d073d64ee1ba80dd198cd55e15": {
     "model_module": "@jupyter-widgets/base",
     "model_name": "LayoutModel",
     "state": {
      "_model_module": "@jupyter-widgets/base",
      "_model_module_version": "1.2.0",
      "_model_name": "LayoutModel",
      "_view_count": null,
      "_view_module": "@jupyter-widgets/base",
      "_view_module_version": "1.2.0",
      "_view_name": "LayoutView",
      "align_content": null,
      "align_items": null,
      "align_self": null,
      "border": null,
      "bottom": null,
      "display": null,
      "flex": null,
      "flex_flow": null,
      "grid_area": null,
      "grid_auto_columns": null,
      "grid_auto_flow": null,
      "grid_auto_rows": null,
      "grid_column": null,
      "grid_gap": null,
      "grid_row": null,
      "grid_template_areas": null,
      "grid_template_columns": null,
      "grid_template_rows": null,
      "height": null,
      "justify_content": null,
      "justify_items": null,
      "left": null,
      "margin": null,
      "max_height": null,
      "max_width": null,
      "min_height": null,
      "min_width": null,
      "object_fit": null,
      "object_position": null,
      "order": null,
      "overflow": null,
      "overflow_x": null,
      "overflow_y": null,
      "padding": null,
      "right": null,
      "top": null,
      "visibility": null,
      "width": null
     }
    },
    "ac62b8010cd649d0a9f2eea6dbf27ef8": {
     "model_module": "@jupyter-widgets/base",
     "model_name": "LayoutModel",
     "state": {
      "_model_module": "@jupyter-widgets/base",
      "_model_module_version": "1.2.0",
      "_model_name": "LayoutModel",
      "_view_count": null,
      "_view_module": "@jupyter-widgets/base",
      "_view_module_version": "1.2.0",
      "_view_name": "LayoutView",
      "align_content": null,
      "align_items": null,
      "align_self": null,
      "border": null,
      "bottom": null,
      "display": null,
      "flex": null,
      "flex_flow": null,
      "grid_area": null,
      "grid_auto_columns": null,
      "grid_auto_flow": null,
      "grid_auto_rows": null,
      "grid_column": null,
      "grid_gap": null,
      "grid_row": null,
      "grid_template_areas": null,
      "grid_template_columns": null,
      "grid_template_rows": null,
      "height": null,
      "justify_content": null,
      "justify_items": null,
      "left": null,
      "margin": null,
      "max_height": null,
      "max_width": null,
      "min_height": null,
      "min_width": null,
      "object_fit": null,
      "object_position": null,
      "order": null,
      "overflow": null,
      "overflow_x": null,
      "overflow_y": null,
      "padding": null,
      "right": null,
      "top": null,
      "visibility": null,
      "width": null
     }
    },
    "afdc48dcc35c4e6da5db0d2d912ce8be": {
     "model_module": "@jupyter-widgets/base",
     "model_name": "LayoutModel",
     "state": {
      "_model_module": "@jupyter-widgets/base",
      "_model_module_version": "1.2.0",
      "_model_name": "LayoutModel",
      "_view_count": null,
      "_view_module": "@jupyter-widgets/base",
      "_view_module_version": "1.2.0",
      "_view_name": "LayoutView",
      "align_content": null,
      "align_items": null,
      "align_self": null,
      "border": null,
      "bottom": null,
      "display": null,
      "flex": null,
      "flex_flow": null,
      "grid_area": null,
      "grid_auto_columns": null,
      "grid_auto_flow": null,
      "grid_auto_rows": null,
      "grid_column": null,
      "grid_gap": null,
      "grid_row": null,
      "grid_template_areas": null,
      "grid_template_columns": null,
      "grid_template_rows": null,
      "height": null,
      "justify_content": null,
      "justify_items": null,
      "left": null,
      "margin": null,
      "max_height": null,
      "max_width": null,
      "min_height": null,
      "min_width": null,
      "object_fit": null,
      "object_position": null,
      "order": null,
      "overflow": null,
      "overflow_x": null,
      "overflow_y": null,
      "padding": null,
      "right": null,
      "top": null,
      "visibility": null,
      "width": null
     }
    },
    "b0b09b7c103946c0a1641504269d2dbd": {
     "model_module": "@jupyter-widgets/base",
     "model_name": "LayoutModel",
     "state": {
      "_model_module": "@jupyter-widgets/base",
      "_model_module_version": "1.2.0",
      "_model_name": "LayoutModel",
      "_view_count": null,
      "_view_module": "@jupyter-widgets/base",
      "_view_module_version": "1.2.0",
      "_view_name": "LayoutView",
      "align_content": null,
      "align_items": null,
      "align_self": null,
      "border": null,
      "bottom": null,
      "display": null,
      "flex": null,
      "flex_flow": null,
      "grid_area": null,
      "grid_auto_columns": null,
      "grid_auto_flow": null,
      "grid_auto_rows": null,
      "grid_column": null,
      "grid_gap": null,
      "grid_row": null,
      "grid_template_areas": null,
      "grid_template_columns": null,
      "grid_template_rows": null,
      "height": null,
      "justify_content": null,
      "justify_items": null,
      "left": null,
      "margin": null,
      "max_height": null,
      "max_width": null,
      "min_height": null,
      "min_width": null,
      "object_fit": null,
      "object_position": null,
      "order": null,
      "overflow": null,
      "overflow_x": null,
      "overflow_y": null,
      "padding": null,
      "right": null,
      "top": null,
      "visibility": null,
      "width": null
     }
    },
    "b11b9f9c2d0044029578e7c2ec269ad0": {
     "model_module": "@jupyter-widgets/controls",
     "model_name": "HTMLModel",
     "state": {
      "_dom_classes": [],
      "_model_module": "@jupyter-widgets/controls",
      "_model_module_version": "1.5.0",
      "_model_name": "HTMLModel",
      "_view_count": null,
      "_view_module": "@jupyter-widgets/controls",
      "_view_module_version": "1.5.0",
      "_view_name": "HTMLView",
      "description": "",
      "description_tooltip": null,
      "layout": "IPY_MODEL_b0b09b7c103946c0a1641504269d2dbd",
      "placeholder": "​",
      "style": "IPY_MODEL_7519b0f1bf7743f0b7139792d9b2ebc9",
      "value": " 3.21k/? [00:00&lt;00:00, 115kB/s]"
     }
    },
    "b447a872b33d40aebe1a20eb5ebf7c36": {
     "model_module": "@jupyter-widgets/controls",
     "model_name": "DescriptionStyleModel",
     "state": {
      "_model_module": "@jupyter-widgets/controls",
      "_model_module_version": "1.5.0",
      "_model_name": "DescriptionStyleModel",
      "_view_count": null,
      "_view_module": "@jupyter-widgets/base",
      "_view_module_version": "1.2.0",
      "_view_name": "StyleView",
      "description_width": ""
     }
    },
    "b6745d39f0a74bb69ff2787a96ae2524": {
     "model_module": "@jupyter-widgets/controls",
     "model_name": "HBoxModel",
     "state": {
      "_dom_classes": [],
      "_model_module": "@jupyter-widgets/controls",
      "_model_module_version": "1.5.0",
      "_model_name": "HBoxModel",
      "_view_count": null,
      "_view_module": "@jupyter-widgets/controls",
      "_view_module_version": "1.5.0",
      "_view_name": "HBoxView",
      "box_style": "",
      "children": [
       "IPY_MODEL_f6e56813c3cd49e4b5fcb03b446fbbe3",
       "IPY_MODEL_3a53b3f60a154a86bda1c72ae4a54d97",
       "IPY_MODEL_434267017d794d1db96471724be7b7d6"
      ],
      "layout": "IPY_MODEL_0ba1870d105c458d96e7297aba5d4634"
     }
    },
    "bcc8a9344c7a468095ecf53c72eecb62": {
     "model_module": "@jupyter-widgets/controls",
     "model_name": "FloatProgressModel",
     "state": {
      "_dom_classes": [],
      "_model_module": "@jupyter-widgets/controls",
      "_model_module_version": "1.5.0",
      "_model_name": "FloatProgressModel",
      "_view_count": null,
      "_view_module": "@jupyter-widgets/controls",
      "_view_module_version": "1.5.0",
      "_view_name": "ProgressView",
      "bar_style": "success",
      "description": "",
      "description_tooltip": null,
      "layout": "IPY_MODEL_ac62b8010cd649d0a9f2eea6dbf27ef8",
      "max": 1421,
      "min": 0,
      "orientation": "horizontal",
      "style": "IPY_MODEL_6c980e39b75c424ab089db8e2e96d96f",
      "value": 1421
     }
    },
    "c1414d5712ae4ecea92da58878752fb4": {
     "model_module": "@jupyter-widgets/controls",
     "model_name": "DescriptionStyleModel",
     "state": {
      "_model_module": "@jupyter-widgets/controls",
      "_model_module_version": "1.5.0",
      "_model_name": "DescriptionStyleModel",
      "_view_count": null,
      "_view_module": "@jupyter-widgets/base",
      "_view_module_version": "1.2.0",
      "_view_name": "StyleView",
      "description_width": ""
     }
    },
    "c2850c6165b04637b06b2914b0ce7d46": {
     "model_module": "@jupyter-widgets/controls",
     "model_name": "HTMLModel",
     "state": {
      "_dom_classes": [],
      "_model_module": "@jupyter-widgets/controls",
      "_model_module_version": "1.5.0",
      "_model_name": "HTMLModel",
      "_view_count": null,
      "_view_module": "@jupyter-widgets/controls",
      "_view_module_version": "1.5.0",
      "_view_name": "HTMLView",
      "description": "",
      "description_tooltip": null,
      "layout": "IPY_MODEL_4ab4b072663c49e18e95c3bcf1825eaf",
      "placeholder": "​",
      "style": "IPY_MODEL_3bd4e295740847fb852ce3eff2fef9b2",
      "value": " 69/69 [00:37&lt;00:00,  2.05ba/s]"
     }
    },
    "c498b7cea52d47d28f34bdac471c7dcd": {
     "model_module": "@jupyter-widgets/base",
     "model_name": "LayoutModel",
     "state": {
      "_model_module": "@jupyter-widgets/base",
      "_model_module_version": "1.2.0",
      "_model_name": "LayoutModel",
      "_view_count": null,
      "_view_module": "@jupyter-widgets/base",
      "_view_module_version": "1.2.0",
      "_view_name": "LayoutView",
      "align_content": null,
      "align_items": null,
      "align_self": null,
      "border": null,
      "bottom": null,
      "display": null,
      "flex": null,
      "flex_flow": null,
      "grid_area": null,
      "grid_auto_columns": null,
      "grid_auto_flow": null,
      "grid_auto_rows": null,
      "grid_column": null,
      "grid_gap": null,
      "grid_row": null,
      "grid_template_areas": null,
      "grid_template_columns": null,
      "grid_template_rows": null,
      "height": null,
      "justify_content": null,
      "justify_items": null,
      "left": null,
      "margin": null,
      "max_height": null,
      "max_width": null,
      "min_height": null,
      "min_width": null,
      "object_fit": null,
      "object_position": null,
      "order": null,
      "overflow": null,
      "overflow_x": null,
      "overflow_y": null,
      "padding": null,
      "right": null,
      "top": null,
      "visibility": null,
      "width": null
     }
    },
    "cc8e065cd20b4928a70d54d9f8b3d86c": {
     "model_module": "@jupyter-widgets/controls",
     "model_name": "DescriptionStyleModel",
     "state": {
      "_model_module": "@jupyter-widgets/controls",
      "_model_module_version": "1.5.0",
      "_model_name": "DescriptionStyleModel",
      "_view_count": null,
      "_view_module": "@jupyter-widgets/base",
      "_view_module_version": "1.2.0",
      "_view_name": "StyleView",
      "description_width": ""
     }
    },
    "d479f9787af24b06b010c8dc4a476b73": {
     "model_module": "@jupyter-widgets/base",
     "model_name": "LayoutModel",
     "state": {
      "_model_module": "@jupyter-widgets/base",
      "_model_module_version": "1.2.0",
      "_model_name": "LayoutModel",
      "_view_count": null,
      "_view_module": "@jupyter-widgets/base",
      "_view_module_version": "1.2.0",
      "_view_name": "LayoutView",
      "align_content": null,
      "align_items": null,
      "align_self": null,
      "border": null,
      "bottom": null,
      "display": null,
      "flex": null,
      "flex_flow": null,
      "grid_area": null,
      "grid_auto_columns": null,
      "grid_auto_flow": null,
      "grid_auto_rows": null,
      "grid_column": null,
      "grid_gap": null,
      "grid_row": null,
      "grid_template_areas": null,
      "grid_template_columns": null,
      "grid_template_rows": null,
      "height": null,
      "justify_content": null,
      "justify_items": null,
      "left": null,
      "margin": null,
      "max_height": null,
      "max_width": null,
      "min_height": null,
      "min_width": null,
      "object_fit": null,
      "object_position": null,
      "order": null,
      "overflow": null,
      "overflow_x": null,
      "overflow_y": null,
      "padding": null,
      "right": null,
      "top": null,
      "visibility": null,
      "width": null
     }
    },
    "d59b4f99dd244582a95d75bdf82ef0e5": {
     "model_module": "@jupyter-widgets/base",
     "model_name": "LayoutModel",
     "state": {
      "_model_module": "@jupyter-widgets/base",
      "_model_module_version": "1.2.0",
      "_model_name": "LayoutModel",
      "_view_count": null,
      "_view_module": "@jupyter-widgets/base",
      "_view_module_version": "1.2.0",
      "_view_name": "LayoutView",
      "align_content": null,
      "align_items": null,
      "align_self": null,
      "border": null,
      "bottom": null,
      "display": null,
      "flex": null,
      "flex_flow": null,
      "grid_area": null,
      "grid_auto_columns": null,
      "grid_auto_flow": null,
      "grid_auto_rows": null,
      "grid_column": null,
      "grid_gap": null,
      "grid_row": null,
      "grid_template_areas": null,
      "grid_template_columns": null,
      "grid_template_rows": null,
      "height": null,
      "justify_content": null,
      "justify_items": null,
      "left": null,
      "margin": null,
      "max_height": null,
      "max_width": null,
      "min_height": null,
      "min_width": null,
      "object_fit": null,
      "object_position": null,
      "order": null,
      "overflow": null,
      "overflow_x": null,
      "overflow_y": null,
      "padding": null,
      "right": null,
      "top": null,
      "visibility": null,
      "width": null
     }
    },
    "d9af8d1961324672914296e0015530b9": {
     "model_module": "@jupyter-widgets/base",
     "model_name": "LayoutModel",
     "state": {
      "_model_module": "@jupyter-widgets/base",
      "_model_module_version": "1.2.0",
      "_model_name": "LayoutModel",
      "_view_count": null,
      "_view_module": "@jupyter-widgets/base",
      "_view_module_version": "1.2.0",
      "_view_name": "LayoutView",
      "align_content": null,
      "align_items": null,
      "align_self": null,
      "border": null,
      "bottom": null,
      "display": null,
      "flex": null,
      "flex_flow": null,
      "grid_area": null,
      "grid_auto_columns": null,
      "grid_auto_flow": null,
      "grid_auto_rows": null,
      "grid_column": null,
      "grid_gap": null,
      "grid_row": null,
      "grid_template_areas": null,
      "grid_template_columns": null,
      "grid_template_rows": null,
      "height": null,
      "justify_content": null,
      "justify_items": null,
      "left": null,
      "margin": null,
      "max_height": null,
      "max_width": null,
      "min_height": null,
      "min_width": null,
      "object_fit": null,
      "object_position": null,
      "order": null,
      "overflow": null,
      "overflow_x": null,
      "overflow_y": null,
      "padding": null,
      "right": null,
      "top": null,
      "visibility": null,
      "width": null
     }
    },
    "daef1eac770d41409f745dfeccef1113": {
     "model_module": "@jupyter-widgets/controls",
     "model_name": "HBoxModel",
     "state": {
      "_dom_classes": [],
      "_model_module": "@jupyter-widgets/controls",
      "_model_module_version": "1.5.0",
      "_model_name": "HBoxModel",
      "_view_count": null,
      "_view_module": "@jupyter-widgets/controls",
      "_view_module_version": "1.5.0",
      "_view_name": "HBoxView",
      "box_style": "",
      "children": [
       "IPY_MODEL_5666f4ca20984167b9f6a0865773fd36",
       "IPY_MODEL_bcc8a9344c7a468095ecf53c72eecb62",
       "IPY_MODEL_b11b9f9c2d0044029578e7c2ec269ad0"
      ],
      "layout": "IPY_MODEL_c498b7cea52d47d28f34bdac471c7dcd"
     }
    },
    "dcedfc5404b54251b8b396cee92b5695": {
     "model_module": "@jupyter-widgets/controls",
     "model_name": "FloatProgressModel",
     "state": {
      "_dom_classes": [],
      "_model_module": "@jupyter-widgets/controls",
      "_model_module_version": "1.5.0",
      "_model_name": "FloatProgressModel",
      "_view_count": null,
      "_view_module": "@jupyter-widgets/controls",
      "_view_module_version": "1.5.0",
      "_view_name": "ProgressView",
      "bar_style": "success",
      "description": "",
      "description_tooltip": null,
      "layout": "IPY_MODEL_3b8d9d2f36754104996c001a5e0c7dad",
      "max": 69,
      "min": 0,
      "orientation": "horizontal",
      "style": "IPY_MODEL_05132c160be942629ed1b7fe8d591ace",
      "value": 69
     }
    },
    "e0f1aa6f60ec4f69b9314916835d5e8e": {
     "model_module": "@jupyter-widgets/controls",
     "model_name": "ProgressStyleModel",
     "state": {
      "_model_module": "@jupyter-widgets/controls",
      "_model_module_version": "1.5.0",
      "_model_name": "ProgressStyleModel",
      "_view_count": null,
      "_view_module": "@jupyter-widgets/base",
      "_view_module_version": "1.2.0",
      "_view_name": "StyleView",
      "bar_color": null,
      "description_width": ""
     }
    },
    "f3e36e68754d4a0fa35beac6be0b8c5a": {
     "model_module": "@jupyter-widgets/controls",
     "model_name": "HBoxModel",
     "state": {
      "_dom_classes": [],
      "_model_module": "@jupyter-widgets/controls",
      "_model_module_version": "1.5.0",
      "_model_name": "HBoxModel",
      "_view_count": null,
      "_view_module": "@jupyter-widgets/controls",
      "_view_module_version": "1.5.0",
      "_view_name": "HBoxView",
      "box_style": "",
      "children": [
       "IPY_MODEL_023d4a36d347433189e74fb5c78a7493",
       "IPY_MODEL_dcedfc5404b54251b8b396cee92b5695",
       "IPY_MODEL_c2850c6165b04637b06b2914b0ce7d46"
      ],
      "layout": "IPY_MODEL_265556d8425149a9b34ae5f7d33aaeaa"
     }
    },
    "f5d6f3824c5c4570a168dd236978484a": {
     "model_module": "@jupyter-widgets/base",
     "model_name": "LayoutModel",
     "state": {
      "_model_module": "@jupyter-widgets/base",
      "_model_module_version": "1.2.0",
      "_model_name": "LayoutModel",
      "_view_count": null,
      "_view_module": "@jupyter-widgets/base",
      "_view_module_version": "1.2.0",
      "_view_name": "LayoutView",
      "align_content": null,
      "align_items": null,
      "align_self": null,
      "border": null,
      "bottom": null,
      "display": null,
      "flex": null,
      "flex_flow": null,
      "grid_area": null,
      "grid_auto_columns": null,
      "grid_auto_flow": null,
      "grid_auto_rows": null,
      "grid_column": null,
      "grid_gap": null,
      "grid_row": null,
      "grid_template_areas": null,
      "grid_template_columns": null,
      "grid_template_rows": null,
      "height": null,
      "justify_content": null,
      "justify_items": null,
      "left": null,
      "margin": null,
      "max_height": null,
      "max_width": null,
      "min_height": null,
      "min_width": null,
      "object_fit": null,
      "object_position": null,
      "order": null,
      "overflow": null,
      "overflow_x": null,
      "overflow_y": null,
      "padding": null,
      "right": null,
      "top": null,
      "visibility": null,
      "width": null
     }
    },
    "f6e56813c3cd49e4b5fcb03b446fbbe3": {
     "model_module": "@jupyter-widgets/controls",
     "model_name": "HTMLModel",
     "state": {
      "_dom_classes": [],
      "_model_module": "@jupyter-widgets/controls",
      "_model_module_version": "1.5.0",
      "_model_name": "HTMLModel",
      "_view_count": null,
      "_view_module": "@jupyter-widgets/controls",
      "_view_module_version": "1.5.0",
      "_view_name": "HTMLView",
      "description": "",
      "description_tooltip": null,
      "layout": "IPY_MODEL_7fd49264278f43bc84e93dab0a6d565b",
      "placeholder": "​",
      "style": "IPY_MODEL_5ba915602089445f8a4506e9b0eb7266",
      "value": "100%"
     }
    },
    "fd6a88d7538f48199b2129e703e9021e": {
     "model_module": "@jupyter-widgets/controls",
     "model_name": "ProgressStyleModel",
     "state": {
      "_model_module": "@jupyter-widgets/controls",
      "_model_module_version": "1.5.0",
      "_model_name": "ProgressStyleModel",
      "_view_count": null,
      "_view_module": "@jupyter-widgets/base",
      "_view_module_version": "1.2.0",
      "_view_name": "StyleView",
      "bar_color": null,
      "description_width": ""
     }
    }
   }
  }
 },
 "nbformat": 4,
 "nbformat_minor": 1
}
