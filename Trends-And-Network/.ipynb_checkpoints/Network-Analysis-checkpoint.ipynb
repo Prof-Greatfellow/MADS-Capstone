{
 "cells": [
  {
   "cell_type": "code",
   "execution_count": 2,
   "metadata": {},
   "outputs": [],
   "source": [
    "# Import packages\n",
    "import numpy as np\n",
    "import pandas as pd\n",
    "import matplotlib.pyplot as plt\n",
    "import networkx as nx"
   ]
  },
  {
   "cell_type": "code",
   "execution_count": 3,
   "metadata": {},
   "outputs": [],
   "source": [
    "df_train = pd.read_csv('../assets/df_train_full_info.csv')\n",
    "df_dev = pd.read_csv('../assets/df_dev_full_info.csv')\n",
    "df_test = pd.read_csv('../assets/df_test_full_info.csv')\n",
    "df = pd.concat([df_train,df_dev,df_test])\n",
    "# Network analysis requires strongly on the twitter information scraped from the API. \n",
    "# Therefore we eliminate all those tweets which we did not scrape successfully right in the first step.\n",
    "df = df[df['Response-Code']=='Successful']"
   ]
  },
  {
   "cell_type": "code",
   "execution_count": 4,
   "metadata": {},
   "outputs": [],
   "source": [
    "df_harvey = df[df['place'].str.startswith('harvey')]"
   ]
  },
  {
   "cell_type": "code",
   "execution_count": 29,
   "metadata": {},
   "outputs": [
    {
     "name": "stderr",
     "output_type": "stream",
     "text": [
      "<ipython-input-29-b458d3c41ba1>:1: SettingWithCopyWarning: \n",
      "A value is trying to be set on a copy of a slice from a DataFrame.\n",
      "Try using .loc[row_indexer,col_indexer] = value instead\n",
      "\n",
      "See the caveats in the documentation: https://pandas.pydata.org/pandas-docs/stable/user_guide/indexing.html#returning-a-view-versus-a-copy\n",
      "  df_harvey['user_mentions']=df_harvey['entities'].map(lambda x:eval(x)['user_mentions'])\n",
      "<ipython-input-29-b458d3c41ba1>:2: SettingWithCopyWarning: \n",
      "A value is trying to be set on a copy of a slice from a DataFrame.\n",
      "Try using .loc[row_indexer,col_indexer] = value instead\n",
      "\n",
      "See the caveats in the documentation: https://pandas.pydata.org/pandas-docs/stable/user_guide/indexing.html#returning-a-view-versus-a-copy\n",
      "  df_harvey['user_screen_name'] = df_harvey['user'].map(lambda x:eval(x)['screen_name'])\n",
      "<ipython-input-29-b458d3c41ba1>:4: SettingWithCopyWarning: \n",
      "A value is trying to be set on a copy of a slice from a DataFrame.\n",
      "Try using .loc[row_indexer,col_indexer] = value instead\n",
      "\n",
      "See the caveats in the documentation: https://pandas.pydata.org/pandas-docs/stable/user_guide/indexing.html#returning-a-view-versus-a-copy\n",
      "  df_harvey_user_mention['user_mentions_screen_name'] = df_harvey_user_mention['user_mentions'].map(lambda x:[i['screen_name'] for i in x])\n"
     ]
    }
   ],
   "source": [
    "df_harvey['user_mentions']=df_harvey['entities'].map(lambda x:eval(x)['user_mentions'])\n",
    "df_harvey['user_screen_name'] = df_harvey['user'].map(lambda x:eval(x)['screen_name'])\n",
    "df_harvey_user_mention=df_harvey[df_harvey['user_mentions'].str.len()>0]\n",
    "df_harvey_user_mention['user_mentions_screen_name'] = df_harvey_user_mention['user_mentions'].map(lambda x:[i['screen_name'] for i in x])"
   ]
  },
  {
   "cell_type": "markdown",
   "metadata": {},
   "source": [
    "Assumptions: \n",
    "\n",
    "1. All relationships are mutual and weighted (i.e. weighted and directed graph). It's not the best model, but it's what we can do with few data;\n",
    "2. If User A mentions User B, then there is a mutual relationship between A and B;\n",
    "3. If User A mentions both User B and User C, then there is an additional mutual relationship between B and C;\n",
    "4. If there have been $n$ interactions between users A and B, then their mutual weight is set to $n$."
   ]
  },
  {
   "cell_type": "code",
   "execution_count": 40,
   "metadata": {},
   "outputs": [],
   "source": [
    "G = nx.Graph()\n",
    "list_edge = dict()\n",
    "\n",
    "for idx in range(df_harvey_user_mention.shape[0]):\n",
    "    user1 = df_harvey_user_mention.iloc[idx]['user_screen_name']\n",
    "    user2_list = df_harvey_user_mention.iloc[idx]['user_mentions_screen_name']\n",
    "    for user2 in user2_list:\n",
    "        if (user1,user2) in list_edge:\n",
    "            list_edge[(user1,user2)]+=1\n",
    "        elif (user2,user1) in list_edge:\n",
    "            list_edge[(user2,user1)]+=1\n",
    "        else:\n",
    "            list_edge[(user1,user2)]=1\n",
    "        \n",
    "    if len(user2_list)>1:\n",
    "        for i in range(len(user2_list)-1):\n",
    "            for j in range(i,len(user2_list)):\n",
    "                if (user2_list[i],user2_list[j]) in list_edge:\n",
    "                    list_edge[(user2_list[i],user2_list[j])]+=1\n",
    "                elif (user2_list[j],user2_list[i]) in list_edge:\n",
    "                    list_edge[(user2_list[j],user2_list[i])]+=1\n",
    "                else:\n",
    "                    list_edge[(user2_list[i],user2_list[j])]=1\n",
    "    \n",
    "G.add_weighted_edges_from([i+(list_edge[i],) for i in list_edge]) "
   ]
  },
  {
   "cell_type": "code",
   "execution_count": 41,
   "metadata": {},
   "outputs": [
    {
     "data": {
      "text/plain": [
       "5822"
      ]
     },
     "execution_count": 41,
     "metadata": {},
     "output_type": "execute_result"
    }
   ],
   "source": [
    "G.number_of_nodes()"
   ]
  },
  {
   "cell_type": "code",
   "execution_count": 42,
   "metadata": {},
   "outputs": [
    {
     "data": {
      "text/plain": [
       "6254"
      ]
     },
     "execution_count": 42,
     "metadata": {},
     "output_type": "execute_result"
    }
   ],
   "source": [
    "G.number_of_edges()"
   ]
  },
  {
   "cell_type": "code",
   "execution_count": 45,
   "metadata": {},
   "outputs": [
    {
     "data": {
      "image/png": "[encoded data removed]",
      "text/plain": [
       "<Figure size 432x288 with 1 Axes>"
      ]
     },
     "metadata": {},
     "output_type": "display_data"
    }
   ],
   "source": [
    "nx.draw_networkx(G,with_labels=False)"
   ]
  },
  {
   "cell_type": "code",
   "execution_count": null,
   "metadata": {},
   "outputs": [],
   "source": []
  }
 ],
 "metadata": {
  "kernelspec": {
   "display_name": "Python 3",
   "language": "python",
   "name": "python3"
  },
  "language_info": {
   "codemirror_mode": {
    "name": "ipython",
    "version": 3
   },
   "file_extension": ".py",
   "mimetype": "text/x-python",
   "name": "python",
   "nbconvert_exporter": "python",
   "pygments_lexer": "ipython3",
   "version": "3.8.5"
  }
 },
 "nbformat": 4,
 "nbformat_minor": 5
}
