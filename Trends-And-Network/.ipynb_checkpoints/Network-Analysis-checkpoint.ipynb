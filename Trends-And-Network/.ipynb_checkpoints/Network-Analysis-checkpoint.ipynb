{
 "cells": [
  {
   "cell_type": "code",
   "execution_count": 2,
   "metadata": {},
   "outputs": [],
   "source": [
    "# Import packages\n",
    "import numpy as np\n",
    "import pandas as pd\n",
    "import matplotlib.pyplot as plt\n",
    "import networkx as nx"
   ]
  },
  {
   "cell_type": "code",
   "execution_count": 4,
   "metadata": {},
   "outputs": [],
   "source": [
    "df_train = pd.read_csv('../assets/df_train_full_info.csv')\n",
    "df_dev = pd.read_csv('../assets/df_dev_full_info.csv')\n",
    "df_test = pd.read_csv('../assets/df_test_full_info.csv')\n",
    "df = pd.concat([df_train,df_dev,df_test])\n",
    "# Network analysis requires strongly on the twitter information scraped from the API. \n",
    "# Therefore we eliminate all those tweets which we did not scrape successfully right in the first step.\n",
    "df = df[df['Response-Code']=='Successful']"
   ]
  },
  {
   "cell_type": "code",
   "execution_count": 8,
   "metadata": {},
   "outputs": [],
   "source": [
    "df_harvey = df[df['place'].str.startswith('harvey')]"
   ]
  },
  {
   "cell_type": "code",
   "execution_count": 11,
   "metadata": {},
   "outputs": [
    {
     "data": {
      "text/plain": [
       "5416                                                   []\n",
       "5417                                                   []\n",
       "5421    [{'screen_name': 'realDonaldTrump', 'name': 'D...\n",
       "5422    [{'screen_name': 'TTFCA', 'name': 'TTFCA', 'id...\n",
       "5423    [{'screen_name': 'EliKulp', 'name': 'Eli Kulp'...\n",
       "                              ...                        \n",
       "1711    [{'screen_name': 'Lion_Athletics', 'name': 'A&...\n",
       "1712    [{'screen_name': 'realDonaldTrump', 'name': 'D...\n",
       "1713    [{'screen_name': 'SandhyaABC7', 'name': 'Sandh...\n",
       "1714                                                   []\n",
       "1715                                                   []\n",
       "Name: entities, Length: 6122, dtype: object"
      ]
     },
     "execution_count": 11,
     "metadata": {},
     "output_type": "execute_result"
    }
   ],
   "source": [
    "df_harvey['entities'].map(lambda x:eval(x)['user_mentions'])"
   ]
  },
  {
   "cell_type": "code",
   "execution_count": null,
   "metadata": {},
   "outputs": [],
   "source": []
  }
 ],
 "metadata": {
  "kernelspec": {
   "display_name": "Python 3",
   "language": "python",
   "name": "python3"
  },
  "language_info": {
   "codemirror_mode": {
    "name": "ipython",
    "version": 3
   },
   "file_extension": ".py",
   "mimetype": "text/x-python",
   "name": "python",
   "nbconvert_exporter": "python",
   "pygments_lexer": "ipython3",
   "version": "3.8.5"
  }
 },
 "nbformat": 4,
 "nbformat_minor": 5
}
