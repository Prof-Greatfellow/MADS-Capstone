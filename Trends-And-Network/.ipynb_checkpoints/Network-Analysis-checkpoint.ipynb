{
 "cells": [
  {
   "cell_type": "code",
   "execution_count": 1,
   "id": "familiar-difference",
   "metadata": {},
   "outputs": [],
   "source": [
    "# Import packages\n",
    "import numpy as np\n",
    "import pandas as pd\n",
    "import matplotlib.pyplot as plt\n",
    "import networkx as nx"
   ]
  },
  {
   "cell_type": "code",
   "execution_count": null,
   "id": "regulated-complexity",
   "metadata": {},
   "outputs": [],
   "source": [
    "df_train = pd.read_csv('../assets/df_train_full_info.csv')\n",
    "df_dev = pd.read_csv('../assets/df_dev_full_info.csv')\n",
    "df_test = pd.read_csv('../assets/df_test_full_info.csv')\n",
    "df = pd.concat(df_train,df_dev,df_test)\n",
    "# Network analysis requires strongly on the "
   ]
  }
 ],
 "metadata": {
  "kernelspec": {
   "display_name": "Python 3",
   "language": "python",
   "name": "python3"
  },
  "language_info": {
   "codemirror_mode": {
    "name": "ipython",
    "version": 3
   },
   "file_extension": ".py",
   "mimetype": "text/x-python",
   "name": "python",
   "nbconvert_exporter": "python",
   "pygments_lexer": "ipython3",
   "version": "3.8.5"
  }
 },
 "nbformat": 4,
 "nbformat_minor": 5
}
