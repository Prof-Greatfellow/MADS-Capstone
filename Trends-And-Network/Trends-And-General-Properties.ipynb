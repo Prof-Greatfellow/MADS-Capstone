{
 "cells": [
  {
   "cell_type": "markdown",
   "id": "charitable-trunk",
   "metadata": {},
   "source": [
    "Note: For analyzing trends and general properties, there is no need to separate the training set from the dev set and test set. Therefore all three dataframes are concatenated together."
   ]
  },
  {
   "cell_type": "code",
   "execution_count": 1,
   "id": "celtic-winning",
   "metadata": {},
   "outputs": [],
   "source": [
    "import numpy as np\n",
    "import pandas as pd\n",
    "import matplotlib.pyplot as plt"
   ]
  },
  {
   "cell_type": "code",
   "execution_count": 3,
   "id": "amateur-alaska",
   "metadata": {},
   "outputs": [],
   "source": [
    "df_train = pd.read_csv('../assets/df_train_full_info.csv')\n",
    "df_dev = pd.read_csv('../assets/df_dev_full_info.csv')\n",
    "df_test = pd.read_csv('../assets/df_test_full_info.csv')"
   ]
  },
  {
   "cell_type": "code",
   "execution_count": 4,
   "id": "raising-resort",
   "metadata": {},
   "outputs": [],
   "source": [
    "df = pd.concat([df_train,df_dev,df_test])"
   ]
  },
  {
   "cell_type": "code",
   "execution_count": 8,
   "id": "valuable-helping",
   "metadata": {},
   "outputs": [],
   "source": [
    "# Let's first focus on California Wildfires. It's in U.S. so tweets are expected to be more \"normal\"."
   ]
  },
  {
   "cell_type": "code",
   "execution_count": 7,
   "id": "twelve-qualification",
   "metadata": {
    "scrolled": false
   },
   "outputs": [
    {
     "data": {
      "text/html": [
       "<div>\n",
       "<style scoped>\n",
       "    .dataframe tbody tr th:only-of-type {\n",
       "        vertical-align: middle;\n",
       "    }\n",
       "\n",
       "    .dataframe tbody tr th {\n",
       "        vertical-align: top;\n",
       "    }\n",
       "\n",
       "    .dataframe thead th {\n",
       "        text-align: right;\n",
       "    }\n",
       "</style>\n",
       "<table border=\"1\" class=\"dataframe\">\n",
       "  <thead>\n",
       "    <tr style=\"text-align: right;\">\n",
       "      <th></th>\n",
       "      <th></th>\n",
       "      <th>year</th>\n",
       "    </tr>\n",
       "    <tr>\n",
       "      <th>place</th>\n",
       "      <th>disaster</th>\n",
       "      <th></th>\n",
       "    </tr>\n",
       "  </thead>\n",
       "  <tbody>\n",
       "    <tr>\n",
       "      <th>california</th>\n",
       "      <th>wildfires</th>\n",
       "      <td>6667</td>\n",
       "    </tr>\n",
       "    <tr>\n",
       "      <th>canada</th>\n",
       "      <th>wildfires</th>\n",
       "      <td>2025</td>\n",
       "    </tr>\n",
       "    <tr>\n",
       "      <th>cyclone</th>\n",
       "      <th>idai</th>\n",
       "      <td>3555</td>\n",
       "    </tr>\n",
       "    <tr>\n",
       "      <th>ecuador</th>\n",
       "      <th>earthquake</th>\n",
       "      <td>1412</td>\n",
       "    </tr>\n",
       "    <tr>\n",
       "      <th rowspan=\"6\" valign=\"top\">hurricane</th>\n",
       "      <th>dorian</th>\n",
       "      <td>6881</td>\n",
       "    </tr>\n",
       "    <tr>\n",
       "      <th>florence</th>\n",
       "      <td>5663</td>\n",
       "    </tr>\n",
       "    <tr>\n",
       "      <th>harvey</th>\n",
       "      <td>8236</td>\n",
       "    </tr>\n",
       "    <tr>\n",
       "      <th>irma</th>\n",
       "      <td>8495</td>\n",
       "    </tr>\n",
       "    <tr>\n",
       "      <th>maria</th>\n",
       "      <td>6579</td>\n",
       "    </tr>\n",
       "    <tr>\n",
       "      <th>matthew</th>\n",
       "      <td>1493</td>\n",
       "    </tr>\n",
       "    <tr>\n",
       "      <th>italy_earthquake</th>\n",
       "      <th>aug</th>\n",
       "      <td>1084</td>\n",
       "    </tr>\n",
       "    <tr>\n",
       "      <th>kaikoura</th>\n",
       "      <th>earthquake</th>\n",
       "      <td>1984</td>\n",
       "    </tr>\n",
       "    <tr>\n",
       "      <th>kerala</th>\n",
       "      <th>floods</th>\n",
       "      <td>7217</td>\n",
       "    </tr>\n",
       "    <tr>\n",
       "      <th>midwestern_us</th>\n",
       "      <th>floods</th>\n",
       "      <td>1698</td>\n",
       "    </tr>\n",
       "    <tr>\n",
       "      <th>pakistan</th>\n",
       "      <th>earthquake</th>\n",
       "      <td>1768</td>\n",
       "    </tr>\n",
       "    <tr>\n",
       "      <th>puebla_mexico</th>\n",
       "      <th>earthquake</th>\n",
       "      <td>1820</td>\n",
       "    </tr>\n",
       "    <tr>\n",
       "      <th>srilanka</th>\n",
       "      <th>floods</th>\n",
       "      <td>506</td>\n",
       "    </tr>\n",
       "  </tbody>\n",
       "</table>\n",
       "</div>"
      ],
      "text/plain": [
       "                             year\n",
       "place            disaster        \n",
       "california       wildfires   6667\n",
       "canada           wildfires   2025\n",
       "cyclone          idai        3555\n",
       "ecuador          earthquake  1412\n",
       "hurricane        dorian      6881\n",
       "                 florence    5663\n",
       "                 harvey      8236\n",
       "                 irma        8495\n",
       "                 maria       6579\n",
       "                 matthew     1493\n",
       "italy_earthquake aug         1084\n",
       "kaikoura         earthquake  1984\n",
       "kerala           floods      7217\n",
       "midwestern_us    floods      1698\n",
       "pakistan         earthquake  1768\n",
       "puebla_mexico    earthquake  1820\n",
       "srilanka         floods       506"
      ]
     },
     "execution_count": 7,
     "metadata": {},
     "output_type": "execute_result"
    }
   ],
   "source": [
    "df.groupby(by=['place','disaster']).agg({'year':'count'})"
   ]
  },
  {
   "cell_type": "code",
   "execution_count": null,
   "id": "regional-speaking",
   "metadata": {},
   "outputs": [],
   "source": []
  }
 ],
 "metadata": {
  "kernelspec": {
   "display_name": "Python 3",
   "language": "python",
   "name": "python3"
  },
  "language_info": {
   "codemirror_mode": {
    "name": "ipython",
    "version": 3
   },
   "file_extension": ".py",
   "mimetype": "text/x-python",
   "name": "python",
   "nbconvert_exporter": "python",
   "pygments_lexer": "ipython3",
   "version": "3.8.5"
  }
 },
 "nbformat": 4,
 "nbformat_minor": 5
}
