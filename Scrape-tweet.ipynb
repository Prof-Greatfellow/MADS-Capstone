{
 "cells": [
  {
   "cell_type": "code",
   "execution_count": null,
   "id": "reflected-passion",
   "metadata": {},
   "outputs": [],
   "source": [
    "# Import packages\n",
    "import re\n",
    "import os\n",
    "import numpy as np\n",
    "import pandas as pd\n",
    "import tweepy\n",
    "import json\n",
    "import time"
   ]
  },
  {
   "cell_type": "code",
   "execution_count": null,
   "id": "behind-lobby",
   "metadata": {},
   "outputs": [],
   "source": [
    "# Load in the datasets we have cleaned\n",
    "\n",
    "# Li, Please download these three CSV files at the corresponding sharing link, and put them in the assets/ folder.\n",
    "df_train = pd.read_csv('assets/df_train.csv')  # https://drive.google.com/file/d/17uAbAVHVSEYsia1_ERaVuT6jXYZ8MXUu/view?usp=sharing\n",
    "df_dev = pd.read_csv('assets/df_dev.csv') # https://drive.google.com/file/d/1Fpk731OQ-W97M30IX8LMlYmKoQKoqpZA/view?usp=sharing\n",
    "df_test = pd.read_csv('assets/df_test.csv') # https://drive.google.com/file/d/1sgAFBetzILHROqBgj19moUASyEmSlHTO/view?usp=sharing"
   ]
  },
  {
   "cell_type": "code",
   "execution_count": null,
   "id": "therapeutic-arabic",
   "metadata": {},
   "outputs": [],
   "source": [
    "# Li, Please replace the blanks with the key set you retrieved from your Twitter Developer Account.\n",
    "\n",
    "# API key and API secret key should be coming from one popup in the developer account.\n",
    "API_key = '___'  \n",
    "API_secret = '___'\n",
    "\n",
    "# Access Token should be coming from another popup (maybe after you created an APP in the developer account)\n",
    "access_token = '___' \n",
    "access_token_secret = '___'\n",
    "\n",
    "auth = tweepy.OAuthHandler(API_key, API_secret)\n",
    "auth.set_access_token(access_token, access_token_secret)\n",
    "api = tweepy.API(auth,wait_on_rate_limit = True,wait_on_rate_limit_notify = False)\n",
    "# The API should be waiting if it reaches rate limits while not producing notifications."
   ]
  },
  {
   "cell_type": "code",
   "execution_count": null,
   "id": "dominant-gasoline",
   "metadata": {},
   "outputs": [],
   "source": [
    "# Scrape info on the test set\n",
    "# This part needs constant care! I haven't really reached the rate limit so I don't know if this will work fine.\n",
    "# After scraping every one hundred tweets, automatically save the file.\n",
    "# If it reaches an ERROR at some point in the loop, try restarting from where the file leaves off.\n",
    "\n",
    "df_test_scrape = pd.DataFrame()\n",
    "for i,tweet_id in enumerate(df_test['tweet_id']):\n",
    "    df_test_scrape = df_test_scrape.append(api.get_status(id=tweet_id)._json,ignore_index=True)\n",
    "    if not i%100:\n",
    "        df_test_scrape.to_csv('assets/df_test_scrape.csv')"
   ]
  },
  {
   "cell_type": "code",
   "execution_count": null,
   "id": "recent-headset",
   "metadata": {},
   "outputs": [],
   "source": [
    "# Scrape info on the dev set\n",
    "# Same tips as the last block.\n",
    "\n",
    "df_dev_scrape = pd.DataFrame()\n",
    "for i,tweet_id in enumerate(df_dev['tweet_id']):\n",
    "    df_dev_scrape = df_dev_scrape.append(api.get_status(id=tweet_id)._json,ignore_index=True)\n",
    "    if not i%100:\n",
    "        df_dev_scrape.to_csv('assets/df_dev_scrape.csv')"
   ]
  },
  {
   "cell_type": "code",
   "execution_count": null,
   "id": "hydraulic-hydrogen",
   "metadata": {},
   "outputs": [],
   "source": [
    "# Scrape info on the training set (takes the most time!)\n",
    "# Same tips as the last block.\n",
    "\n",
    "df_train_scrape = pd.DataFrame()\n",
    "for i,tweet_id in enumerate(df_train['tweet_id']):\n",
    "    df_train_scrape = df_train_scrape.append(api.get_status(id=tweet_id)._json,ignore_index=True)\n",
    "    if not i%100:\n",
    "        df_train_scrape.to_csv('assets/df_train_scrape.csv')"
   ]
  },
  {
   "cell_type": "code",
   "execution_count": null,
   "id": "precise-music",
   "metadata": {},
   "outputs": [],
   "source": []
  }
 ],
 "metadata": {
  "kernelspec": {
   "display_name": "Python 3",
   "language": "python",
   "name": "python3"
  },
  "language_info": {
   "codemirror_mode": {
    "name": "ipython",
    "version": 3
   },
   "file_extension": ".py",
   "mimetype": "text/x-python",
   "name": "python",
   "nbconvert_exporter": "python",
   "pygments_lexer": "ipython3",
   "version": "3.8.5"
  }
 },
 "nbformat": 4,
 "nbformat_minor": 5
}
