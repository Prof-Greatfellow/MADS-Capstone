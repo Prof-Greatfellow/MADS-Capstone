{
 "cells": [
  {
   "cell_type": "code",
   "execution_count": 1,
   "id": "63f2acd1",
   "metadata": {},
   "outputs": [],
   "source": [
    "import pandas as pd\n",
    "import numpy as np"
   ]
  },
  {
   "cell_type": "code",
   "execution_count": 2,
   "id": "ec298fcd",
   "metadata": {},
   "outputs": [],
   "source": [
    "def parse_coordinates(df):\n",
    "    if pd.isnull(df['coordinates']):\n",
    "        return np.nan, np.nan, np.nan\n",
    "    coordinates = eval(df['coordinates'])\n",
    "    return coordinates['type'], coordinates['coordinates'][0], coordinates['coordinates'][1]\n",
    "\n",
    "def parse_entities(df):\n",
    "    if pd.isnull(df['entities']):\n",
    "        return [], [], [], [], [], []\n",
    "    entities = eval(df['entities'])\n",
    "    hashtags = [hashtag['text'] for hashtag in entities['hashtags']]\n",
    "    urls = [url['url'] for url in entities['urls']]\n",
    "    user_mentions_id_str = [user_mention['id_str'] for user_mention in entities['user_mentions']]\n",
    "    user_mentions_name = [user_mention['name'] for user_mention in entities['user_mentions']]\n",
    "    user_mentions_screen_name = [user_mention['screen_name'] for user_mention in entities['user_mentions']]\n",
    "    symbols = [symbol['text'] for symbol in entities['symbols']]\n",
    "\n",
    "    return hashtags, urls, user_mentions_id_str, user_mentions_name, user_mentions_screen_name, symbols\n",
    "\n",
    "def parse_tweeter_location(df):\n",
    "    if pd.isnull(df['tweeter_location']):\n",
    "        return np.nan, np.nan, np.nan, np.nan, np.nan, np.nan, []\n",
    "    tweeter_location = eval(df['tweeter_location'])\n",
    "\n",
    "    return tweeter_location['place_type'], tweeter_location['name'], tweeter_location['full_name'], tweeter_location['country_code'], tweeter_location['country'], tweeter_location['bounding_box']['type'], tweeter_location['bounding_box']['coordinates']\n",
    "\n",
    "def parse_user(df):\n",
    "    if pd.isnull(df['user']):\n",
    "        return np.nan, np.nan, np.nan, np.nan, np.nan, np.nan, np.nan, np.nan, np.nan, np.nan\n",
    "    user = eval(df['user'])\n",
    "\n",
    "    return user['id_str'], user['name'], user['screen_name'], user['location'], user['verified'], user['followers_count'], user['friends_count'], user['listed_count'], user['statuses_count'], user['created_at']\n",
    "\n",
    "def parse_tweet(df):\n",
    "    df['coordinates_type'], df['coordinates_longitude'], df['coordinates_altitude'] = zip(*df.apply(parse_coordinates, axis=1))\n",
    "    df['entities_hashtags'], df['entities_urls'], df['entities_user_mentions_id_str'], df['entities_user_mentions_name'], df['entities_user_mentions_screen_name'], df['entities_symbols'] = zip(*df.apply(parse_entities, axis=1))\n",
    "    df['tweeter_location_place_type'], df['tweeter_location_name'], df['tweeter_location_full_name'], df['tweeter_location_country_code'], df['tweeter_location_country'], df['tweeter_location_bounding_box_type'], df['tweeter_location_bounding_box_coordinates'] = zip(*df.apply(parse_tweeter_location, axis=1))\n",
    "    df['user_id_str'], df['user_name'], df['user_screen_name'], df['user_location'], df['user_verified'], df['user_followers_count'], df['user_friends_count'], df['user_listed_count'], df['user_statuses_count'], df['user_created_at'] = zip(*df.apply(parse_user, axis=1))\n",
    "    df['created_at'] = pd.to_datetime(df['created_at'])\n",
    "    df['user_created_at'] = pd.to_datetime(df['user_created_at'])\n",
    "    return df"
   ]
  },
  {
   "cell_type": "code",
   "execution_count": 3,
   "id": "11d9489b",
   "metadata": {},
   "outputs": [],
   "source": [
    "df_train = pd.read_csv('assets/df_train_full_info.csv')\n",
    "df_dev = pd.read_csv('assets/df_dev_full_info.csv')\n",
    "df_test = pd.read_csv('assets/df_test_full_info.csv')"
   ]
  },
  {
   "cell_type": "code",
   "execution_count": 4,
   "id": "b01fd2a6",
   "metadata": {},
   "outputs": [
    {
     "name": "stderr",
     "output_type": "stream",
     "text": [
      "C:\\Users\\dlin\\AppData\\Local\\Continuum\\anaconda3\\envs\\capstone\\lib\\site-packages\\numpy\\core\\_asarray.py:102: VisibleDeprecationWarning: Creating an ndarray from ragged nested sequences (which is a list-or-tuple of lists-or-tuples-or ndarrays with different lengths or shapes) is deprecated. If you meant to do this, you must specify 'dtype=object' when creating the ndarray.\n",
      "  return array(a, dtype, copy=False, order=order)\n"
     ]
    }
   ],
   "source": [
    "df_train_parsed = parse_tweet(df_train)\n",
    "df_dev_parsed = parse_tweet(df_dev)\n",
    "df_test_parsed = parse_tweet(df_test)"
   ]
  },
  {
   "cell_type": "code",
   "execution_count": 7,
   "id": "47152ca2",
   "metadata": {},
   "outputs": [],
   "source": [
    "df_train_parsed.to_csv('assets/df_train_expand.csv', index=False)\n",
    "df_dev_parsed.to_csv('assets/df_dev_expand.csv', index=False)\n",
    "df_test_parsed.to_csv('assets/df_test_expand.csv', index=False)"
   ]
  },
  {
   "cell_type": "code",
   "execution_count": null,
   "id": "b1075283",
   "metadata": {},
   "outputs": [],
   "source": []
  }
 ],
 "metadata": {
  "kernelspec": {
   "display_name": "Python 3",
   "language": "python",
   "name": "python3"
  },
  "language_info": {
   "codemirror_mode": {
    "name": "ipython",
    "version": 3
   },
   "file_extension": ".py",
   "mimetype": "text/x-python",
   "name": "python",
   "nbconvert_exporter": "python",
   "pygments_lexer": "ipython3",
   "version": "3.8.8"
  }
 },
 "nbformat": 4,
 "nbformat_minor": 5
}
