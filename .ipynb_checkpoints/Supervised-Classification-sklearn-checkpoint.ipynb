{
 "cells": [
  {
   "cell_type": "code",
   "execution_count": 95,
   "metadata": {},
   "outputs": [],
   "source": [
    "# Import packages\n",
    "import warnings\n",
    "warnings.filterwarnings('ignore')\n",
    "\n",
    "import numpy as np\n",
    "import pandas as pd\n",
    "import matplotlib.pyplot as plt\n",
    "from sklearn.linear_model import LogisticRegression\n",
    "from sklearn.metrics import accuracy_score,precision_score,recall_score,f1_score\n",
    "from sklearn.feature_extraction.text import CountVectorizer,TfidfVectorizer\n",
    "from gensim.parsing.preprocessing import preprocess_string"
   ]
  },
  {
   "cell_type": "code",
   "execution_count": 104,
   "metadata": {},
   "outputs": [],
   "source": [
    "# Import datasets\n",
    "df_train = pd.read_csv('assets/df_train.csv',index_col=0)\n",
    "df_test = pd.read_csv('assets/df_test.csv',index_col=0)"
   ]
  },
  {
   "cell_type": "code",
   "execution_count": 108,
   "metadata": {},
   "outputs": [],
   "source": [
    "# Preprocess Strings (Lemmatize, Remove Stopwords, etc.)\n",
    "df_train['tweet_text'] = df_train['tweet_text'].apply(lambda x:\" \".join(preprocess_string(x)))\n",
    "df_test['tweet_text'] = df_test['tweet_text'].apply(lambda x:\" \".join(preprocess_string(x)))"
   ]
  },
  {
   "cell_type": "code",
   "execution_count": 164,
   "metadata": {},
   "outputs": [],
   "source": [
    "# Train TfIdf vectorizer and remove\n",
    "vec_tfidf = TfidfVectorizer(ngram_range=(1, 2), max_df=0.9, min_df=1,max_features=1000)\n",
    "X_train_tfidf = vec_tfidf.fit_transform(df_train.tweet_text)\n",
    "X_test_tfidf = vec_tfidf.transform(df_test.tweet_text)"
   ]
  },
  {
   "cell_type": "code",
   "execution_count": 165,
   "metadata": {},
   "outputs": [],
   "source": [
    "# map labels to ordinal values\n",
    "unique_labels = df_train['class_label'].unique()\n",
    "dict_label = dict(zip(unique_labels,np.arange(len(unique_labels))))\n",
    "y_train = df_train['class_label'].map(dict_label)\n",
    "y_test = df_test['class_label'].map(dict_label)"
   ]
  },
  {
   "cell_type": "code",
   "execution_count": 166,
   "metadata": {},
   "outputs": [
    {
     "data": {
      "text/plain": [
       "LogisticRegression(max_iter=10000, random_state=42)"
      ]
     },
     "execution_count": 166,
     "metadata": {},
     "output_type": "execute_result"
    }
   ],
   "source": [
    "# Create and fit the logistic regressor\n",
    "lr = LogisticRegression(random_state = 42,max_iter=10000)\n",
    "lr.fit(X_train_tfidf,y_train)"
   ]
  },
  {
   "cell_type": "code",
   "execution_count": 167,
   "metadata": {},
   "outputs": [
    {
     "name": "stdout",
     "output_type": "stream",
     "text": [
      "Accuracy:  0.7342675832892649\n",
      "Precision:  0.7293932397980467\n",
      "Recall:  0.6578913562398816\n",
      "F-1 Score:  0.6824750204675245\n"
     ]
    }
   ],
   "source": [
    "# Test the regressor's performance on the test set.\n",
    "y_test_predict = lr.predict(X_test_tfidf)\n",
    "print('Accuracy: ',accuracy_score(y_test,y_test_predict))\n",
    "print('Precision: ',precision_score(y_test,y_test_predict,average='macro'))\n",
    "print('Recall: ',recall_score(y_test,y_test_predict,average='macro'))\n",
    "print('F-1 Score: ',f1_score(y_test,y_test_predict,average='macro'))"
   ]
  },
  {
   "cell_type": "code",
   "execution_count": 195,
   "metadata": {},
   "outputs": [
    {
     "name": "stdout",
     "output_type": "stream",
     "text": [
      "other_relevant_information : ['irma', 'flood', 'irma victim', 'climat', 'reason', 'aftershock', 'trump', 'hurricaneharvei', 'irma relief', 'dorian']\n",
      "displaced_people_and_evacuations : ['evacu', 'evacue', 'displac', 'shelter', 'flee', 'homeless', 'mandatori', 'resid', 'order', 'million peopl']\n",
      "rescue_volunteering_or_donation_effort : ['donat', 'rescu', 'volunt', 'relief', 'rescuer', 'help', 'aid', 'fundrais', 'rais', 'deliv']\n",
      "caution_and_advice : ['warn', 'emerg', 'tip', 'tornado', 'danger', 'prepar', 'flood', 'edt', 'hurricaneflor', 'declar']\n",
      "sympathy_and_support : ['prai', 'prayer', 'thought', 'heart', 'support', 'allah', 'help', 'condol', 'safe', 'hope']\n",
      "infrastructure_and_utility_damage : ['damag', 'destroi', 'destruct', 'collaps', 'power', 'build', 'home', 'hous', 'road', 'tree']\n",
      "not_humanitarian : ['trump', 'realdonaldtrump', 'job', 'instead', 'blame', 'fuck', 'kill', 'vote', 'tax', 'nebraska']\n",
      "requests_or_urgent_needs : ['help', 'need', 'urgent', 'donat', 'food', 'request', 'medicin', 'emerg', 'requir', 'desper']\n",
      "injured_or_dead_people : ['death', 'dead', 'kill', 'di', 'injur', 'toll', 'peopl di', 'bodi', 'death toll', 'peopl dead']\n",
      "missing_or_found_people : ['miss', 'california', 'peopl', 'search', 'wildfir', 'death', 'death toll', 'toll', 'hundr', 'number']\n"
     ]
    }
   ],
   "source": [
    "# What are the most important words in identifying each category?\n",
    "# We can see the most important words are highly\n",
    "top_words = 10\n",
    "coef_sorted = np.zeros_like(lr.coef_)\n",
    "for category_idx in range(lr.coef_.shape[0]):\n",
    "    index_sort = np.argsort(lr.coef_[category_idx,:])\n",
    "    top_names = [vec_tfidf.get_feature_names()[index_sort[-i]] for i in range(1,top_words+1)]\n",
    "    print(unique_labels[category_idx],':',top_names)\n",
    "    coef_sorted[category_idx,:] = [lr.coef_[category_idx,index_sort[-i]] for i in range(1,coef_sorted.shape[1]+1)]"
   ]
  },
  {
   "cell_type": "code",
   "execution_count": 196,
   "metadata": {},
   "outputs": [
    {
     "data": {
      "text/plain": [
       "array([[ 1.91054059,  1.8006136 ,  1.38101061, ..., -4.75507747,\n",
       "        -5.3098092 , -6.01253511],\n",
       "       [16.67373841, 11.18780605, 10.32696891, ..., -1.4965747 ,\n",
       "        -1.86687814, -2.04884464],\n",
       "       [12.72326348,  9.19608194,  7.61370728, ..., -2.75010399,\n",
       "        -2.85265929, -2.8763219 ],\n",
       "       ...,\n",
       "       [ 7.37849671,  6.95330673,  4.29224155, ..., -1.92557213,\n",
       "        -2.29011148, -2.80839401],\n",
       "       [13.296967  , 12.65084943, 11.55468361, ..., -1.88851023,\n",
       "        -2.02194414, -3.2000733 ],\n",
       "       [ 9.71159419,  3.32845214,  2.88254331, ..., -0.74085609,\n",
       "        -0.94242736, -1.01988853]])"
      ]
     },
     "execution_count": 196,
     "metadata": {},
     "output_type": "execute_result"
    }
   ],
   "source": [
    "coef_sorted"
   ]
  },
  {
   "cell_type": "code",
   "execution_count": 217,
   "metadata": {},
   "outputs": [
    {
     "data": {
      "text/plain": [
       "<matplotlib.legend.Legend at 0x29e585e6a90>"
      ]
     },
     "execution_count": 217,
     "metadata": {},
     "output_type": "execute_result"
    },
    {
     "data": {
      "image/png": "[encoded data removed]",
      "text/plain": [
       "<Figure size 432x288 with 1 Axes>"
      ]
     },
     "metadata": {
      "needs_background": "light"
     },
     "output_type": "display_data"
    }
   ],
   "source": [
    "for category_idx in range(coef_sorted.shape[0]):\n",
    "    plt.plot(np.arange(coef_sorted.shape[1]),coef_sorted[category_idx,:],label=unique_labels[category_idx].replace('_',' '))\n",
    "plt.legend()"
   ]
  },
  {
   "cell_type": "code",
   "execution_count": null,
   "metadata": {},
   "outputs": [],
   "source": []
  }
 ],
 "metadata": {
  "kernelspec": {
   "display_name": "Python 3",
   "language": "python",
   "name": "python3"
  },
  "language_info": {
   "codemirror_mode": {
    "name": "ipython",
    "version": 3
   },
   "file_extension": ".py",
   "mimetype": "text/x-python",
   "name": "python",
   "nbconvert_exporter": "python",
   "pygments_lexer": "ipython3",
   "version": "3.8.5"
  }
 },
 "nbformat": 4,
 "nbformat_minor": 4
}
