{
  "nbformat": 4,
  "nbformat_minor": 0,
  "metadata": {
    "colab": {
      "name": "Unsupervised_learning_NMF.ipynb",
      "provenance": []
    },
    "kernelspec": {
      "name": "python3",
      "display_name": "Python 3"
    },
    "language_info": {
      "name": "python"
    }
  },
  "cells": [
    {
      "cell_type": "code",
      "metadata": {
        "colab": {
          "base_uri": "https://localhost:8080/"
        },
        "id": "Tra3t7suwj9h",
        "outputId": "9fbe14a7-813b-4553-be6b-70eb00ccb50d"
      },
      "source": [
        "pip install \"gensim==3.8.1\""
      ],
      "execution_count": 1,
      "outputs": [
        {
          "output_type": "stream",
          "text": [
            "Requirement already satisfied: gensim==3.8.1 in /usr/local/lib/python3.7/dist-packages (3.8.1)\n",
            "Requirement already satisfied: smart-open>=1.8.1 in /usr/local/lib/python3.7/dist-packages (from gensim==3.8.1) (5.1.0)\n",
            "Requirement already satisfied: numpy>=1.11.3 in /usr/local/lib/python3.7/dist-packages (from gensim==3.8.1) (1.19.5)\n",
            "Requirement already satisfied: six>=1.5.0 in /usr/local/lib/python3.7/dist-packages (from gensim==3.8.1) (1.15.0)\n",
            "Requirement already satisfied: scipy>=0.18.1 in /usr/local/lib/python3.7/dist-packages (from gensim==3.8.1) (1.4.1)\n"
          ],
          "name": "stdout"
        }
      ]
    },
    {
      "cell_type": "code",
      "metadata": {
        "colab": {
          "base_uri": "https://localhost:8080/"
        },
        "id": "y6qomAb3TcuR",
        "outputId": "824bfaca-5f67-46d9-b239-0c6f6ec7b6f4"
      },
      "source": [
        "import nltk\n",
        "nltk.download('punkt')\n",
        "nltk.download('stopwords')\n",
        "import pandas as pd\n",
        "import numpy as np\n",
        "from gensim.corpora import Dictionary\n",
        "from nltk.corpus import stopwords\n",
        "import re\n",
        "from sklearn.feature_extraction.text import TfidfVectorizer\n",
        "from sklearn.decomposition import NMF\n",
        "from gensim.models.nmf import Nmf\n",
        "from gensim.models.coherencemodel import CoherenceModel"
      ],
      "execution_count": 2,
      "outputs": [
        {
          "output_type": "stream",
          "text": [
            "[nltk_data] Downloading package punkt to /root/nltk_data...\n",
            "[nltk_data]   Package punkt is already up-to-date!\n",
            "[nltk_data] Downloading package stopwords to /root/nltk_data...\n",
            "[nltk_data]   Package stopwords is already up-to-date!\n"
          ],
          "name": "stdout"
        }
      ]
    },
    {
      "cell_type": "code",
      "metadata": {
        "colab": {
          "base_uri": "https://localhost:8080/"
        },
        "id": "RoW4lWqxTh3W",
        "outputId": "f05bf39e-89b9-4c54-8d1a-5919b14a29ce"
      },
      "source": [
        "from google.colab import drive\n",
        "drive.mount('/content/drive')"
      ],
      "execution_count": 3,
      "outputs": [
        {
          "output_type": "stream",
          "text": [
            "Drive already mounted at /content/drive; to attempt to forcibly remount, call drive.mount(\"/content/drive\", force_remount=True).\n"
          ],
          "name": "stdout"
        }
      ]
    },
    {
      "cell_type": "code",
      "metadata": {
        "id": "WZGDZMm6Uevg"
      },
      "source": [
        "df = pd.read_csv('/content/drive/Shareddrives/MADS-Capstone-main/assets/df_train_full_info.csv')"
      ],
      "execution_count": 4,
      "outputs": []
    },
    {
      "cell_type": "code",
      "metadata": {
        "id": "CZ91xMd3vP1x"
      },
      "source": [
        "stop_words = stopwords.words('english')\n",
        "def process_text(text):\n",
        "  \n",
        "    tokenizer = nltk.RegexpTokenizer(r\"\\w+\")\n",
        "    text = tokenizer.tokenize(text)\n",
        "    text = [i.lower() for i in text]\n",
        "    text = [re.sub('[0-9]+', '', i) for i in text]\n",
        "    text = [i for i in text if i not in stop_words]\n",
        "    text = [i for i in text if len(i)>1]\n",
        "    text = [i for i in text if ' ' not in i]\n",
        "\n",
        "    return text"
      ],
      "execution_count": 5,
      "outputs": []
    },
    {
      "cell_type": "code",
      "metadata": {
        "id": "SImh1Cocvggx"
      },
      "source": [
        "texts = [process_text(i) for i in df.tweet_text]"
      ],
      "execution_count": 6,
      "outputs": []
    },
    {
      "cell_type": "code",
      "metadata": {
        "colab": {
          "base_uri": "https://localhost:8080/"
        },
        "id": "Tcwzrs6V1cRB",
        "outputId": "8ca8501c-eaf6-491b-d884-d1923c8dc67a"
      },
      "source": [
        "dictionary = Dictionary(texts)\n",
        "\n",
        "# Filter out extremes to limit the number of features\n",
        "dictionary.filter_extremes(\n",
        "    no_below=3,\n",
        "    no_above=0.85,\n",
        "    keep_n=5000\n",
        ")\n",
        "\n",
        "# Create the bag-of-words format (list of (token_id, token_count))\n",
        "corpus = [dictionary.doc2bow(text) for text in texts]\n",
        "\n",
        "# Create a list of the topic numbers we want to try\n",
        "topic_nums = list(np.arange(5, 45 + 1, 5))\n",
        "\n",
        "# Run the nmf model and calculate the coherence score\n",
        "# for each number of topics\n",
        "coherence_scores = []\n",
        "\n",
        "for num in topic_nums:\n",
        "    nmf = Nmf(\n",
        "        corpus=corpus,\n",
        "        num_topics=num,\n",
        "        id2word=dictionary,\n",
        "        chunksize=2000,\n",
        "        passes=5,\n",
        "        kappa=.1,\n",
        "        minimum_probability=0.01,\n",
        "        w_max_iter=300,\n",
        "        w_stop_condition=0.0001,\n",
        "        h_max_iter=100,\n",
        "        h_stop_condition=0.001,\n",
        "        eval_every=10,\n",
        "        normalize=True,\n",
        "        random_state=42\n",
        "    )\n",
        "    \n",
        "    # Run the coherence model to get the score\n",
        "    cm = CoherenceModel(\n",
        "        model=nmf,\n",
        "        texts=texts,\n",
        "        dictionary=dictionary,\n",
        "        coherence='c_v'\n",
        "    )\n",
        "    \n",
        "    coherence_scores.append(round(cm.get_coherence(), 5))\n",
        "\n",
        "# Get the number of topics with the highest coherence score\n",
        "scores = list(zip(topic_nums, coherence_scores))\n",
        "# best_num_topics = sorted(scores, key=itemgetter(1), reverse=True)[0][0]\n",
        "\n",
        "scores"
      ],
      "execution_count": 7,
      "outputs": [
        {
          "output_type": "execute_result",
          "data": {
            "text/plain": [
              "[(5, 0.29022),\n",
              " (10, 0.32145),\n",
              " (15, 0.34299),\n",
              " (20, 0.38206),\n",
              " (25, 0.42394),\n",
              " (30, 0.39551),\n",
              " (35, 0.41725),\n",
              " (40, 0.41418),\n",
              " (45, 0.40763)]"
            ]
          },
          "metadata": {
            "tags": []
          },
          "execution_count": 7
        }
      ]
    },
    {
      "cell_type": "code",
      "metadata": {
        "id": "phx09XcxCcsE"
      },
      "source": [
        "import seaborn as sns\n",
        "import matplotlib.pyplot as plt"
      ],
      "execution_count": 8,
      "outputs": []
    },
    {
      "cell_type": "code",
      "metadata": {
        "colab": {
          "base_uri": "https://localhost:8080/",
          "height": 350
        },
        "id": "e34oYNHPCfxk",
        "outputId": "a3e7bd0b-7ca6-4790-ad49-f06c32a8845e"
      },
      "source": [
        "sns.color_palette(\"hls\", 8)\n",
        "sns.set_style(\"white\")\n",
        "plt.figure(figsize=(15,4))\n",
        "sns.lineplot([i[0] for i in scores], [i[1] for i in scores])\n",
        "plt.xlabel('Topic Nums')\n",
        "plt.ylabel('Coherence Score')"
      ],
      "execution_count": 17,
      "outputs": [
        {
          "output_type": "stream",
          "text": [
            "/usr/local/lib/python3.7/dist-packages/seaborn/_decorators.py:43: FutureWarning: Pass the following variables as keyword args: x, y. From version 0.12, the only valid positional argument will be `data`, and passing other arguments without an explicit keyword will result in an error or misinterpretation.\n",
            "  FutureWarning\n"
          ],
          "name": "stderr"
        },
        {
          "output_type": "execute_result",
          "data": {
            "text/plain": [
              "Text(0, 0.5, 'Coherence Score')"
            ]
          },
          "metadata": {
            "tags": []
          },
          "execution_count": 17
        },
        {
          "output_type": "display_data",
          "data": {
            "image/png": "[encoded data removed]",
            "text/plain": [
              "<Figure size 1080x288 with 1 Axes>"
            ]
          },
          "metadata": {
            "tags": []
          }
        }
      ]
    },
    {
      "cell_type": "code",
      "metadata": {
        "id": "pmWxolPGHl5w"
      },
      "source": [
        "tfidf_vectorizer = TfidfVectorizer(\n",
        "    min_df=3,\n",
        "    max_df=0.85,\n",
        "    max_features=5000,\n",
        "    ngram_range=(1, 2),\n",
        "    preprocessor=' '.join\n",
        ")\n",
        "tfidf = tfidf_vectorizer.fit_transform(texts)"
      ],
      "execution_count": 10,
      "outputs": []
    },
    {
      "cell_type": "code",
      "metadata": {
        "id": "tAn5EzGpHnd7"
      },
      "source": [
        "nmf = NMF(\n",
        "    n_components=25,\n",
        "    init='nndsvd'\n",
        ").fit(tfidf)"
      ],
      "execution_count": 18,
      "outputs": []
    },
    {
      "cell_type": "code",
      "metadata": {
        "id": "YxqHXNnHDowe"
      },
      "source": [
        "A = tfidf_vectorizer.transform(texts)\n",
        "W = nmf.components_\n",
        "H = nmf.transform(A)"
      ],
      "execution_count": 19,
      "outputs": []
    },
    {
      "cell_type": "code",
      "metadata": {
        "id": "SgKTBcqsDqdb"
      },
      "source": [
        "# Get the residuals for each document\n",
        "r = np.zeros(A.shape[0])\n",
        "for row in range(A.shape[0]):\n",
        "    r[row] = np.linalg.norm(A[row, :] - H[row, :].dot(W), 'fro')"
      ],
      "execution_count": 20,
      "outputs": []
    },
    {
      "cell_type": "code",
      "metadata": {
        "colab": {
          "base_uri": "https://localhost:8080/",
          "height": 352
        },
        "id": "DfR7aeu0GqxM",
        "outputId": "121d9bbd-98b2-4736-84f4-255ebc817b91"
      },
      "source": [
        "plt.figure(figsize=(20,5))\n",
        "plt.plot(r)\n",
        "plt.xlabel('Tweet_id')\n",
        "plt.ylabel('Residual')"
      ],
      "execution_count": 21,
      "outputs": [
        {
          "output_type": "execute_result",
          "data": {
            "text/plain": [
              "Text(0, 0.5, 'Residual')"
            ]
          },
          "metadata": {
            "tags": []
          },
          "execution_count": 21
        },
        {
          "output_type": "display_data",
          "data": {
            "image/png": "[encoded data removed]",
            "text/plain": [
              "<Figure size 1440x360 with 1 Axes>"
            ]
          },
          "metadata": {
            "tags": []
          }
        }
      ]
    },
    {
      "cell_type": "code",
      "metadata": {
        "id": "PL8j_QM6Y6-9"
      },
      "source": [
        ""
      ],
      "execution_count": 14,
      "outputs": []
    }
  ]
}